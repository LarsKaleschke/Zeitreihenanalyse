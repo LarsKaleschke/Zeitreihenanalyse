{
 "cells": [
  {
   "cell_type": "markdown",
   "metadata": {},
   "source": [
    "# Singulärwertzerlegung\n",
    "\n",
    "Jede $m\\times n$ Matrix $A$ läßt sich darstellen als\n",
    "\n",
    "$$\\underbrace{A}_{m\\times n}=\\underbrace{U}_{m\\times m} \\underbrace{s}_{m\\times n} \\underbrace{V^T}_{n \\times n}$$ \n",
    "\n",
    "wobei $U$ und $V$ orthogonal sind und $s$ diagonal ist. Aus der Orthogonalität folgt, dass die Spaltenvektoren $u_i$ eine Basis des $m-$dimensionalen \"Datenraumes\" und $v_i$ eine Basis des $n$-dimensionalen \"Parameterraumes\" bilden. Die Diagonalelemente $s$ nennt man die singulären Werte von $A$. Diese sind nicht negativ und der Größe nach geordnet\n",
    "\n",
    "$$s_1\\ge s_2\\ge .. \\ge s_m \\ge0$$\n",
    "\n",
    "Ist $p$ die Anzahl (=Rang) der von 0 verschiedenen singulären Werte von $A$, so kann $A$ geschrieben werden als\n",
    "\n",
    "$$\\underbrace{A}_{m\\times n}=\\underbrace{U_p}_{m\\times p} \\underbrace{s_p}_{p\\times p} \\underbrace{V_p^T}_{p \\times n}$$ \n",
    "\n",
    "dabei werden die $U_p$ aus $U$ durch weglassen der Spalten $p+1,..,m$ gebildet ($V_p$ analog). \n",
    "\n",
    "Jeder Vektor $x$ des Parameterraumes kann dargestellt werden als\n",
    "\n",
    "\n",
    "$$x=\\sum_{i=1}^p \\alpha_i v_i + \\sum_{j=p+1}^n \\beta_j v_j$$\n",
    "\n",
    "oder als\n",
    "\n",
    "$$\\bf x= x^{part} + x^{null}$$\n",
    "\n",
    "mit $\\bf Ax^{null}=0$.\n",
    "\n"
   ]
  },
  {
   "cell_type": "markdown",
   "metadata": {},
   "source": [
    "## Unterbestimmte Gleichungssystemte\n",
    "\n",
    "Sei $Ax=d$ ein zu lösendes Gleichungssystem. Ist \n",
    "\n",
    "$${\\rm rang}(A)=p\\lt n$$\n",
    "\n",
    "dann ist das Gleichungssystem nicht eindeutig lösbar. Denn hat man eine partikuläre Lösung $\\bf x^{part}$ gefunden, die $F=||\\bf Ax^{part}-d||$ minimiert, so minimiert auch $\\bf x=x^{part}+x^{null}$ die Funktion $F$\n",
    "\n",
    "Strategie: Wähle aus der unendlichen Anzahl von Lösungen die spezielle Lösung mit dem \"kleinsten\" Betrag ${\\rm min}(||x||)$. Die \"kleinste\" Optimallösung ist gegeben durch\n",
    "\n",
    "$$x^{part}=V_p S_p^{-1}U_p^{T}d$$\n",
    "\n",
    "Für überbestimmte Gleichungssysteme ist $x^{part}$ die eindeutige Optimallösung\n",
    "\n",
    "## Fazit\n",
    "\n",
    "Die Singulärwertzerlegung der Matrix gibt uns Informationen über den \"Zustand\" des Gleichungssystems. Im Fall eines unterbestimmten Gleichungssystems liefert $x^{part}=V_p S_p^{-1}U_p^{T}d$ die betragskleinste Optimallösung, im Falle eines überbestimmten Systems ist diese Lösung eindeutig.\n",
    "\n",
    "\n"
   ]
  },
  {
   "cell_type": "markdown",
   "metadata": {},
   "source": [
    "## Kondition einer Matrix \n",
    "\n",
    "Sei $A$ eine beliebige $m\\times n$ Matrix und\n",
    "\n",
    "$$\\underbrace{A}_{m\\times n}=\\underbrace{U_p}_{m\\times p} \\underbrace{s_p}_{p\\times p} \\underbrace{V_p^T}_{p \\times n}$$ \n",
    "\n",
    "ihre Singulärwertzerlegung mit $p\\le \\min(m,n)$. Dann ist die Kondition der Matrix $A$ definiert als Quotient des größten und kleinsten Singulärwert\n",
    "\n",
    "$${\\rm cond}(A)=\\frac{S_1}{S_p}$$\n",
    "\n",
    "VORSICHT bei großen Werten der Kondition! Eine Matrix $A$ mit ${\\rm cond}(A)>>1$ nennt man \"schlecht konditioniert\" (ill-conditioned). Es gibt zwischen den Matrix-Zeilen \"fast\" lineare Abhängigkeiten.\n",
    "\n",
    "Die Kondition ist ein Maß für die Änderung des Lösungsvektors $\\delta x$ bei Änderung der Daten $\\delta d$. \n",
    "\n",
    "$$||\\delta x||\\sim {\\rm cond}(A)||\\delta d||$$\n",
    "\n",
    "# Beispiel: schlecht konditioniertes Gleichungssystem \n",
    "\n"
   ]
  },
  {
   "cell_type": "code",
   "execution_count": 36,
   "metadata": {
    "collapsed": false
   },
   "outputs": [
    {
     "data": {
      "text/plain": [
       "array([[ 1.  ,  1.  ],\n",
       "       [ 1.01,  1.  ]])"
      ]
     },
     "execution_count": 36,
     "metadata": {},
     "output_type": "execute_result"
    }
   ],
   "source": [
    "from pylab import *\n",
    "A=array([(1.0,1.0),(1.01,1.)],dtype=float)\n",
    "A"
   ]
  },
  {
   "cell_type": "code",
   "execution_count": 37,
   "metadata": {
    "collapsed": true
   },
   "outputs": [
    {
     "data": {
      "text/plain": [
       "402.00751248429634"
      ]
     },
     "execution_count": 37,
     "metadata": {},
     "output_type": "execute_result"
    }
   ],
   "source": [
    "cond(A)"
   ]
  },
  {
   "cell_type": "code",
   "execution_count": 39,
   "metadata": {
    "collapsed": false
   },
   "outputs": [],
   "source": [
    "U,s,V=svd(A)"
   ]
  },
  {
   "cell_type": "code",
   "execution_count": 35,
   "metadata": {
    "collapsed": false
   },
   "outputs": [
    {
     "data": {
      "text/plain": [
       "1.4142135623730951"
      ]
     },
     "execution_count": 35,
     "metadata": {},
     "output_type": "execute_result"
    }
   ],
   "source": [
    "sqrt(2)"
   ]
  },
  {
   "cell_type": "code",
   "execution_count": 6,
   "metadata": {
    "collapsed": false
   },
   "outputs": [
    {
     "data": {
      "text/plain": [
       "4002.0007501252289"
      ]
     },
     "execution_count": 6,
     "metadata": {},
     "output_type": "execute_result"
    }
   ],
   "source": [
    "s[0]/s[1]"
   ]
  },
  {
   "cell_type": "code",
   "execution_count": 40,
   "metadata": {
    "collapsed": false
   },
   "outputs": [
    {
     "data": {
      "text/plain": [
       "array([ 2.0050125,  0.0049875])"
      ]
     },
     "execution_count": 40,
     "metadata": {},
     "output_type": "execute_result"
    }
   ],
   "source": [
    "s"
   ]
  },
  {
   "cell_type": "code",
   "execution_count": 18,
   "metadata": {
    "collapsed": false
   },
   "outputs": [
    {
     "data": {
      "text/plain": [
       "array([-0.1  ,  2.101])"
      ]
     },
     "execution_count": 18,
     "metadata": {},
     "output_type": "execute_result"
    }
   ],
   "source": [
    "d=array([2.0,2.001]).T\n",
    "# Optimal-Lösung\n",
    "x=dot(V,dot(inv(diag(s)),dot(U.T,d)))\n",
    "x"
   ]
  },
  {
   "cell_type": "code",
   "execution_count": 19,
   "metadata": {
    "collapsed": false
   },
   "outputs": [
    {
     "data": {
      "text/plain": [
       "array([-2.  ,  4.02])"
      ]
     },
     "execution_count": 19,
     "metadata": {},
     "output_type": "execute_result"
    }
   ],
   "source": [
    "d=array([2.0,2.02]).T # kleine Änderung, z.B. durch Meßfehler\n",
    "# Optimal-Lösung\n",
    "x=dot(V,dot(inv(diag(s)),dot(U.T,d)))\n",
    "x"
   ]
  },
  {
   "cell_type": "markdown",
   "metadata": {},
   "source": [
    "# VORSICHT!!!\n",
    "\n",
    "\n",
    "Bei schlecht konditionierten Gleichungssystemen ist größte Vorsicht geboten! Kleine Änderungen in den Datenvektoren, z.B. durch Messungenauigkeiten, führen zu großen Änderungen in der Lösung für die zu bestimmenden Parameter."
   ]
  },
  {
   "cell_type": "code",
   "execution_count": 46,
   "metadata": {
    "collapsed": false
   },
   "outputs": [
    {
     "name": "stdout",
     "output_type": "stream",
     "text": [
      "2.62342047842\n",
      "1132.72840879\n",
      "7.3798044618e+19\n"
     ]
    }
   ],
   "source": [
    "A=array([(2.0,3.01),(1.001,-1.)],dtype=float)\n",
    "print cond(A)\n",
    "A=array([(2.0,3.01),(2.001,3.)],dtype=float)\n",
    "print cond(A)\n",
    "A=array([(1,.01),(.01,0.0001)],dtype=float)\n",
    "print cond(A)\n",
    "\n"
   ]
  },
  {
   "cell_type": "code",
   "execution_count": null,
   "metadata": {
    "collapsed": false
   },
   "outputs": [],
   "source": []
  }
 ],
 "metadata": {
  "kernelspec": {
   "display_name": "Python 3",
   "language": "python",
   "name": "python3"
  },
  "language_info": {
   "codemirror_mode": {
    "name": "ipython",
    "version": 3
   },
   "file_extension": ".py",
   "mimetype": "text/x-python",
   "name": "python",
   "nbconvert_exporter": "python",
   "pygments_lexer": "ipython3",
   "version": "3.4.3"
  }
 },
 "nbformat": 4,
 "nbformat_minor": 0
}
