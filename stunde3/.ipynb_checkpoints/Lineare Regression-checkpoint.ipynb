{
 "cells": [
  {
   "cell_type": "markdown",
   "metadata": {},
   "source": [
    "# Lineare Regression\n",
    "## Problemstellung:\n",
    "\n",
    "Für gegebene Daten $d_i\\pm \\sigma_i$ an den Stellen $x_i$ $(i=1 .. N)$ ist die lineare Funktion $f$ (\"Ausgleichsgerade\") \n",
    "\n",
    "$$f=a x +b$$ \n",
    "\n",
    "zu bestimmen, die die Daten \"möglichst gut\" repräsentiert. Dabei soll die Kenntnis über die Fehler berücksichtigt werden, d.h. \"schlechtere\" Daten weniger berücksichtigt werden.\n",
    "\n",
    "Der Fehler $e_i$ für die einzelnen Datenpunkte $d_i$ ist gegeben durch die Abweichung zur Modellgeraden\n",
    "\n",
    "$$e_i=f_i-d_i$$\n",
    "\n",
    "Es liegt ein überbestimmtes Gleichungssystem vor mit den zwei unbekannten Parametern $a$ und $b$ und $N>2$ bekannten Variablen.\n",
    "\n",
    "<img src=\"Linreg_Beispiel.png\">\n"
   ]
  },
  {
   "cell_type": "markdown",
   "metadata": {},
   "source": [
    "## Formalisierung des Problems (Least-Squares Methode):\n",
    "\n",
    "Die Methode der *Summe der quadratischen Abweichungen* (*Least-Squares-Methode*) ist eine mathematische [Optimierung](https://de.wikipedia.org/wiki/Optimierung_%28Mathematik%29). Bei einer Optimierung geht es um das Finden von Minima oder Maxima von *Zielfunktionen*. Die Zielfunktion wird auch als *Fehlerfunktion* oder *Kostenfunktion* bezeichnet.\n",
    "\n",
    "Die *Güte* eines Fits (die *Fehlerfunktion F*) ergibt sich aus der Summe der quadratischen Abweichungen zwischen den Daten und der zu optimierenden Funktion\n",
    "\n",
    "$$\n",
    "F(a,b)=\\sum_{i=1}^{N} \\frac{e_i^2}{\\sigma_i^2}\n",
    "$$\n",
    "\n",
    "### Ziel \n",
    "\n",
    "Gesucht sind die speziellen Parameter $\\hat{a},\\hat{b}$ für die die Fehlerfunktion $F(\\hat{a},\\hat{b})$ minimal wird. Diese gesuchten Parameter führen zu einer *optimalen* Anpassung an die Daten. \n",
    "\n",
    "### Methode \n",
    "\n",
    "Im Minimum von $F$ muss gelten:\n",
    "$$\n",
    "\\frac{\\partial F}{\\partial a}=0\n",
    "$$\n",
    "\n",
    "$$\n",
    "\\frac{\\partial F}{\\partial b}=0\n",
    "$$\n",
    "\n",
    "$$\n",
    "F(a,b)=\\sum_{i=1}^{N} \\frac{e_i^2}{\\sigma_i^2}=\\sum_{i=1}^{N} \\frac{(ax_i+b-d_i)^2 }{\\sigma_i^2}\\\\\n",
    "=\\sum_{i=1}^{N} \\frac{1}{\\sigma_i^2} ( a^2 x_i^2 + 2 a b x_i - 2 a d_i x_i + b^2 - 2 b d_i + d_i^2 )\n",
    "$$\n"
   ]
  },
  {
   "cell_type": "markdown",
   "metadata": {},
   "source": [
    "### Bestimmungsgleichungen für Minimum der quadratischen Abweichung (optimaler Fit)\n",
    "Aus den Ableitungen folgen die Gleichungen für die Bestimmung der optimalen Ausgleichsgeraden $f=\\hat{a} x + \\hat{b}$  \n",
    "\n",
    "$$\n",
    "\\frac{\\partial F}{\\partial a}=0=\\underbrace{(\\sum_{i=1}^{N} \\frac{x_i^2 }{\\sigma_i^2})}_{\\alpha} \\hat{a} + \\underbrace{(\\sum_{i=1}^{N} \\frac{x_i }{\\sigma_i^2})}_{\\beta} \\hat{b} - \\underbrace{(\\sum_{i=1}^{N} \\frac{x_i d_i }{\\sigma_i^2})}_{\\gamma}  \n",
    "$$\n",
    "\n",
    "\n",
    "$$\n",
    "\\frac{\\partial F}{\\partial b}=0=(\\sum_{i=1}^{N} \\frac{x_i }{\\sigma_i^2}) \\hat{a} + (\\sum_{i=1}^{N} \\frac{1 }{\\sigma_i^2}) \\hat{b} - (\\sum_{i=1}^{N} \\frac{d_i }{\\sigma_i^2})\n",
    "$$\n",
    "\n",
    "Vereinfachen wir mit  $\\alpha=\\sum \\frac{x_i^2 }{\\sigma_i^2}$, $\\beta=\\sum \\frac{x_i }{\\sigma_i^2}$, $\\gamma=\\sum \\frac{x_i d_i }{\\sigma_i^2}$, $\\delta=\\sum \\frac{d_i }{\\sigma_i^2}$ und $\\epsilon=\\sum \\frac{1 }{\\sigma_i^2}$, so folgt\n",
    "\n",
    "\n",
    "$$\n",
    "\\alpha \\hat{a}  + \\beta \\hat{b} = \\gamma\n",
    "$$\n",
    "\n",
    "\n",
    "$$\n",
    "\\beta \\hat{a}  + \\epsilon \\hat{b} = \\delta\n",
    "$$\n",
    "\n",
    "Durch Umformen und Einsetzen erhalten wir die Berechnungsformeln für $\\hat{a}$ und $\\hat{b}$\n",
    "\n",
    "\n",
    "$$\n",
    "\\hat{b} = \\frac{ \\alpha \\delta - \\beta \\gamma }{ \\alpha \\epsilon - \\beta^2 }\n",
    "$$\n",
    "\n",
    "$$\n",
    "\\hat{a} = \\frac{  \\gamma - \\beta \\hat{b} }{ \\alpha } \n",
    "$$\n",
    "\n"
   ]
  },
  {
   "cell_type": "markdown",
   "metadata": {},
   "source": [
    "# Aufgabe lineare Regression\n",
    "\n",
    "Gegeben sind die folgenden Datenpunkte $d_i\\pm \\sigma_i$ an den Stellen $x_i$ $(i=1 .. 8)$"
   ]
  },
  {
   "cell_type": "markdown",
   "metadata": {},
   "source": [
    "Programmieren Sie eine Funktion *ausgleichsgerade(x,d,sigma)*, welche die Regressionsparameter $\\hat{a}$ und $\\hat{b}$  berechnet."
   ]
  },
  {
   "cell_type": "code",
   "execution_count": 1,
   "metadata": {
    "collapsed": false
   },
   "outputs": [
    {
     "name": "stdout",
     "output_type": "stream",
     "text": [
      "Populating the interactive namespace from numpy and matplotlib\n"
     ]
    }
   ],
   "source": [
    "%pylab inline\n",
    "from ausgleichsgerade import ausgleichsgerade\n",
    "\n",
    "# Zufällige Beispieldaten\n",
    "x=array([ 0.63,  0.81,  0.36,  0.43,  0.70, 0.57 ,  0.50,  0.88])\n",
    "d=array([ 0.62, -1.37,  0.62, -1.18,  0.75, 0.43 ,  0.84,  0.45])\n",
    "sigma=array([0.06,  0.7,  0.6,  0.9,  0.4, 0.3,  0.3 ,  0.9])\n",
    "\n",
    "# Diese Funktion gilt es zu programmieren\n",
    "a,b=ausgleichsgerade(x,d,sigma)\n",
    "\n",
    "# Erzeuge neue X und Y Werte zum Plotten der Ausgleichsgerade\n",
    "X=linspace(0.2,1)\n",
    "Y=a*X+b\n",
    "\n",
    "# Graphische Ausgabe, siehe oben\n",
    "figure(figsize=(8,6))\n",
    "errorbar(x,d,yerr=sigma,fmt='o')\n",
    "plot(X,a*X+b,'g-',label='Gesuchter Zusammenhang f=a x+b')\n",
    "i=3\n",
    "annotate('$(x_i,d_i\\pm \\sigma_i)$',xy=(x[i], d[i]), \\\n",
    "         arrowprops=dict(arrowstyle='->'), xytext=(x[i]+0.1, d[i]-0.1),fontsize=18)\n",
    "annotate('',xy=(x[i], d[i]), arrowprops=dict(arrowstyle='<->'), \\\n",
    "         xytext=(x[i], x[i]*a+b),fontsize=18)\n",
    "text(x[i], x[i]*a+b-sigma[i],'$e_i=f_i-d_i$',fontsize=18)\n",
    "axis([0.2,1.0,-2.5,2.0])\n",
    "legend()\n",
    "savefig('Linreg_Beispiel.png',dpi=75) # Speichern als Bild\n",
    "close()"
   ]
  },
  {
   "cell_type": "markdown",
   "metadata": {},
   "source": [
    "## Lösungshilfe Python\n",
    "\n",
    "Ergänzen Sie die fehlenden Berechnungsvorschriften ..."
   ]
  },
  {
   "cell_type": "code",
   "execution_count": 12,
   "metadata": {
    "collapsed": false
   },
   "outputs": [],
   "source": [
    "%%file ausgleichsgerade.py\n",
    "from numpy import sum\n",
    "\n",
    "def ausgleichsgerade(x,d,s):\n",
    "    \"\"\"Berechne die Ausgleichsgerade f = a * x + b fuer Datenpunkte, die durch die Vektoren \n",
    "        x_i, d_i +- s_i gegeben sind.\n",
    "\n",
    "        Eingabe: \n",
    "            x X-Achsenabschnitt\n",
    "            d Y-Achsenabschnitt\n",
    "            s Fehler\n",
    "        Ausgabe:\n",
    "            a_fit, b_fit\n",
    "    \"\"\"\n",
    "    alpha=sum(x**2/s**2)\n",
    "    ...\n",
    "    ...\n",
    "    b_fit=...\n",
    "    a_fit=...\n",
    "    return a_fit, b_fit"
   ]
  },
  {
   "cell_type": "markdown",
   "metadata": {},
   "source": [
    "## Lösungshilfe Matlab/Octave"
   ]
  },
  {
   "cell_type": "code",
   "execution_count": 3,
   "metadata": {
    "collapsed": false
   },
   "outputs": [],
   "source": [
    "x=[ 0.63,  0.81,  0.36,  0.43,  0.70, 0.57 ,  0.50,  0.88];\n",
    "d=[ 0.62, -1.37,  0.62, -1.18,  0.75, 0.43 ,  0.84,  0.45];\n",
    "sigma=[0.06,  0.7,  0.6,  0.9,  0.4, 0.3,  0.3 ,  0.9];"
   ]
  },
  {
   "cell_type": "code",
   "execution_count": 16,
   "metadata": {
    "collapsed": false
   },
   "outputs": [
    {
     "name": "stdout",
     "output_type": "stream",
     "text": [
      "Created file '/home/lars/sync/Zeitserien/Zeitreihenanalyse/stunde3/ausgleichsgerade.m'.\n"
     ]
    }
   ],
   "source": [
    "%%file ausgleichsgerade.m\n",
    "\n",
    "function [a_fit, b_fit]=ausgleichsgerade(x,d,s)\n",
    "    alpha=sum(x.^2./s.^2);\n",
    "    ...\n",
    "end\n"
   ]
  },
  {
   "cell_type": "code",
   "execution_count": 21,
   "metadata": {
    "collapsed": false
   },
   "outputs": [
    {
     "data": {
      "text/plain": [
       "a = -0.79157\r\n",
       "b =  1.0966\r\n"
      ]
     },
     "execution_count": 21,
     "metadata": {},
     "output_type": "execute_result"
    }
   ],
   "source": [
    "[a,b]=ausgleichsgerade(x,d,sigma)"
   ]
  },
  {
   "cell_type": "code",
   "execution_count": 28,
   "metadata": {
    "collapsed": false
   },
   "outputs": [
    {
     "data": {
      "image/svg+xml": [
       "<svg height=\"420px\" viewBox=\"0 0 268 201\" width=\"560px\" xmlns=\"http://www.w3.org/2000/svg\" xmlns:xlink=\"http://www.w3.org/1999/xlink\">\n",
       "\n",
       "<title>Gnuplot</title>\n",
       "<desc>Produced by GNUPLOT 4.6 patchlevel 4 </desc>\n",
       "\n",
       "<g id=\"gnuplot_canvas\">\n",
       "\n",
       "<rect fill=\"none\" height=\"201\" width=\"268\" x=\"0\" y=\"0\"/>\n",
       "<defs>\n",
       "\n",
       "\t<circle id=\"gpDot\" r=\"0.5\" stroke-width=\"0.5\"/>\n",
       "\t<path d=\"M-1,0 h2 M0,-1 v2\" id=\"gpPt0\" stroke=\"currentColor\" stroke-width=\"0.333\"/>\n",
       "\t<path d=\"M-1,-1 L1,1 M1,-1 L-1,1\" id=\"gpPt1\" stroke=\"currentColor\" stroke-width=\"0.333\"/>\n",
       "\t<path d=\"M-1,0 L1,0 M0,-1 L0,1 M-1,-1 L1,1 M-1,1 L1,-1\" id=\"gpPt2\" stroke=\"currentColor\" stroke-width=\"0.333\"/>\n",
       "\t<rect height=\"2\" id=\"gpPt3\" stroke=\"currentColor\" stroke-width=\"0.333\" width=\"2\" x=\"-1\" y=\"-1\"/>\n",
       "\t<rect fill=\"currentColor\" height=\"2\" id=\"gpPt4\" stroke=\"currentColor\" stroke-width=\"0.333\" width=\"2\" x=\"-1\" y=\"-1\"/>\n",
       "\t<circle cx=\"0\" cy=\"0\" id=\"gpPt5\" r=\"1\" stroke=\"currentColor\" stroke-width=\"0.333\"/>\n",
       "\t<use fill=\"currentColor\" id=\"gpPt6\" stroke=\"none\" xlink:href=\"#gpPt5\"/>\n",
       "\t<path d=\"M0,-1.33 L-1.33,0.67 L1.33,0.67 z\" id=\"gpPt7\" stroke=\"currentColor\" stroke-width=\"0.333\"/>\n",
       "\t<use fill=\"currentColor\" id=\"gpPt8\" stroke=\"none\" xlink:href=\"#gpPt7\"/>\n",
       "\t<use id=\"gpPt9\" stroke=\"currentColor\" transform=\"rotate(180)\" xlink:href=\"#gpPt7\"/>\n",
       "\t<use fill=\"currentColor\" id=\"gpPt10\" stroke=\"none\" xlink:href=\"#gpPt9\"/>\n",
       "\t<use id=\"gpPt11\" stroke=\"currentColor\" transform=\"rotate(45)\" xlink:href=\"#gpPt3\"/>\n",
       "\t<use fill=\"currentColor\" id=\"gpPt12\" stroke=\"none\" xlink:href=\"#gpPt11\"/>\n",
       "</defs>\n",
       "<g style=\"fill:none; color:white; stroke:currentColor; stroke-width:1.00; stroke-linecap:butt; stroke-linejoin:miter\">\n",
       "</g>\n",
       "<g style=\"fill:none; color:black; stroke:currentColor; stroke-width:1.00; stroke-linecap:butt; stroke-linejoin:miter\">\n",
       "\t<g style=\"stroke:none; shape-rendering:crispEdges\">\n",
       "\t\t<polygon fill=\"rgb(255, 255, 255)\" points=\"25.2,177.6 251.8,177.6 251.8,11.4 25.2,11.4 \"/>\n",
       "\t</g>\n",
       "\t<path d=\"M25.2,177.6 L25.2,11.4 L251.8,11.4 L251.8,177.6 L25.2,177.6  h0.01\" stroke=\"black\"/></g>\n",
       "<g style=\"fill:none; color:black; stroke:black; stroke-width:0.50; stroke-linecap:butt; stroke-linejoin:miter\">\n",
       "\t<path d=\"M25.2,177.6 L33.6,177.6 M251.9,177.6 L243.5,177.6  h0.01\" stroke=\"black\"/>\t<g style=\"stroke:none; fill:rgb(0,0,0); font-family:{}; font-size:10.00pt; text-anchor:end\" transform=\"translate(19.6,181.3)\">\n",
       "\t\t<text><tspan>-3</tspan></text>\n",
       "\t</g>\n",
       "\t<path d=\"M25.2,144.3 L33.6,144.3 M251.9,144.3 L243.5,144.3  h0.01\" stroke=\"black\"/>\t<g style=\"stroke:none; fill:rgb(0,0,0); font-family:{}; font-size:10.00pt; text-anchor:end\" transform=\"translate(19.6,148.0)\">\n",
       "\t\t<text><tspan>-2</tspan></text>\n",
       "\t</g>\n",
       "\t<path d=\"M25.2,111.1 L33.6,111.1 M251.9,111.1 L243.5,111.1  h0.01\" stroke=\"black\"/>\t<g style=\"stroke:none; fill:rgb(0,0,0); font-family:{}; font-size:10.00pt; text-anchor:end\" transform=\"translate(19.6,114.8)\">\n",
       "\t\t<text><tspan>-1</tspan></text>\n",
       "\t</g>\n",
       "\t<path d=\"M25.2,77.8 L33.6,77.8 M251.9,77.8 L243.5,77.8  h0.01\" stroke=\"black\"/>\t<g style=\"stroke:none; fill:rgb(0,0,0); font-family:{}; font-size:10.00pt; text-anchor:end\" transform=\"translate(19.6,81.5)\">\n",
       "\t\t<text><tspan>0</tspan></text>\n",
       "\t</g>\n",
       "\t<path d=\"M25.2,44.6 L33.6,44.6 M251.9,44.6 L243.5,44.6  h0.01\" stroke=\"black\"/>\t<g style=\"stroke:none; fill:rgb(0,0,0); font-family:{}; font-size:10.00pt; text-anchor:end\" transform=\"translate(19.6,48.3)\">\n",
       "\t\t<text><tspan>1</tspan></text>\n",
       "\t</g>\n",
       "\t<path d=\"M25.2,11.3 L33.6,11.3 M251.9,11.3 L243.5,11.3  h0.01\" stroke=\"black\"/>\t<g style=\"stroke:none; fill:rgb(0,0,0); font-family:{}; font-size:10.00pt; text-anchor:end\" transform=\"translate(19.6,15.0)\">\n",
       "\t\t<text><tspan>2</tspan></text>\n",
       "\t</g>\n",
       "\t<path d=\"M25.2,177.6 L25.2,169.2 M25.2,11.3 L25.2,19.7  h0.01\" stroke=\"black\"/>\t<g style=\"stroke:none; fill:rgb(0,0,0); font-family:{}; font-size:10.00pt; text-anchor:middle\" transform=\"translate(25.2,193.3)\">\n",
       "\t\t<text><tspan>0.2</tspan></text>\n",
       "\t</g>\n",
       "\t<path d=\"M53.5,177.6 L53.5,169.2 M53.5,11.3 L53.5,19.7  h0.01\" stroke=\"black\"/>\t<g style=\"stroke:none; fill:rgb(0,0,0); font-family:{}; font-size:10.00pt; text-anchor:middle\" transform=\"translate(53.5,193.3)\">\n",
       "\t\t<text><tspan>0.3</tspan></text>\n",
       "\t</g>\n",
       "\t<path d=\"M81.9,177.6 L81.9,169.2 M81.9,11.3 L81.9,19.7  h0.01\" stroke=\"black\"/>\t<g style=\"stroke:none; fill:rgb(0,0,0); font-family:{}; font-size:10.00pt; text-anchor:middle\" transform=\"translate(81.9,193.3)\">\n",
       "\t\t<text><tspan>0.4</tspan></text>\n",
       "\t</g>\n",
       "\t<path d=\"M110.2,177.6 L110.2,169.2 M110.2,11.3 L110.2,19.7  h0.01\" stroke=\"black\"/>\t<g style=\"stroke:none; fill:rgb(0,0,0); font-family:{}; font-size:10.00pt; text-anchor:middle\" transform=\"translate(110.2,193.3)\">\n",
       "\t\t<text><tspan>0.5</tspan></text>\n",
       "\t</g>\n",
       "\t<path d=\"M138.6,177.6 L138.6,169.2 M138.6,11.3 L138.6,19.7  h0.01\" stroke=\"black\"/>\t<g style=\"stroke:none; fill:rgb(0,0,0); font-family:{}; font-size:10.00pt; text-anchor:middle\" transform=\"translate(138.6,193.3)\">\n",
       "\t\t<text><tspan>0.6</tspan></text>\n",
       "\t</g>\n",
       "\t<path d=\"M166.9,177.6 L166.9,169.2 M166.9,11.3 L166.9,19.7  h0.01\" stroke=\"black\"/>\t<g style=\"stroke:none; fill:rgb(0,0,0); font-family:{}; font-size:10.00pt; text-anchor:middle\" transform=\"translate(166.9,193.3)\">\n",
       "\t\t<text><tspan>0.7</tspan></text>\n",
       "\t</g>\n",
       "\t<path d=\"M195.2,177.6 L195.2,169.2 M195.2,11.3 L195.2,19.7  h0.01\" stroke=\"black\"/>\t<g style=\"stroke:none; fill:rgb(0,0,0); font-family:{}; font-size:10.00pt; text-anchor:middle\" transform=\"translate(195.2,193.3)\">\n",
       "\t\t<text><tspan>0.8</tspan></text>\n",
       "\t</g>\n",
       "\t<path d=\"M223.6,177.6 L223.6,169.2 M223.6,11.3 L223.6,19.7  h0.01\" stroke=\"black\"/>\t<g style=\"stroke:none; fill:rgb(0,0,0); font-family:{}; font-size:10.00pt; text-anchor:middle\" transform=\"translate(223.6,193.3)\">\n",
       "\t\t<text><tspan>0.9</tspan></text>\n",
       "\t</g>\n",
       "\t<path d=\"M251.9,177.6 L251.9,169.2 M251.9,11.3 L251.9,19.7  h0.01\" stroke=\"black\"/>\t<g style=\"stroke:none; fill:rgb(0,0,0); font-family:{}; font-size:10.00pt; text-anchor:middle\" transform=\"translate(251.9,193.3)\">\n",
       "\t\t<text><tspan>1</tspan></text>\n",
       "\t</g>\n",
       "\t<path d=\"M25.2,11.3 L25.2,177.6 L251.9,177.6 L251.9,11.3 L25.2,11.3 Z  h0.01\" stroke=\"black\"/></g>\n",
       "\t<g id=\"gnuplot_plot_1a\"><title>gnuplot_plot_1a</title>\n",
       "<g style=\"fill:none; color:red; stroke:currentColor; stroke-width:0.50; stroke-linecap:butt; stroke-linejoin:miter\">\n",
       "\t<path d=\"M147.1,59.2 L147.1,55.2 M145.6,55.2 L148.5,55.2 M145.6,59.2 L148.5,59.2 M198.1,146.7 L198.1,100.1    M196.6,100.1 L199.5,100.1 M196.6,146.7 L199.5,146.7 M70.5,77.2 L70.5,37.2 M69.1,37.2 L72.0,37.2    M69.1,77.2 L72.0,77.2 M90.4,147.0 L90.4,87.1 M88.9,87.1 L91.8,87.1 M88.9,147.0 L91.8,147.0    M166.9,66.2 L166.9,39.6 M165.4,39.6 L168.4,39.6 M165.4,66.2 L168.4,66.2 M130.0,73.5 L130.0,53.5    M128.6,53.5 L131.5,53.5 M128.6,73.5 L131.5,73.5 M110.2,59.9 L110.2,39.9 M108.7,39.9 L111.7,39.9    M108.7,59.9 L111.7,59.9 M217.9,92.8 L217.9,32.9 M216.4,32.9 L219.4,32.9 M216.4,92.8 L219.4,92.8     h0.01\" stroke=\"rgb(255,   0,   0)\"/></g>\n",
       "\t</g>\n",
       "\t<g id=\"gnuplot_plot_2a\"><title>gnuplot_plot_2a</title>\n",
       "<g style=\"fill:none; color:green; stroke:currentColor; stroke-width:0.50; stroke-linecap:butt; stroke-linejoin:miter\">\n",
       "\t<use color=\"rgb(255,   0,   0)\" transform=\"translate(147.1,57.2) scale(2.00)\" xlink:href=\"#gpPt6\"/>\n",
       "\t<use color=\"rgb(255,   0,   0)\" transform=\"translate(198.1,123.4) scale(2.00)\" xlink:href=\"#gpPt6\"/>\n",
       "\t<use color=\"rgb(255,   0,   0)\" transform=\"translate(70.5,57.2) scale(2.00)\" xlink:href=\"#gpPt6\"/>\n",
       "\t<use color=\"rgb(255,   0,   0)\" transform=\"translate(90.4,117.1) scale(2.00)\" xlink:href=\"#gpPt6\"/>\n",
       "\t<use color=\"rgb(255,   0,   0)\" transform=\"translate(166.9,52.9) scale(2.00)\" xlink:href=\"#gpPt6\"/>\n",
       "\t<use color=\"rgb(255,   0,   0)\" transform=\"translate(130.0,63.5) scale(2.00)\" xlink:href=\"#gpPt6\"/>\n",
       "\t<use color=\"rgb(255,   0,   0)\" transform=\"translate(110.2,49.9) scale(2.00)\" xlink:href=\"#gpPt6\"/>\n",
       "\t<use color=\"rgb(255,   0,   0)\" transform=\"translate(217.9,62.9) scale(2.00)\" xlink:href=\"#gpPt6\"/>\n",
       "</g>\n",
       "\t</g>\n",
       "\t<g id=\"gnuplot_plot_3a\"><title>gnuplot_plot_3a</title>\n",
       "<g style=\"fill:none; color:red; stroke:currentColor; stroke-width:0.50; stroke-linecap:butt; stroke-linejoin:miter\">\n",
       "\t<path d=\"M25.2,46.6 L27.5,46.8 L29.8,47.0 L32.1,47.3 L34.4,47.5 L36.6,47.7 L38.9,47.9 L41.2,48.1    L43.5,48.3 L45.8,48.5 L48.1,48.7 L50.4,49.0 L52.7,49.2 L55.0,49.4 L57.3,49.6 L59.5,49.8    L61.8,50.0 L64.1,50.2 L66.4,50.4 L68.7,50.7 L71.0,50.9 L73.3,51.1 L75.6,51.3 L77.9,51.5    L80.2,51.7 L82.4,51.9 L84.7,52.1 L87.0,52.4 L89.3,52.6 L91.6,52.8 L93.9,53.0 L96.2,53.2    L98.5,53.4 L100.8,53.6 L103.1,53.8 L105.3,54.1 L107.6,54.3 L109.9,54.5 L112.2,54.7 L114.5,54.9    L116.8,55.1 L119.1,55.3 L121.4,55.5 L123.7,55.8 L126.0,56.0 L128.2,56.2 L130.5,56.4 L132.8,56.6    L135.1,56.8 L137.4,57.0 L139.7,57.3 L142.0,57.5 L144.3,57.7 L146.6,57.9 L148.9,58.1 L151.1,58.3    L153.4,58.5 L155.7,58.7 L158.0,59.0 L160.3,59.2 L162.6,59.4 L164.9,59.6 L167.2,59.8 L169.5,60.0    L171.8,60.2 L174.0,60.4 L176.3,60.7 L178.6,60.9 L180.9,61.1 L183.2,61.3 L185.5,61.5 L187.8,61.7    L190.1,61.9 L192.4,62.1 L194.7,62.4 L196.9,62.6 L199.2,62.8 L201.5,63.0 L203.8,63.2 L206.1,63.4    L208.4,63.6 L210.7,63.8 L213.0,64.1 L215.3,64.3 L217.6,64.5 L219.8,64.7 L222.1,64.9 L224.4,65.1    L226.7,65.3 L229.0,65.5 L231.3,65.8 L233.6,66.0 L235.9,66.2 L238.2,66.4 L240.5,66.6 L242.7,66.8    L245.0,67.0 L247.3,67.2 L249.6,67.5 L251.9,67.7  h0.01\" stroke=\"rgb(  0,   0, 255)\"/></g>\n",
       "\t</g>\n",
       "<g style=\"fill:none; color:black; stroke:currentColor; stroke-width:0.50; stroke-linecap:butt; stroke-linejoin:miter\">\n",
       "</g>\n",
       "</g>\n",
       "</svg>"
      ],
      "text/plain": [
       "<IPython.core.display.SVG object>"
      ]
     },
     "metadata": {},
     "output_type": "display_data"
    }
   ],
   "source": [
    "X=linspace(0.2,1);\n",
    "Y=a*X+b;\n",
    "\n",
    "errorbar(x,d,sigma,\".r\")\n",
    "hold()\n",
    "plot(X,a*X+b)"
   ]
  }
 ],
 "metadata": {
  "kernelspec": {
   "display_name": "Python 3",
   "language": "python",
   "name": "python3"
  },
  "language_info": {
   "codemirror_mode": {
    "name": "ipython",
    "version": 3
   },
   "file_extension": ".py",
   "mimetype": "text/x-python",
   "name": "python",
   "nbconvert_exporter": "python",
   "pygments_lexer": "ipython3",
   "version": "3.5.0"
  }
 },
 "nbformat": 4,
 "nbformat_minor": 0
}
