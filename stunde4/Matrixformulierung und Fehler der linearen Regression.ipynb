{
 "cells": [
  {
   "cell_type": "markdown",
   "metadata": {},
   "source": [
    "# Fehler der Modellgeraden \n",
    "\n",
    "\n",
    "Gesucht sei die Ausgleichsgerade $y=ax+b$ und deren Fehler $\\sigma_y$ des linearen Regressionsproblems für $N>2$ Datenpunkte $(x_i, d_i)$.\n",
    "\n",
    "Der Lösungsvektor ${\\bf x}=[a,b]^T$ ergibt sich aus der Matrixformulierung des linearen Regressionsproblems\n",
    "\n",
    "$$\n",
    "a x_1 + b = d_1 \\\\\n",
    "a x_2 + b = d_2 \\\\\n",
    "..\\\\\n",
    "a x_N + b = d_N\\\\\n",
    "$$\n",
    "\n",
    "$$\\underbrace{{\\bf A}}_{N\\times2}\\underbrace{{\\bf x}}_{2\\times1}=\\underbrace{{\\bf d}}_{N\\times1}$$\n",
    "\n",
    "\n",
    "Im Allgemeinen ist es unmöglich das Gleichungssystem ${\\bf A\\cdot x=d}$ exakt zu lösen. Wir suchen die Lösung im Sinne der kleinsten quadratischen Abweichung\n",
    "\n",
    "$${\\bf F}={\\bf e}^T\\cdot {\\bf e}= ({\\bf A\\cdot x-d})^T({\\bf A\\cdot x-d}) $$."
   ]
  },
  {
   "cell_type": "markdown",
   "metadata": {},
   "source": [
    "\n",
    "\n",
    "als\n",
    "\n",
    "$${\\bf x}=({\\bf A}^T {\\bf A})^{-1}{\\bf A}^T{\\bf d}$$.\n",
    "\n",
    "\n",
    "Die Kovarianzmatrix errechnet sich aus ${\\rm cov}({\\bf x})=[({\\bf A}^T {\\bf A})^{-1}{\\bf A}^T] {\\rm cov}({\\bf d}) [({\\bf A}^T {\\bf A})^{-1}{\\bf A}^T]^T$ für unkorrelierte Daten mit Fehler $\\sigma_d^2$ und Kovarianz ${\\rm cov}({\\bf d})=\\sigma_d {\\bf 1}$ zu\n",
    "\n",
    "$${\\rm cov}({\\bf x})=\\sigma_d^2 ({\\bf A}^T {\\bf A})^{-1}$$.\n",
    "\n",
    "\n"
   ]
  },
  {
   "cell_type": "markdown",
   "metadata": {},
   "source": [
    "Fassen wir $y$ als lineare Abbildung ${\\bf G}=[x,1]$ von ${\\bf u}=[a, b]^T$ auf\n",
    "\n",
    "$$\\underbrace{y}_{1\\times 1}=\\underbrace{\\bf G}_{2 \\times 1} \\underbrace{\\bf u}_{1 \\times 2}$$\n",
    "\n",
    "dann ist die Kovarianz gegeben durch\n",
    "\n",
    "$$\\rm cov(y)={\\bf G}{\\rm cov}({\\bf u}){\\bf G}^T$$.\n",
    "\n",
    "Mit ${\\rm cov}({\\bf u})=\\left( \\begin{array}{cc} \\sigma_a^2 & \\sigma_{ab}^2\\\\ \\sigma_{ab}^2 & \\sigma_b^2 \\end{array} \\right)$ ergibt sich der gesuchte Fehler\n",
    "\n",
    "$$\\sigma_y^2=\\sigma^2_a x^2 +2 \\sigma_{ab} x+ \\sigma_b^2$$\n",
    "\n",
    "Der Fehler ist minimal im Schwerpunkt $x=\\bar{x}$ der Daten. Für sehr große und sehr kleine $x$ ist der Fehler proportional zum Fehler der Steigung $\\sigma_a$. "
   ]
  },
  {
   "cell_type": "markdown",
   "metadata": {},
   "source": [
    "## Python-Beispiel Lineare-Regression"
   ]
  },
  {
   "cell_type": "code",
   "execution_count": 1,
   "metadata": {
    "collapsed": false
   },
   "outputs": [
    {
     "name": "stdout",
     "output_type": "stream",
     "text": [
      "Populating the interactive namespace from numpy and matplotlib\n",
      "[ 0.40152768  0.2184287   0.44117141 -0.04235238 -0.16512194 -0.4892583\n",
      " -0.51473881]\n",
      "\n",
      "Wahre vorgegebene Werte:\n",
      "a=-1.00\n",
      "b=0.50\n",
      "\n",
      "Durch Regression von Y=a*X+b bestimmte Werte:\n",
      "a=-1.02  +-0.18\n",
      "b=0.49  +-0.11\n"
     ]
    },
    {
     "data": {
      "image/png": "[encoded data removed]",
      "text/plain": [
       "<matplotlib.figure.Figure at 0x7f873b250eb8>"
      ]
     },
     "metadata": {},
     "output_type": "display_data"
    }
   ],
   "source": [
    "%pylab inline\n",
    "# Erzeuge Zufallswerte\n",
    "N=7\n",
    "a_wahr=-1.0\n",
    "b_wahr=0.5\n",
    "\n",
    "s=0.4#  Messfehler \n",
    "\n",
    "t=linspace(0,1,N)\n",
    "data=a_wahr*t+b_wahr+randn(N)*s**2\n",
    "data=array([ 0.40152768,0.2184287,0.44117141,-0.04235238,-0.16512194,-0.4892583, -0.51473881])\n",
    "\n",
    "print(data)\n",
    "data_wahr=a_wahr*t+b_wahr\n",
    "\n",
    "# Lineare Regression\n",
    "\n",
    "A=array((t/s,ones(N)/s)).T\n",
    "d=array(data/s).T\n",
    "\n",
    "x=dot(dot(inv(dot(A.T,A)),A.T),d)  # Least-Squares Loesung\n",
    "\n",
    "# Fehler der Loesung (Daten unkorreliert)\n",
    "# Kovarianzmatrix\n",
    "sigma_x = s**2 * inv(dot(A.T,A))\n",
    "sigma_a2=sigma_x[0,0]\n",
    "sigma_ab2=sigma_x[0,1]\n",
    "sigma_b2=sigma_x[1,1]\n",
    "\n",
    "a,b=float(x[0]),float(x[1])\n",
    "X=linspace(-1,2)\n",
    "Y=a*X+b\n",
    "\n",
    "print('\\nWahre vorgegebene Werte:')\n",
    "print('a=%3.2f'%a_wahr)\n",
    "print('b=%3.2f'%b_wahr)\n",
    "\n",
    "print('\\nDurch Regression von Y=a*X+b bestimmte Werte:')\n",
    "print('a=%3.2f'%a,' +-%3.2f'%sqrt(sigma_a2))\n",
    "print('b=%3.2f'%b,' +-%3.2f'%sqrt(sigma_b2))\n",
    "\n",
    "# 1-sigma Konfidenzintervalle fuer Y\n",
    "sigma_Y=sqrt(sigma_a2*X**2+2*sigma_ab2*X+sigma_b2)\n",
    "\n",
    "figure(1)\n",
    "plot(t,data,'ko',label='Fehlerbehaftete Datenpunkte')\n",
    "errorbar(t,data,yerr=s**2)\n",
    "plot(X,Y,'k-',label='Regressionsgerade',lw=3)\n",
    "plot(X,Y-sigma_Y*2,'k-',label='Fehler der Regression')\n",
    "plot(X,Y+sigma_Y*2,'k-')\n",
    "plot(X,X*a_wahr+b_wahr,'b--',linewidth=4,label='Gesuchter Zusammenhang')\n",
    "xlabel('X')\n",
    "ylabel('Y') \n",
    "legend(loc=3,fontsize=7)\n",
    "axis([-0.5,1.5,-1,1])\n",
    "grid()"
   ]
  },
  {
   "cell_type": "markdown",
   "metadata": {},
   "source": [
    "## Octave-Beispiel"
   ]
  },
  {
   "cell_type": "code",
   "execution_count": 15,
   "metadata": {
    "collapsed": false
   },
   "outputs": [
    {
     "data": {
      "image/svg+xml": [
       "<svg height=\"420px\" viewBox=\"0 0 268 201\" width=\"560px\" xmlns=\"http://www.w3.org/2000/svg\" xmlns:xlink=\"http://www.w3.org/1999/xlink\">\n",
       "\n",
       "<title>Gnuplot</title>\n",
       "<desc>Produced by GNUPLOT 4.6 patchlevel 4 </desc>\n",
       "\n",
       "<g id=\"gnuplot_canvas\">\n",
       "\n",
       "<rect fill=\"none\" height=\"201\" width=\"268\" x=\"0\" y=\"0\"/>\n",
       "<defs>\n",
       "\n",
       "\t<circle id=\"gpDot\" r=\"0.5\" stroke-width=\"0.5\"/>\n",
       "\t<path d=\"M-1,0 h2 M0,-1 v2\" id=\"gpPt0\" stroke=\"currentColor\" stroke-width=\"0.333\"/>\n",
       "\t<path d=\"M-1,-1 L1,1 M1,-1 L-1,1\" id=\"gpPt1\" stroke=\"currentColor\" stroke-width=\"0.333\"/>\n",
       "\t<path d=\"M-1,0 L1,0 M0,-1 L0,1 M-1,-1 L1,1 M-1,1 L1,-1\" id=\"gpPt2\" stroke=\"currentColor\" stroke-width=\"0.333\"/>\n",
       "\t<rect height=\"2\" id=\"gpPt3\" stroke=\"currentColor\" stroke-width=\"0.333\" width=\"2\" x=\"-1\" y=\"-1\"/>\n",
       "\t<rect fill=\"currentColor\" height=\"2\" id=\"gpPt4\" stroke=\"currentColor\" stroke-width=\"0.333\" width=\"2\" x=\"-1\" y=\"-1\"/>\n",
       "\t<circle cx=\"0\" cy=\"0\" id=\"gpPt5\" r=\"1\" stroke=\"currentColor\" stroke-width=\"0.333\"/>\n",
       "\t<use fill=\"currentColor\" id=\"gpPt6\" stroke=\"none\" xlink:href=\"#gpPt5\"/>\n",
       "\t<path d=\"M0,-1.33 L-1.33,0.67 L1.33,0.67 z\" id=\"gpPt7\" stroke=\"currentColor\" stroke-width=\"0.333\"/>\n",
       "\t<use fill=\"currentColor\" id=\"gpPt8\" stroke=\"none\" xlink:href=\"#gpPt7\"/>\n",
       "\t<use id=\"gpPt9\" stroke=\"currentColor\" transform=\"rotate(180)\" xlink:href=\"#gpPt7\"/>\n",
       "\t<use fill=\"currentColor\" id=\"gpPt10\" stroke=\"none\" xlink:href=\"#gpPt9\"/>\n",
       "\t<use id=\"gpPt11\" stroke=\"currentColor\" transform=\"rotate(45)\" xlink:href=\"#gpPt3\"/>\n",
       "\t<use fill=\"currentColor\" id=\"gpPt12\" stroke=\"none\" xlink:href=\"#gpPt11\"/>\n",
       "</defs>\n",
       "<g style=\"fill:none; color:white; stroke:currentColor; stroke-width:1.00; stroke-linecap:butt; stroke-linejoin:miter\">\n",
       "</g>\n",
       "<g style=\"fill:none; color:black; stroke:currentColor; stroke-width:1.00; stroke-linecap:butt; stroke-linejoin:miter\">\n",
       "\t<g style=\"stroke:none; shape-rendering:crispEdges\">\n",
       "\t\t<polygon fill=\"rgb(255, 255, 255)\" points=\"36.4,177.6 251.8,177.6 251.8,11.4 36.4,11.4 \"/>\n",
       "\t</g>\n",
       "\t<path d=\"M36.4,177.6 L36.4,11.4 L251.8,11.4 L251.8,177.6 L36.4,177.6  h0.01\" stroke=\"black\"/></g>\n",
       "<g style=\"fill:none; color:black; stroke:black; stroke-width:0.50; stroke-linecap:butt; stroke-linejoin:miter\">\n",
       "</g>\n",
       "<g style=\"fill:none; color:gray; stroke:currentColor; stroke-width:0.50; stroke-linecap:butt; stroke-linejoin:miter\">\n",
       "\t<path class=\"gridline\" d=\"M36.4,177.6 L251.9,177.6  h0.01\" stroke=\"gray\" stroke-dasharray=\" 2,4\"/></g>\n",
       "<g style=\"fill:none; color:black; stroke:currentColor; stroke-width:0.50; stroke-linecap:butt; stroke-linejoin:miter\">\n",
       "\t<path d=\"M36.4,177.6 L44.8,177.6 M251.9,177.6 L243.5,177.6  h0.01\" stroke=\"black\"/>\t<g style=\"stroke:none; fill:rgb(0,0,0); font-family:{}; font-size:10.00pt; text-anchor:end\" transform=\"translate(30.8,181.3)\">\n",
       "\t\t<text><tspan>-1</tspan></text>\n",
       "\t</g>\n",
       "</g>\n",
       "<g style=\"fill:none; color:gray; stroke:currentColor; stroke-width:0.50; stroke-linecap:butt; stroke-linejoin:miter\">\n",
       "\t<path class=\"gridline\" d=\"M36.4,136.0 L251.9,136.0  h0.01\" stroke=\"gray\" stroke-dasharray=\" 2,4\"/></g>\n",
       "<g style=\"fill:none; color:black; stroke:currentColor; stroke-width:0.50; stroke-linecap:butt; stroke-linejoin:miter\">\n",
       "\t<path d=\"M36.4,136.0 L44.8,136.0 M251.9,136.0 L243.5,136.0  h0.01\" stroke=\"black\"/>\t<g style=\"stroke:none; fill:rgb(0,0,0); font-family:{}; font-size:10.00pt; text-anchor:end\" transform=\"translate(30.8,139.7)\">\n",
       "\t\t<text><tspan>-0.5</tspan></text>\n",
       "\t</g>\n",
       "</g>\n",
       "<g style=\"fill:none; color:gray; stroke:currentColor; stroke-width:0.50; stroke-linecap:butt; stroke-linejoin:miter\">\n",
       "\t<path class=\"gridline\" d=\"M36.4,94.4 L251.9,94.4  h0.01\" stroke=\"gray\" stroke-dasharray=\" 2,4\"/></g>\n",
       "<g style=\"fill:none; color:black; stroke:currentColor; stroke-width:0.50; stroke-linecap:butt; stroke-linejoin:miter\">\n",
       "\t<path d=\"M36.4,94.4 L44.8,94.4 M251.9,94.4 L243.5,94.4  h0.01\" stroke=\"black\"/>\t<g style=\"stroke:none; fill:rgb(0,0,0); font-family:{}; font-size:10.00pt; text-anchor:end\" transform=\"translate(30.8,98.1)\">\n",
       "\t\t<text><tspan>0</tspan></text>\n",
       "\t</g>\n",
       "</g>\n",
       "<g style=\"fill:none; color:gray; stroke:currentColor; stroke-width:0.50; stroke-linecap:butt; stroke-linejoin:miter\">\n",
       "\t<path class=\"gridline\" d=\"M36.4,52.9 L251.9,52.9  h0.01\" stroke=\"gray\" stroke-dasharray=\" 2,4\"/></g>\n",
       "<g style=\"fill:none; color:black; stroke:currentColor; stroke-width:0.50; stroke-linecap:butt; stroke-linejoin:miter\">\n",
       "\t<path d=\"M36.4,52.9 L44.8,52.9 M251.9,52.9 L243.5,52.9  h0.01\" stroke=\"black\"/>\t<g style=\"stroke:none; fill:rgb(0,0,0); font-family:{}; font-size:10.00pt; text-anchor:end\" transform=\"translate(30.8,56.6)\">\n",
       "\t\t<text><tspan>0.5</tspan></text>\n",
       "\t</g>\n",
       "</g>\n",
       "<g style=\"fill:none; color:gray; stroke:currentColor; stroke-width:0.50; stroke-linecap:butt; stroke-linejoin:miter\">\n",
       "\t<path class=\"gridline\" d=\"M36.4,11.3 L251.9,11.3  h0.01\" stroke=\"gray\" stroke-dasharray=\" 2,4\"/></g>\n",
       "<g style=\"fill:none; color:black; stroke:currentColor; stroke-width:0.50; stroke-linecap:butt; stroke-linejoin:miter\">\n",
       "\t<path d=\"M36.4,11.3 L44.8,11.3 M251.9,11.3 L243.5,11.3  h0.01\" stroke=\"black\"/>\t<g style=\"stroke:none; fill:rgb(0,0,0); font-family:{}; font-size:10.00pt; text-anchor:end\" transform=\"translate(30.8,15.0)\">\n",
       "\t\t<text><tspan>1</tspan></text>\n",
       "\t</g>\n",
       "</g>\n",
       "<g style=\"fill:none; color:gray; stroke:currentColor; stroke-width:0.50; stroke-linecap:butt; stroke-linejoin:miter\">\n",
       "\t<path class=\"gridline\" d=\"M36.4,177.6 L36.4,11.3  h0.01\" stroke=\"gray\" stroke-dasharray=\" 2,4\"/></g>\n",
       "<g style=\"fill:none; color:black; stroke:currentColor; stroke-width:0.50; stroke-linecap:butt; stroke-linejoin:miter\">\n",
       "\t<path d=\"M36.4,177.6 L36.4,169.2 M36.4,11.3 L36.4,19.7  h0.01\" stroke=\"black\"/>\t<g style=\"stroke:none; fill:rgb(0,0,0); font-family:{}; font-size:10.00pt; text-anchor:middle\" transform=\"translate(36.4,193.3)\">\n",
       "\t\t<text><tspan>-0.5</tspan></text>\n",
       "\t</g>\n",
       "</g>\n",
       "<g style=\"fill:none; color:gray; stroke:currentColor; stroke-width:0.50; stroke-linecap:butt; stroke-linejoin:miter\">\n",
       "\t<path class=\"gridline\" d=\"M90.3,177.6 L90.3,11.3  h0.01\" stroke=\"gray\" stroke-dasharray=\" 2,4\"/></g>\n",
       "<g style=\"fill:none; color:black; stroke:currentColor; stroke-width:0.50; stroke-linecap:butt; stroke-linejoin:miter\">\n",
       "\t<path d=\"M90.3,177.6 L90.3,169.2 M90.3,11.3 L90.3,19.7  h0.01\" stroke=\"black\"/>\t<g style=\"stroke:none; fill:rgb(0,0,0); font-family:{}; font-size:10.00pt; text-anchor:middle\" transform=\"translate(90.3,193.3)\">\n",
       "\t\t<text><tspan>0</tspan></text>\n",
       "\t</g>\n",
       "</g>\n",
       "<g style=\"fill:none; color:gray; stroke:currentColor; stroke-width:0.50; stroke-linecap:butt; stroke-linejoin:miter\">\n",
       "\t<path class=\"gridline\" d=\"M144.2,177.6 L144.2,11.3  h0.01\" stroke=\"gray\" stroke-dasharray=\" 2,4\"/></g>\n",
       "<g style=\"fill:none; color:black; stroke:currentColor; stroke-width:0.50; stroke-linecap:butt; stroke-linejoin:miter\">\n",
       "\t<path d=\"M144.2,177.6 L144.2,169.2 M144.2,11.3 L144.2,19.7  h0.01\" stroke=\"black\"/>\t<g style=\"stroke:none; fill:rgb(0,0,0); font-family:{}; font-size:10.00pt; text-anchor:middle\" transform=\"translate(144.2,193.3)\">\n",
       "\t\t<text><tspan>0.5</tspan></text>\n",
       "\t</g>\n",
       "</g>\n",
       "<g style=\"fill:none; color:gray; stroke:currentColor; stroke-width:0.50; stroke-linecap:butt; stroke-linejoin:miter\">\n",
       "\t<path class=\"gridline\" d=\"M198.0,177.6 L198.0,11.3  h0.01\" stroke=\"gray\" stroke-dasharray=\" 2,4\"/></g>\n",
       "<g style=\"fill:none; color:black; stroke:currentColor; stroke-width:0.50; stroke-linecap:butt; stroke-linejoin:miter\">\n",
       "\t<path d=\"M198.0,177.6 L198.0,169.2 M198.0,11.3 L198.0,19.7  h0.01\" stroke=\"black\"/>\t<g style=\"stroke:none; fill:rgb(0,0,0); font-family:{}; font-size:10.00pt; text-anchor:middle\" transform=\"translate(198.0,193.3)\">\n",
       "\t\t<text><tspan>1</tspan></text>\n",
       "\t</g>\n",
       "</g>\n",
       "<g style=\"fill:none; color:gray; stroke:currentColor; stroke-width:0.50; stroke-linecap:butt; stroke-linejoin:miter\">\n",
       "\t<path class=\"gridline\" d=\"M251.9,177.6 L251.9,11.3  h0.01\" stroke=\"gray\" stroke-dasharray=\" 2,4\"/></g>\n",
       "<g style=\"fill:none; color:black; stroke:currentColor; stroke-width:0.50; stroke-linecap:butt; stroke-linejoin:miter\">\n",
       "\t<path d=\"M251.9,177.6 L251.9,169.2 M251.9,11.3 L251.9,19.7  h0.01\" stroke=\"black\"/>\t<g style=\"stroke:none; fill:rgb(0,0,0); font-family:{}; font-size:10.00pt; text-anchor:middle\" transform=\"translate(251.9,193.3)\">\n",
       "\t\t<text><tspan>1.5</tspan></text>\n",
       "\t</g>\n",
       "\t<path d=\"M36.4,11.3 L36.4,177.6 L251.9,177.6 L251.9,11.3 L36.4,11.3 Z  h0.01\" stroke=\"black\"/></g>\n",
       "\t<g id=\"gnuplot_plot_1a\"><title>gnuplot_plot_1a</title>\n",
       "<g style=\"fill:none; color:red; stroke:currentColor; stroke-width:0.50; stroke-linecap:butt; stroke-linejoin:miter\">\n",
       "\t<path d=\"M90.3,74.4 L90.3,47.8 M89.2,47.8 L91.4,47.8 M89.2,74.4 L91.4,74.4 M108.2,89.6 L108.2,63.0    M107.2,63.0 L109.3,63.0 M107.2,89.6 L109.3,89.6 M126.2,71.1 L126.2,44.5 M125.1,44.5 L127.3,44.5    M125.1,71.1 L127.3,71.1 M144.2,111.3 L144.2,84.7 M143.1,84.7 L145.2,84.7 M143.1,111.3 L145.2,111.3    M162.1,121.5 L162.1,94.9 M161.0,94.9 L163.2,94.9 M161.0,121.5 L163.2,121.5 M180.1,148.4 L180.1,121.8    M179.0,121.8 L181.1,121.8 M179.0,148.4 L181.1,148.4 M198.0,150.6 L198.0,123.9 M196.9,123.9 L199.1,123.9    M196.9,150.6 L199.1,150.6  h0.01\" stroke=\"rgb(  0,   0,   0)\"/></g>\n",
       "\t</g>\n",
       "\t<g id=\"gnuplot_plot_2a\"><title>gnuplot_plot_2a</title>\n",
       "<g style=\"fill:none; color:green; stroke:currentColor; stroke-width:0.50; stroke-linecap:butt; stroke-linejoin:miter\">\n",
       "\t<use color=\"rgb(  0,   0,   0)\" transform=\"translate(90.3,61.1) scale(2.00)\" xlink:href=\"#gpPt6\"/>\n",
       "\t<use color=\"rgb(  0,   0,   0)\" transform=\"translate(108.2,76.3) scale(2.00)\" xlink:href=\"#gpPt6\"/>\n",
       "\t<use color=\"rgb(  0,   0,   0)\" transform=\"translate(126.2,57.8) scale(2.00)\" xlink:href=\"#gpPt6\"/>\n",
       "\t<use color=\"rgb(  0,   0,   0)\" transform=\"translate(144.2,98.0) scale(2.00)\" xlink:href=\"#gpPt6\"/>\n",
       "\t<use color=\"rgb(  0,   0,   0)\" transform=\"translate(162.1,108.2) scale(2.00)\" xlink:href=\"#gpPt6\"/>\n",
       "\t<use color=\"rgb(  0,   0,   0)\" transform=\"translate(180.1,135.1) scale(2.00)\" xlink:href=\"#gpPt6\"/>\n",
       "\t<use color=\"rgb(  0,   0,   0)\" transform=\"translate(198.0,137.3) scale(2.00)\" xlink:href=\"#gpPt6\"/>\n",
       "</g>\n",
       "\t</g>\n",
       "\t<g id=\"gnuplot_plot_3a\"><title>gnuplot_plot_3a</title>\n",
       "<g style=\"fill:none; color:red; stroke:currentColor; stroke-width:0.50; stroke-linecap:butt; stroke-linejoin:miter\">\n",
       "\t<path d=\"M36.5,11.3 L38.0,12.5 L41.3,15.1 L44.6,17.7 L47.8,20.3 L51.1,22.8 L54.4,25.4 L57.6,28.0    L60.9,30.6 L64.2,33.1 L67.4,35.7 L70.7,38.3 L73.9,40.9 L77.2,43.4 L80.5,46.0 L83.7,48.6    L87.0,51.2 L90.3,53.7 L93.5,56.3 L96.8,58.9 L100.1,61.5 L103.3,64.0 L106.6,66.6 L109.9,69.2    L113.1,71.8 L116.4,74.3 L119.7,76.9 L122.9,79.5 L126.2,82.1 L129.5,84.6 L132.7,87.2 L136.0,89.8    L139.3,92.4 L142.5,94.9 L145.8,97.5 L149.0,100.1 L152.3,102.7 L155.6,105.3 L158.8,107.8 L162.1,110.4    L165.4,113.0 L168.6,115.6 L171.9,118.1 L175.2,120.7 L178.4,123.3 L181.7,125.9 L185.0,128.4 L188.2,131.0    L191.5,133.6 L194.8,136.2 L198.0,138.7 L201.3,141.3 L204.6,143.9 L207.8,146.5 L211.1,149.0 L214.4,151.6    L217.6,154.2 L220.9,156.8 L224.1,159.3 L227.4,161.9 L230.7,164.5 L233.9,167.1 L237.2,169.6 L240.5,172.2    L243.7,174.8 L247.0,177.4 L247.3,177.6  h0.01\" stroke=\"rgb(  0,   0, 255)\"/></g>\n",
       "\t</g>\n",
       "\t<g id=\"gnuplot_plot_4a\"><title>gnuplot_plot_4a</title>\n",
       "<g style=\"fill:none; color:red; stroke:currentColor; stroke-width:0.50; stroke-linecap:butt; stroke-linejoin:miter\">\n",
       "\t<path d=\"M36.4,43.0 L38.0,43.9 L41.3,45.6 L44.6,47.3 L47.8,49.0 L51.1,50.8 L54.4,52.5 L57.6,54.2    L60.9,55.9 L64.2,57.7 L67.4,59.4 L70.7,61.2 L73.9,62.9 L77.2,64.7 L80.5,66.5 L83.7,68.3    L87.0,70.1 L90.3,71.9 L93.5,73.7 L96.8,75.5 L100.1,77.4 L103.3,79.3 L106.6,81.2 L109.9,83.1    L113.1,85.1 L116.4,87.1 L119.7,89.1 L122.9,91.2 L126.2,93.3 L129.5,95.5 L132.7,97.8 L136.0,100.1    L139.3,102.5 L142.5,105.0 L145.8,107.6 L149.0,110.2 L152.3,113.0 L155.6,115.8 L158.8,118.7 L162.1,121.6    L165.4,124.7 L168.6,127.7 L171.9,130.8 L175.2,134.0 L178.4,137.2 L181.7,140.4 L185.0,143.7 L188.2,146.9    L191.5,150.2 L194.8,153.5 L198.0,156.9 L201.3,160.2 L204.6,163.6 L207.8,166.9 L211.1,170.3 L214.4,173.7    L217.6,177.1 L218.1,177.6  h0.01\" stroke=\"rgb(  0,   0,   0)\"/></g>\n",
       "\t</g>\n",
       "\t<g id=\"gnuplot_plot_5a\"><title>gnuplot_plot_5a</title>\n",
       "<g style=\"fill:none; color:red; stroke:currentColor; stroke-width:0.50; stroke-linecap:butt; stroke-linejoin:miter\">\n",
       "\t<path d=\"M66.8,11.3 L67.4,12.0 L70.7,15.4 L73.9,18.8 L77.2,22.2 L80.5,25.5 L83.7,28.9 L87.0,32.3    L90.3,35.6 L93.5,38.9 L96.8,42.2 L100.1,45.5 L103.3,48.8 L106.6,52.1 L109.9,55.3 L113.1,58.5    L116.4,61.6 L119.7,64.7 L122.9,67.8 L126.2,70.8 L129.5,73.8 L132.7,76.7 L136.0,79.5 L139.3,82.2    L142.5,84.9 L145.8,87.5 L149.0,89.9 L152.3,92.4 L155.6,94.7 L158.8,97.0 L162.1,99.2 L165.4,101.3    L168.6,103.4 L171.9,105.4 L175.2,107.4 L178.4,109.4 L181.7,111.3 L185.0,113.2 L188.2,115.1 L191.5,116.9    L194.8,118.8 L198.0,120.6 L201.3,122.4 L204.6,124.2 L207.8,126.0 L211.1,127.8 L214.4,129.5 L217.6,131.3    L220.9,133.0 L224.1,134.8 L227.4,136.5 L230.7,138.3 L233.9,140.0 L237.2,141.7 L240.5,143.4 L243.7,145.2    L247.0,146.9 L250.3,148.6 L251.9,149.4  h0.01\" stroke=\"rgb(  0,   0,   0)\"/></g>\n",
       "\t</g>\n",
       "<g style=\"fill:none; color:black; stroke:currentColor; stroke-width:0.50; stroke-linecap:butt; stroke-linejoin:miter\">\n",
       "</g>\n",
       "</g>\n",
       "</svg>"
      ],
      "text/plain": [
       "<IPython.core.display.SVG object>"
      ]
     },
     "metadata": {},
     "output_type": "display_data"
    },
    {
     "data": {
      "text/plain": [
       "data =\r\n",
       "\r\n",
       "   0.401528   0.218429   0.441171  -0.042352  -0.165122  -0.489258  -0.514739\r\n",
       "\r\n",
       "Durch Regression von Y=a*X+b bestimmte Werte:\r\n",
       "a=-1.02 +-0.18\r\n",
       "b=0.49 +-0.11\r\n"
      ]
     },
     "execution_count": 15,
     "metadata": {},
     "output_type": "execute_result"
    }
   ],
   "source": [
    "% Erzeuge Zufallswerte\n",
    "N=7;\n",
    "a_wahr=-1.0;\n",
    "b_wahr=0.5;\n",
    "s=0.4;%  Messfehler \n",
    "t=linspace(0,1,N);\n",
    "data=a_wahr.*t+b_wahr+randn(1,N)*s.^2;\n",
    "% Gleiche Werte wie Python-Beispiel oben\n",
    "data=[ 0.40152768  0.2184287   0.44117141 -0.04235238 -0.16512194 -0.4892583 -0.51473881]\n",
    "data_wahr=a_wahr.*t+b_wahr;\n",
    "\n",
    "A=[transpose(t)./s,ones(N,1)./s];\n",
    "d=[transpose(data./s)];\n",
    "x=inv(transpose(A)*A)*transpose(A)*d ;\n",
    "sigma_x = s.^2 .* inv(transpose(A)*A);\n",
    "sigma_a2=sigma_x(1,1);\n",
    "sigma_ab2=sigma_x(1,2);\n",
    "sigma_b2=sigma_x(2,2);\n",
    "a=x(1);\n",
    "b=x(2);\n",
    "\n",
    "disp('Durch Regression von Y=a*X+b bestimmte Werte:')\n",
    "disp(['a=',num2str(a,'%3.2f'),' +-',num2str(sqrt(sigma_a2),'%3.2f')])\n",
    "disp(['b=',num2str(b,'%3.2f'),' +-',num2str(sqrt(sigma_b2),'%3.2f')])\n",
    "\n",
    "X=linspace(-1,2);\n",
    "Y=a*X+b;\n",
    "sigma_Y=sqrt(sigma_a2.*X.^2+2.*sigma_ab2.*X+sigma_b2);\n",
    "\n",
    "errorbar(t,data,s.^2,'k.');\n",
    "hold;\n",
    "plot(X,Y);\n",
    "plot(X,Y-sigma_Y*2,'k-');\n",
    "plot(X,Y+sigma_Y*2,'k-');\n",
    "axis([-0.5,1.5,-1,1]);\n",
    "grid();"
   ]
  },
  {
   "cell_type": "code",
   "execution_count": 12,
   "metadata": {
    "collapsed": false
   },
   "outputs": [
    {
     "data": {
      "text/plain": [
       "sigma_x =\r\n",
       "\r\n",
       "   0.032914  -0.016457\r\n",
       "  -0.016457   0.011886\r\n",
       "\r\n"
      ]
     },
     "execution_count": 12,
     "metadata": {},
     "output_type": "execute_result"
    }
   ],
   "source": [
    "sigma_x"
   ]
  },
  {
   "cell_type": "markdown",
   "metadata": {
    "collapsed": false
   },
   "source": [
    "## Octave Regress-Funktion"
   ]
  },
  {
   "cell_type": "code",
   "execution_count": 17,
   "metadata": {
    "collapsed": false
   },
   "outputs": [
    {
     "data": {
      "image/svg+xml": [
       "<svg height=\"420px\" viewBox=\"0 0 268 201\" width=\"560px\" xmlns=\"http://www.w3.org/2000/svg\" xmlns:xlink=\"http://www.w3.org/1999/xlink\">\n",
       "\n",
       "<title>Gnuplot</title>\n",
       "<desc>Produced by GNUPLOT 4.6 patchlevel 4 </desc>\n",
       "\n",
       "<g id=\"gnuplot_canvas\">\n",
       "\n",
       "<rect fill=\"none\" height=\"201\" width=\"268\" x=\"0\" y=\"0\"/>\n",
       "<defs>\n",
       "\n",
       "\t<circle id=\"gpDot\" r=\"0.5\" stroke-width=\"0.5\"/>\n",
       "\t<path d=\"M-1,0 h2 M0,-1 v2\" id=\"gpPt0\" stroke=\"currentColor\" stroke-width=\"0.333\"/>\n",
       "\t<path d=\"M-1,-1 L1,1 M1,-1 L-1,1\" id=\"gpPt1\" stroke=\"currentColor\" stroke-width=\"0.333\"/>\n",
       "\t<path d=\"M-1,0 L1,0 M0,-1 L0,1 M-1,-1 L1,1 M-1,1 L1,-1\" id=\"gpPt2\" stroke=\"currentColor\" stroke-width=\"0.333\"/>\n",
       "\t<rect height=\"2\" id=\"gpPt3\" stroke=\"currentColor\" stroke-width=\"0.333\" width=\"2\" x=\"-1\" y=\"-1\"/>\n",
       "\t<rect fill=\"currentColor\" height=\"2\" id=\"gpPt4\" stroke=\"currentColor\" stroke-width=\"0.333\" width=\"2\" x=\"-1\" y=\"-1\"/>\n",
       "\t<circle cx=\"0\" cy=\"0\" id=\"gpPt5\" r=\"1\" stroke=\"currentColor\" stroke-width=\"0.333\"/>\n",
       "\t<use fill=\"currentColor\" id=\"gpPt6\" stroke=\"none\" xlink:href=\"#gpPt5\"/>\n",
       "\t<path d=\"M0,-1.33 L-1.33,0.67 L1.33,0.67 z\" id=\"gpPt7\" stroke=\"currentColor\" stroke-width=\"0.333\"/>\n",
       "\t<use fill=\"currentColor\" id=\"gpPt8\" stroke=\"none\" xlink:href=\"#gpPt7\"/>\n",
       "\t<use id=\"gpPt9\" stroke=\"currentColor\" transform=\"rotate(180)\" xlink:href=\"#gpPt7\"/>\n",
       "\t<use fill=\"currentColor\" id=\"gpPt10\" stroke=\"none\" xlink:href=\"#gpPt9\"/>\n",
       "\t<use id=\"gpPt11\" stroke=\"currentColor\" transform=\"rotate(45)\" xlink:href=\"#gpPt3\"/>\n",
       "\t<use fill=\"currentColor\" id=\"gpPt12\" stroke=\"none\" xlink:href=\"#gpPt11\"/>\n",
       "</defs>\n",
       "<g style=\"fill:none; color:white; stroke:currentColor; stroke-width:1.00; stroke-linecap:butt; stroke-linejoin:miter\">\n",
       "</g>\n",
       "<g style=\"fill:none; color:black; stroke:currentColor; stroke-width:1.00; stroke-linecap:butt; stroke-linejoin:miter\">\n",
       "\t<g style=\"stroke:none; shape-rendering:crispEdges\">\n",
       "\t\t<polygon fill=\"rgb(255, 255, 255)\" points=\"36.4,177.6 251.8,177.6 251.8,11.4 36.4,11.4 \"/>\n",
       "\t</g>\n",
       "\t<path d=\"M36.4,177.6 L36.4,11.4 L251.8,11.4 L251.8,177.6 L36.4,177.6  h0.01\" stroke=\"black\"/></g>\n",
       "<g style=\"fill:none; color:black; stroke:black; stroke-width:0.50; stroke-linecap:butt; stroke-linejoin:miter\">\n",
       "</g>\n",
       "<g style=\"fill:none; color:gray; stroke:currentColor; stroke-width:0.50; stroke-linecap:butt; stroke-linejoin:miter\">\n",
       "\t<path class=\"gridline\" d=\"M36.4,177.6 L251.9,177.6  h0.01\" stroke=\"gray\" stroke-dasharray=\" 2,4\"/></g>\n",
       "<g style=\"fill:none; color:black; stroke:currentColor; stroke-width:0.50; stroke-linecap:butt; stroke-linejoin:miter\">\n",
       "\t<path d=\"M36.4,177.6 L44.8,177.6 M251.9,177.6 L243.5,177.6  h0.01\" stroke=\"black\"/>\t<g style=\"stroke:none; fill:rgb(0,0,0); font-family:{}; font-size:10.00pt; text-anchor:end\" transform=\"translate(30.8,181.3)\">\n",
       "\t\t<text><tspan>-1</tspan></text>\n",
       "\t</g>\n",
       "</g>\n",
       "<g style=\"fill:none; color:gray; stroke:currentColor; stroke-width:0.50; stroke-linecap:butt; stroke-linejoin:miter\">\n",
       "\t<path class=\"gridline\" d=\"M36.4,136.0 L251.9,136.0  h0.01\" stroke=\"gray\" stroke-dasharray=\" 2,4\"/></g>\n",
       "<g style=\"fill:none; color:black; stroke:currentColor; stroke-width:0.50; stroke-linecap:butt; stroke-linejoin:miter\">\n",
       "\t<path d=\"M36.4,136.0 L44.8,136.0 M251.9,136.0 L243.5,136.0  h0.01\" stroke=\"black\"/>\t<g style=\"stroke:none; fill:rgb(0,0,0); font-family:{}; font-size:10.00pt; text-anchor:end\" transform=\"translate(30.8,139.7)\">\n",
       "\t\t<text><tspan>-0.5</tspan></text>\n",
       "\t</g>\n",
       "</g>\n",
       "<g style=\"fill:none; color:gray; stroke:currentColor; stroke-width:0.50; stroke-linecap:butt; stroke-linejoin:miter\">\n",
       "\t<path class=\"gridline\" d=\"M36.4,94.4 L251.9,94.4  h0.01\" stroke=\"gray\" stroke-dasharray=\" 2,4\"/></g>\n",
       "<g style=\"fill:none; color:black; stroke:currentColor; stroke-width:0.50; stroke-linecap:butt; stroke-linejoin:miter\">\n",
       "\t<path d=\"M36.4,94.4 L44.8,94.4 M251.9,94.4 L243.5,94.4  h0.01\" stroke=\"black\"/>\t<g style=\"stroke:none; fill:rgb(0,0,0); font-family:{}; font-size:10.00pt; text-anchor:end\" transform=\"translate(30.8,98.1)\">\n",
       "\t\t<text><tspan>0</tspan></text>\n",
       "\t</g>\n",
       "</g>\n",
       "<g style=\"fill:none; color:gray; stroke:currentColor; stroke-width:0.50; stroke-linecap:butt; stroke-linejoin:miter\">\n",
       "\t<path class=\"gridline\" d=\"M36.4,52.9 L251.9,52.9  h0.01\" stroke=\"gray\" stroke-dasharray=\" 2,4\"/></g>\n",
       "<g style=\"fill:none; color:black; stroke:currentColor; stroke-width:0.50; stroke-linecap:butt; stroke-linejoin:miter\">\n",
       "\t<path d=\"M36.4,52.9 L44.8,52.9 M251.9,52.9 L243.5,52.9  h0.01\" stroke=\"black\"/>\t<g style=\"stroke:none; fill:rgb(0,0,0); font-family:{}; font-size:10.00pt; text-anchor:end\" transform=\"translate(30.8,56.6)\">\n",
       "\t\t<text><tspan>0.5</tspan></text>\n",
       "\t</g>\n",
       "</g>\n",
       "<g style=\"fill:none; color:gray; stroke:currentColor; stroke-width:0.50; stroke-linecap:butt; stroke-linejoin:miter\">\n",
       "\t<path class=\"gridline\" d=\"M36.4,11.3 L251.9,11.3  h0.01\" stroke=\"gray\" stroke-dasharray=\" 2,4\"/></g>\n",
       "<g style=\"fill:none; color:black; stroke:currentColor; stroke-width:0.50; stroke-linecap:butt; stroke-linejoin:miter\">\n",
       "\t<path d=\"M36.4,11.3 L44.8,11.3 M251.9,11.3 L243.5,11.3  h0.01\" stroke=\"black\"/>\t<g style=\"stroke:none; fill:rgb(0,0,0); font-family:{}; font-size:10.00pt; text-anchor:end\" transform=\"translate(30.8,15.0)\">\n",
       "\t\t<text><tspan>1</tspan></text>\n",
       "\t</g>\n",
       "</g>\n",
       "<g style=\"fill:none; color:gray; stroke:currentColor; stroke-width:0.50; stroke-linecap:butt; stroke-linejoin:miter\">\n",
       "\t<path class=\"gridline\" d=\"M36.4,177.6 L36.4,11.3  h0.01\" stroke=\"gray\" stroke-dasharray=\" 2,4\"/></g>\n",
       "<g style=\"fill:none; color:black; stroke:currentColor; stroke-width:0.50; stroke-linecap:butt; stroke-linejoin:miter\">\n",
       "\t<path d=\"M36.4,177.6 L36.4,169.2 M36.4,11.3 L36.4,19.7  h0.01\" stroke=\"black\"/>\t<g style=\"stroke:none; fill:rgb(0,0,0); font-family:{}; font-size:10.00pt; text-anchor:middle\" transform=\"translate(36.4,193.3)\">\n",
       "\t\t<text><tspan>-0.5</tspan></text>\n",
       "\t</g>\n",
       "</g>\n",
       "<g style=\"fill:none; color:gray; stroke:currentColor; stroke-width:0.50; stroke-linecap:butt; stroke-linejoin:miter\">\n",
       "\t<path class=\"gridline\" d=\"M90.3,177.6 L90.3,11.3  h0.01\" stroke=\"gray\" stroke-dasharray=\" 2,4\"/></g>\n",
       "<g style=\"fill:none; color:black; stroke:currentColor; stroke-width:0.50; stroke-linecap:butt; stroke-linejoin:miter\">\n",
       "\t<path d=\"M90.3,177.6 L90.3,169.2 M90.3,11.3 L90.3,19.7  h0.01\" stroke=\"black\"/>\t<g style=\"stroke:none; fill:rgb(0,0,0); font-family:{}; font-size:10.00pt; text-anchor:middle\" transform=\"translate(90.3,193.3)\">\n",
       "\t\t<text><tspan>0</tspan></text>\n",
       "\t</g>\n",
       "</g>\n",
       "<g style=\"fill:none; color:gray; stroke:currentColor; stroke-width:0.50; stroke-linecap:butt; stroke-linejoin:miter\">\n",
       "\t<path class=\"gridline\" d=\"M144.2,177.6 L144.2,11.3  h0.01\" stroke=\"gray\" stroke-dasharray=\" 2,4\"/></g>\n",
       "<g style=\"fill:none; color:black; stroke:currentColor; stroke-width:0.50; stroke-linecap:butt; stroke-linejoin:miter\">\n",
       "\t<path d=\"M144.2,177.6 L144.2,169.2 M144.2,11.3 L144.2,19.7  h0.01\" stroke=\"black\"/>\t<g style=\"stroke:none; fill:rgb(0,0,0); font-family:{}; font-size:10.00pt; text-anchor:middle\" transform=\"translate(144.2,193.3)\">\n",
       "\t\t<text><tspan>0.5</tspan></text>\n",
       "\t</g>\n",
       "</g>\n",
       "<g style=\"fill:none; color:gray; stroke:currentColor; stroke-width:0.50; stroke-linecap:butt; stroke-linejoin:miter\">\n",
       "\t<path class=\"gridline\" d=\"M198.0,177.6 L198.0,11.3  h0.01\" stroke=\"gray\" stroke-dasharray=\" 2,4\"/></g>\n",
       "<g style=\"fill:none; color:black; stroke:currentColor; stroke-width:0.50; stroke-linecap:butt; stroke-linejoin:miter\">\n",
       "\t<path d=\"M198.0,177.6 L198.0,169.2 M198.0,11.3 L198.0,19.7  h0.01\" stroke=\"black\"/>\t<g style=\"stroke:none; fill:rgb(0,0,0); font-family:{}; font-size:10.00pt; text-anchor:middle\" transform=\"translate(198.0,193.3)\">\n",
       "\t\t<text><tspan>1</tspan></text>\n",
       "\t</g>\n",
       "</g>\n",
       "<g style=\"fill:none; color:gray; stroke:currentColor; stroke-width:0.50; stroke-linecap:butt; stroke-linejoin:miter\">\n",
       "\t<path class=\"gridline\" d=\"M251.9,177.6 L251.9,11.3  h0.01\" stroke=\"gray\" stroke-dasharray=\" 2,4\"/></g>\n",
       "<g style=\"fill:none; color:black; stroke:currentColor; stroke-width:0.50; stroke-linecap:butt; stroke-linejoin:miter\">\n",
       "\t<path d=\"M251.9,177.6 L251.9,169.2 M251.9,11.3 L251.9,19.7  h0.01\" stroke=\"black\"/>\t<g style=\"stroke:none; fill:rgb(0,0,0); font-family:{}; font-size:10.00pt; text-anchor:middle\" transform=\"translate(251.9,193.3)\">\n",
       "\t\t<text><tspan>1.5</tspan></text>\n",
       "\t</g>\n",
       "\t<path d=\"M36.4,11.3 L36.4,177.6 L251.9,177.6 L251.9,11.3 L36.4,11.3 Z  h0.01\" stroke=\"black\"/></g>\n",
       "\t<g id=\"gnuplot_plot_1a\"><title>gnuplot_plot_1a</title>\n",
       "<g style=\"fill:none; color:red; stroke:currentColor; stroke-width:0.50; stroke-linecap:butt; stroke-linejoin:miter\">\n",
       "\t<path d=\"M90.3,74.4 L90.3,47.8 M89.2,47.8 L91.4,47.8 M89.2,74.4 L91.4,74.4 M108.2,89.6 L108.2,63.0    M107.2,63.0 L109.3,63.0 M107.2,89.6 L109.3,89.6 M126.2,71.1 L126.2,44.5 M125.1,44.5 L127.3,44.5    M125.1,71.1 L127.3,71.1 M144.2,111.3 L144.2,84.7 M143.1,84.7 L145.2,84.7 M143.1,111.3 L145.2,111.3    M162.1,121.5 L162.1,94.9 M161.0,94.9 L163.2,94.9 M161.0,121.5 L163.2,121.5 M180.1,148.4 L180.1,121.8    M179.0,121.8 L181.1,121.8 M179.0,148.4 L181.1,148.4 M198.0,150.6 L198.0,123.9 M196.9,123.9 L199.1,123.9    M196.9,150.6 L199.1,150.6  h0.01\" stroke=\"rgb(  0,   0,   0)\"/></g>\n",
       "\t</g>\n",
       "\t<g id=\"gnuplot_plot_2a\"><title>gnuplot_plot_2a</title>\n",
       "<g style=\"fill:none; color:green; stroke:currentColor; stroke-width:0.50; stroke-linecap:butt; stroke-linejoin:miter\">\n",
       "\t<use color=\"rgb(  0,   0,   0)\" transform=\"translate(90.3,61.1) scale(2.00)\" xlink:href=\"#gpPt6\"/>\n",
       "\t<use color=\"rgb(  0,   0,   0)\" transform=\"translate(108.2,76.3) scale(2.00)\" xlink:href=\"#gpPt6\"/>\n",
       "\t<use color=\"rgb(  0,   0,   0)\" transform=\"translate(126.2,57.8) scale(2.00)\" xlink:href=\"#gpPt6\"/>\n",
       "\t<use color=\"rgb(  0,   0,   0)\" transform=\"translate(144.2,98.0) scale(2.00)\" xlink:href=\"#gpPt6\"/>\n",
       "\t<use color=\"rgb(  0,   0,   0)\" transform=\"translate(162.1,108.2) scale(2.00)\" xlink:href=\"#gpPt6\"/>\n",
       "\t<use color=\"rgb(  0,   0,   0)\" transform=\"translate(180.1,135.1) scale(2.00)\" xlink:href=\"#gpPt6\"/>\n",
       "\t<use color=\"rgb(  0,   0,   0)\" transform=\"translate(198.0,137.3) scale(2.00)\" xlink:href=\"#gpPt6\"/>\n",
       "</g>\n",
       "\t</g>\n",
       "\t<g id=\"gnuplot_plot_3a\"><title>gnuplot_plot_3a</title>\n",
       "<g style=\"fill:none; color:red; stroke:currentColor; stroke-width:0.50; stroke-linecap:butt; stroke-linejoin:miter\">\n",
       "\t<path d=\"M36.5,11.3 L38.0,12.5 L41.3,15.1 L44.6,17.7 L47.8,20.3 L51.1,22.8 L54.4,25.4 L57.6,28.0    L60.9,30.6 L64.2,33.1 L67.4,35.7 L70.7,38.3 L73.9,40.9 L77.2,43.4 L80.5,46.0 L83.7,48.6    L87.0,51.2 L90.3,53.7 L93.5,56.3 L96.8,58.9 L100.1,61.5 L103.3,64.0 L106.6,66.6 L109.9,69.2    L113.1,71.8 L116.4,74.3 L119.7,76.9 L122.9,79.5 L126.2,82.1 L129.5,84.6 L132.7,87.2 L136.0,89.8    L139.3,92.4 L142.5,94.9 L145.8,97.5 L149.0,100.1 L152.3,102.7 L155.6,105.3 L158.8,107.8 L162.1,110.4    L165.4,113.0 L168.6,115.6 L171.9,118.1 L175.2,120.7 L178.4,123.3 L181.7,125.9 L185.0,128.4 L188.2,131.0    L191.5,133.6 L194.8,136.2 L198.0,138.7 L201.3,141.3 L204.6,143.9 L207.8,146.5 L211.1,149.0 L214.4,151.6    L217.6,154.2 L220.9,156.8 L224.1,159.3 L227.4,161.9 L230.7,164.5 L233.9,167.1 L237.2,169.6 L240.5,172.2    L243.7,174.8 L247.0,177.4 L247.3,177.6  h0.01\" stroke=\"rgb(  0,   0, 255)\"/></g>\n",
       "\t</g>\n",
       "<g style=\"fill:none; color:black; stroke:currentColor; stroke-width:0.50; stroke-linecap:butt; stroke-linejoin:miter\">\n",
       "</g>\n",
       "</g>\n",
       "</svg>"
      ],
      "text/plain": [
       "<IPython.core.display.SVG object>"
      ]
     },
     "metadata": {},
     "output_type": "display_data"
    },
    {
     "data": {
      "text/plain": [
       "data =\r\n",
       "\r\n",
       "   0.401528   0.218429   0.441171  -0.042352  -0.165122  -0.489258  -0.514739\r\n",
       "\r\n",
       "Durch Regression von Y=a*X+b bestimmte Werte:\r\n",
       "a=-1.02 +-0.20\r\n",
       "b=0.49 +-0.12\r\n",
       "R^2=0.87\r\n",
       "p=0.00215\r\n"
      ]
     },
     "execution_count": 17,
     "metadata": {},
     "output_type": "execute_result"
    }
   ],
   "source": [
    "% Erzeuge Zufallswerte\n",
    "N=7;\n",
    "a_wahr=-1.0;\n",
    "b_wahr=0.5;\n",
    "s=0.4;%  Messfehler \n",
    "t=linspace(0,1,N);\n",
    "data=a_wahr.*t+b_wahr+randn(1,N)*s.^2;\n",
    "data=[ 0.40152768  0.2184287   0.44117141 -0.04235238 -0.16512194 -0.4892583 -0.51473881]\n",
    "\n",
    "data_wahr=a_wahr.*t+b_wahr;\n",
    "\n",
    "X=[ones(N,1),transpose(t)];\n",
    "Y=transpose(data);\n",
    "ALPHA=0.31; % 1 sigma Konfidenz, Default ist 0.05= 2 Sigma\n",
    "[B, BINT, R, RINT, STATS] = regress (Y, X, ALPHA);\n",
    "a=B(2);\n",
    "b=B(1);\n",
    "x=linspace(-1,2);\n",
    "y=a*x+b;\n",
    "\n",
    "sigma_a=B(2)-BINT(2,1);\n",
    "sigma_b=B(1)-BINT(1,1);\n",
    "\n",
    "disp('Durch Regression von Y=a*X+b bestimmte Werte:')\n",
    "disp(['a=',num2str(a,'%3.2f'),' +-',num2str(sigma_a,'%3.2f')])\n",
    "disp(['b=',num2str(b,'%3.2f'),' +-',num2str(sigma_b,'%3.2f')])\n",
    "\n",
    "R2=STATS(1);\n",
    "disp(['R^2=',num2str(R2,'%3.2f')])\n",
    "\n",
    "p=STATS(3);\n",
    "disp(['p=',num2str(p,'%3.5f')])\n",
    "\n",
    "errorbar(t,data,s.^2,'k.');\n",
    "hold();\n",
    "plot(x,y);\n",
    "\n",
    "axis([-0.5,1.5,-1,1]);\n",
    "grid();"
   ]
  },
  {
   "cell_type": "code",
   "execution_count": 6,
   "metadata": {
    "collapsed": false
   },
   "outputs": [],
   "source": [
    "regress?"
   ]
  },
  {
   "cell_type": "code",
   "execution_count": 14,
   "metadata": {
    "collapsed": false
   },
   "outputs": [
    {
     "data": {
      "text/plain": [
       "ans =  0.87045\r\n"
      ]
     },
     "execution_count": 14,
     "metadata": {},
     "output_type": "execute_result"
    }
   ],
   "source": [
    "corrcoef(t,data)**2"
   ]
  },
  {
   "cell_type": "code",
   "execution_count": null,
   "metadata": {
    "collapsed": true
   },
   "outputs": [],
   "source": []
  }
 ],
 "metadata": {
  "kernelspec": {
   "display_name": "Octave",
   "language": "octave",
   "name": "octave_kernel"
  },
  "language_info": {
   "codemirror_mode": "Octave",
   "file_extension": ".m",
   "help_links": [
    {
     "text": "MetaKernel Magics",
     "url": "https://github.com/calysto/metakernel/blob/master/metakernel/magics/README.md"
    }
   ],
   "mimetype": "text/x-octave",
   "name": "octave_kernel"
  }
 },
 "nbformat": 4,
 "nbformat_minor": 0
}
