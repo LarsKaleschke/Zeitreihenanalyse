{
 "cells": [
  {
   "cell_type": "markdown",
   "metadata": {},
   "source": [
    "# Fehlerfortpflanzung \n",
    "\n",
    "Es sei $z=f(u,v,..)$ eine Größe, die aus Zufallsvariablen abgeleitet ist. Für jede Realisierung ($u_i, v_i, ..)$ kann man $z_i$ ausrechnen\n",
    "\n",
    "$$z_i=f(u_i, v_i,..)$$\n",
    "\n",
    "Hat man viele Realisierungen zur Verfügung, so kann man die Varianz von $z$ abschätzen\n",
    "\n",
    "$$\\sigma_z^2=\\frac{1}{N-1} \\sum_{i=1}^N (z_i-\\bar{z})^2$$\n",
    "\n",
    "Näherungsweise gilt\n",
    "\n",
    "$$z_i-\\bar{z}\\approx(u_i-\\bar{u}) \\frac{\\partial f}{\\partial u}+ (v_i-\\bar{v}) \\frac{\\partial f}{\\partial v} + ...$$\n",
    "\n",
    "damit erhält man\n",
    "\n",
    "$$\\sigma_z^2\\approx\\frac{1}{N-1} \\sum_{i=1}^N \\left[ (u_i-\\bar{u})^2 (\\frac{\\partial f}{\\partial u})^2 + (v_i-\\bar{v})^2 (\\frac{\\partial f}{\\partial v})^2 + (u_i-\\bar{u})(v_i-\\bar{v}) (\\frac{\\partial f}{\\partial u})(\\frac{\\partial f}{\\partial v}) + ...\\right]$$\n",
    "\n",
    "oder \n",
    "\n",
    "$$\\sigma_z^2\\approx (\\frac{\\partial f}{\\partial u})^2 \\sigma_u^2 + (\\frac{\\partial f}{\\partial v})^2 \\sigma_v^2 + 2 \\frac{\\partial f}{\\partial u}\\frac{\\partial f}{\\partial v}  \\sigma_{u,v}^2 +\\cdots$$\n",
    "\n",
    "Für unabhängige (unkorrelierte) $u,v$ ist dies das allgemein bekannte Fehlerfortpflanzungsgesetz. Für korrelierte Daten $(\\sigma_{u,v}^2\\ne 0)$ sind die gemischten Terme zu beachten. "
   ]
  },
  {
   "cell_type": "markdown",
   "metadata": {},
   "source": [
    "# Kovarianzmatrix\n",
    "\n",
    "Gegeben ist ein Vektor von Zufallsvariablen (Meßgrößen)\n",
    "\n",
    "$$\\vec{d}=[d_1,..,d_N]^T$$\n",
    "\n",
    "z.B. $d_1$ = Temperatur(Zeit) an Position 1 (Zeitreihe 1) und  $d_2$ = Temperatur(Zeit) an Position 2 (Zeitreihe 2) dann ist die Kovarianzmatrix $\\operatorname{cov}(\\vec{d})$ definiert als\n",
    "\n",
    "$$\\operatorname{cov}(\\vec{d})=(\\operatorname{cov}(d_i,d_j))_{ij=1,..,N}=\\left(\n",
    "\\begin{matrix}\n",
    "\\operatorname{cov}(d_1,d_1) &\\cdots& \\operatorname{cov}(d_1,d_N)\\\\ \n",
    " \\vdots& \\ddots& \\vdots\\\\\n",
    "\\operatorname{cov}(d_N,d_1) &\\cdots& \\operatorname{cov}(d_N,d_N)\n",
    "\\end{matrix}\\right)\n",
    "$$\n",
    "\n",
    "Beachte $\\operatorname{cov}(\\vec{d})$ ist quadratisch und weil $\\operatorname{cov}(d_i,d_j)=\\sigma_{d_i d_j}^2=\\sigma_{d_j d_i}^2$ auch symmetrisch.\n",
    "\n",
    " * Auf der Diagonalen stehen die Varianzen der einzelnen Meßgrößen, auf den Nebendiagonalen stehen die Kovarianzen\n",
    " * Sind die einzelnen Meßgrößen unabhängig, so ist die Kovarianzmatrix diagonal\n",
    " \n",
    " "
   ]
  },
  {
   "cell_type": "markdown",
   "metadata": {
    "collapsed": true
   },
   "source": [
    "# Fehlerfortpflanzung mit korrelierten Zufallsvariablen\n",
    " \n",
    "Es sei nun $y=g(u,v,..)$ eine zweite Größe, die aus Zufallsvariablen abgeleitet ist. Dann folgt wie oben\n",
    "\n",
    "$$\\sigma_y^2\\approx (\\frac{\\partial g}{\\partial u})^2 \\sigma_u^2 + (\\frac{\\partial g}{\\partial v})^2 \\sigma_v^2 + 2 \\frac{\\partial g}{\\partial u}\\frac{\\partial g}{\\partial v}  \\sigma_{u,v}^2+\\cdots$$ \n",
    "\n",
    "\n",
    "Die Kovarianz $\\sigma_{y,z}^2=cov(y,z)$ errechnet sich aus\n",
    "\n",
    "$$\\sigma_{y,z}^2=\\frac{1}{N-1} \\sum_{i=1}^N (y_i-\\bar{y})(z_i-\\bar{z}).$$\n",
    "\n",
    "mit\n",
    "\n",
    "$$y_i-\\bar{y}\\approx(u_i-\\bar{u}) \\frac{\\partial g}{\\partial u}+ (v_i-\\bar{v}) \\frac{\\partial g}{\\partial v} + ...$$\n",
    "\n",
    "$$z_i-\\bar{z}\\approx(u_i-\\bar{u}) \\frac{\\partial f}{\\partial u}+ (v_i-\\bar{v}) \\frac{\\partial f}{\\partial v} + ...$$\n",
    "\n",
    "folgt\n",
    "\n",
    "$$cov(y,z)=\\sigma_{y,z}^2=(\\frac{\\partial g}{\\partial u}\\frac{\\partial f}{\\partial u}) \\sigma_u^2 + (\\frac{\\partial g}{\\partial v}\\frac{\\partial f}{\\partial v}) \\sigma_v^2 + ( \\frac{\\partial f}{\\partial u}\\frac{\\partial g}{\\partial v}+\\frac{\\partial f}{\\partial v}\\frac{\\partial g}{\\partial u})  \\sigma_{u,v}^2+\\cdots$$ \n",
    "\n",
    "\n"
   ]
  },
  {
   "cell_type": "markdown",
   "metadata": {},
   "source": [
    "# Anwendung auf lineare Gleichungssysteme\n",
    "\n",
    "Sei $\\bf{x}$ gegeben als lineare Transformation\n",
    "\n",
    "$$ \\bf{x}= {\\bf G} {\\bf d}$$\n",
    "\n",
    "dann gilt für die Kovarianzmatrix $cov(\\bf{x})$\n",
    "\n",
    "$$\\rm cov(x)={\\bf G}{\\rm cov}({\\bf d}){\\bf G}^T$$.\n",
    "\n",
    "\n",
    "## Beweis für 2x2 Spezialfall\n",
    "\n",
    "Es sei\n",
    " \n",
    "$$\\left( \\begin{array}{c} x \\\\ y \\end{array} \\right)=\\left( \\begin{array}{cc} g_{11} & g_{12} \\\\ g_{21} & g_{22}  \\end{array} \\right) \\left(\\begin{array}{c} u \\\\ v \\end{array}\\right) $$\n",
    "\n",
    "entsprechend\n",
    "\n",
    "$$x= g_{11} u + g_{12} v=f(u,v)$$\n",
    "$$y= g_{21} u + g_{22} v=g(u,v)$$\n",
    "\n",
    "daraus ergibt sich\n",
    "\n",
    "$$\\sigma_x^2=(\\frac{\\partial f}{\\partial u})^2 \\sigma_u^2 + (\\frac{\\partial f}{\\partial v})^2 \\sigma_v^2 + 2 \\frac{\\partial f}{\\partial u}\\frac{\\partial f}{\\partial v}  \\sigma_{u,v}^2$$ \n",
    "\n",
    "\n",
    "$$= g_{11} \\sigma_u^2 + g_{12}^2 \\sigma_v^2 + 2 g_{11}g_{12} \\sigma_{u,v}^2$$ \n",
    "\n",
    "und\n",
    "\n",
    "$$\\sigma_{x,y}^2= g_{11}g_{21} \\sigma_u^2 + g_{12}g_{22} \\sigma_v^2 + (g_{11}g_{22} + g_{12}g_{21}) \\sigma_{u,v}^2$$ \n",
    "\n",
    "Es gilt\n",
    "\n",
    "$$\\rm cov({\\bf x})={\\bf G}{\\rm cov}({\\bf d}){\\bf G}^T=\\left( \\begin{array}{cc} g_{11} & g_{12} \\\\ g_{21} & g_{22}  \\end{array} \\right) \\left( \\begin{array}{cc} \\sigma_u^2  & \\sigma_{u,v} \\\\ \\sigma_{u,v} & \\sigma_v^2   \\end{array} \\right) \\left( \\begin{array}{cc} g_{11} & g_{21} \\\\ g_{12} & g_{22}  \\end{array} \\right) $$\n",
    "\n",
    "\n",
    "$$\\rm cov({\\bf x})=\\left( \\begin{array}{cc} g_{11} \\sigma_u^2 + g_{12} \\sigma_{u,v}^2  & g_{11} \\sigma_{u,v}^2 + g_{12} \\sigma_{v}^2 \\\\ g_{21} \\sigma_{u}^2 + g_{22} \\sigma_{u,v}^2  & g_{21}\\sigma_{u,v}^2 +g_{22}\\sigma_{v}^2  \\end{array} \\right) \\left( \\begin{array}{cc} g_{11} & g_{21} \\\\ g_{12} & g_{22}  \\end{array} \\right) $$\n",
    "\n",
    "$$\\vdots$$"
   ]
  },
  {
   "cell_type": "markdown",
   "metadata": {},
   "source": [
    "# Einschub: symbolische Algebra mit Sympy\n",
    "\n",
    "Die Berechnung ist etwas länglich. Zeit für einen Ausflug in die Möglichkeiten der Computeralgebra mit dem Modul sympy."
   ]
  },
  {
   "cell_type": "code",
   "execution_count": 8,
   "metadata": {
    "collapsed": true
   },
   "outputs": [],
   "source": [
    "import sympy as sp\n",
    "sp.init_printing() # Fuer LaTex-Ausgabe im Notebook\n",
    "g11,g12,g21,g22=sp.symbols('g_{11} g_{12} g_{21} g_{22}')\n",
    "g=sp.Matrix(((g11,g12),(g21,g22)))\n",
    "su,sv,suv=sp.symbols('\\sigma_{u} \\sigma_{v} \\sigma_{uv}')\n",
    "s=sp.Matrix(((su**2,suv**2),(suv**2,sv**2)))"
   ]
  },
  {
   "cell_type": "code",
   "execution_count": 2,
   "metadata": {
    "collapsed": false
   },
   "outputs": [
    {
     "data": {
      "image/png": "[encoded data removed]",
      "text/latex": [
       "$$\\left[\\begin{matrix}g_{{11}} & g_{{12}}\\\\g_{{21}} & g_{{22}}\\end{matrix}\\right]$$"
      ],
      "text/plain": [
       "⎡g_{11}  g_{12}⎤\n",
       "⎢              ⎥\n",
       "⎣g_{21}  g_{22}⎦"
      ]
     },
     "execution_count": 2,
     "metadata": {},
     "output_type": "execute_result"
    }
   ],
   "source": [
    "g"
   ]
  },
  {
   "cell_type": "code",
   "execution_count": 3,
   "metadata": {
    "collapsed": false
   },
   "outputs": [
    {
     "data": {
      "image/png": "[encoded data removed]",
      "text/latex": [
       "$$\\left[\\begin{matrix}\\sigma_{{u}}^{2} & \\sigma_{{uv}}^{2}\\\\\\sigma_{{uv}}^{2} & \\sigma_{{v}}^{2}\\end{matrix}\\right]$$"
      ],
      "text/plain": [
       "⎡          2              2⎤\n",
       "⎢\\sigma_{u}    \\sigma_{uv} ⎥\n",
       "⎢                          ⎥\n",
       "⎢           2            2 ⎥\n",
       "⎣\\sigma_{uv}   \\sigma_{v}  ⎦"
      ]
     },
     "execution_count": 3,
     "metadata": {},
     "output_type": "execute_result"
    }
   ],
   "source": [
    "s"
   ]
  },
  {
   "cell_type": "code",
   "execution_count": 11,
   "metadata": {
    "collapsed": false
   },
   "outputs": [
    {
     "data": {
      "image/png": "[encoded data removed]",
      "text/latex": [
       "$$\\left[\\begin{matrix}\\sigma_{{uv}}^{2} g_{{12}} + \\sigma_{{u}}^{2} g_{{11}} & \\sigma_{{uv}}^{2} g_{{11}} + \\sigma_{{v}}^{2} g_{{12}}\\\\\\sigma_{{uv}}^{2} g_{{22}} + \\sigma_{{u}}^{2} g_{{21}} & \\sigma_{{uv}}^{2} g_{{21}} + \\sigma_{{v}}^{2} g_{{22}}\\end{matrix}\\right]$$"
      ],
      "text/plain": [
       "⎡           2                    2                    2                    2  \n",
       "⎢\\sigma_{uv} ⋅g_{12} + \\sigma_{u} ⋅g_{11}  \\sigma_{uv} ⋅g_{11} + \\sigma_{v} ⋅g\n",
       "⎢                                                                             \n",
       "⎢           2                    2                    2                    2  \n",
       "⎣\\sigma_{uv} ⋅g_{22} + \\sigma_{u} ⋅g_{21}  \\sigma_{uv} ⋅g_{21} + \\sigma_{v} ⋅g\n",
       "\n",
       "     ⎤\n",
       "_{12}⎥\n",
       "     ⎥\n",
       "     ⎥\n",
       "_{22}⎦"
      ]
     },
     "execution_count": 11,
     "metadata": {},
     "output_type": "execute_result"
    }
   ],
   "source": [
    "g*s"
   ]
  },
  {
   "cell_type": "code",
   "execution_count": 5,
   "metadata": {
    "collapsed": false
   },
   "outputs": [
    {
     "data": {
      "image/png": "[encoded data removed]",
      "text/latex": [
       "$$\\left[\\begin{matrix}g_{{11}} \\left(\\sigma_{{uv}}^{2} g_{{12}} + \\sigma_{{u}}^{2} g_{{11}}\\right) + g_{{12}} \\left(\\sigma_{{uv}}^{2} g_{{11}} + \\sigma_{{v}}^{2} g_{{12}}\\right) & g_{{21}} \\left(\\sigma_{{uv}}^{2} g_{{12}} + \\sigma_{{u}}^{2} g_{{11}}\\right) + g_{{22}} \\left(\\sigma_{{uv}}^{2} g_{{11}} + \\sigma_{{v}}^{2} g_{{12}}\\right)\\\\g_{{11}} \\left(\\sigma_{{uv}}^{2} g_{{22}} + \\sigma_{{u}}^{2} g_{{21}}\\right) + g_{{12}} \\left(\\sigma_{{uv}}^{2} g_{{21}} + \\sigma_{{v}}^{2} g_{{22}}\\right) & g_{{21}} \\left(\\sigma_{{uv}}^{2} g_{{22}} + \\sigma_{{u}}^{2} g_{{21}}\\right) + g_{{22}} \\left(\\sigma_{{uv}}^{2} g_{{21}} + \\sigma_{{v}}^{2} g_{{22}}\\right)\\end{matrix}\\right]$$"
      ],
      "text/plain": [
       "⎡       ⎛           2                    2       ⎞          ⎛           2     \n",
       "⎢g_{11}⋅⎝\\sigma_{uv} ⋅g_{12} + \\sigma_{u} ⋅g_{11}⎠ + g_{12}⋅⎝\\sigma_{uv} ⋅g_{1\n",
       "⎢                                                                             \n",
       "⎢       ⎛           2                    2       ⎞          ⎛           2     \n",
       "⎣g_{11}⋅⎝\\sigma_{uv} ⋅g_{22} + \\sigma_{u} ⋅g_{21}⎠ + g_{12}⋅⎝\\sigma_{uv} ⋅g_{2\n",
       "\n",
       "               2       ⎞         ⎛           2                    2       ⎞   \n",
       "1} + \\sigma_{v} ⋅g_{12}⎠  g_{21}⋅⎝\\sigma_{uv} ⋅g_{12} + \\sigma_{u} ⋅g_{11}⎠ + \n",
       "                                                                              \n",
       "               2       ⎞         ⎛           2                    2       ⎞   \n",
       "1} + \\sigma_{v} ⋅g_{22}⎠  g_{21}⋅⎝\\sigma_{uv} ⋅g_{22} + \\sigma_{u} ⋅g_{21}⎠ + \n",
       "\n",
       "       ⎛           2                    2       ⎞⎤\n",
       "g_{22}⋅⎝\\sigma_{uv} ⋅g_{11} + \\sigma_{v} ⋅g_{12}⎠⎥\n",
       "                                                 ⎥\n",
       "       ⎛           2                    2       ⎞⎥\n",
       "g_{22}⋅⎝\\sigma_{uv} ⋅g_{21} + \\sigma_{v} ⋅g_{22}⎠⎦"
      ]
     },
     "execution_count": 5,
     "metadata": {},
     "output_type": "execute_result"
    }
   ],
   "source": [
    "g*s*g.T"
   ]
  },
  {
   "cell_type": "code",
   "execution_count": 12,
   "metadata": {
    "collapsed": false
   },
   "outputs": [
    {
     "data": {
      "image/png": "[encoded data removed]",
      "text/latex": [
       "$$2 \\sigma_{{uv}}^{2} g_{{11}} g_{{12}} + \\sigma_{{u}}^{2} g_{{11}}^{2} + \\sigma_{{v}}^{2} g_{{12}}^{2}$$"
      ],
      "text/plain": [
       "             2                           2       2             2       2\n",
       "2⋅\\sigma_{uv} ⋅g_{11}⋅g_{12} + \\sigma_{u} ⋅g_{11}  + \\sigma_{v} ⋅g_{12} "
      ]
     },
     "execution_count": 12,
     "metadata": {},
     "output_type": "execute_result"
    }
   ],
   "source": [
    "sp.expand((g*s*g.T)[0,0])"
   ]
  },
  {
   "cell_type": "markdown",
   "metadata": {},
   "source": [
    "Identisch mit $\\sigma_x^2$ (vergleiche mit oben)"
   ]
  },
  {
   "cell_type": "code",
   "execution_count": 7,
   "metadata": {
    "collapsed": false
   },
   "outputs": [
    {
     "data": {
      "image/png": "[encoded data removed]",
      "text/latex": [
       "$$\\sigma_{{uv}}^{2} g_{{11}} g_{{22}} + \\sigma_{{uv}}^{2} g_{{12}} g_{{21}} + \\sigma_{{u}}^{2} g_{{11}} g_{{21}} + \\sigma_{{v}}^{2} g_{{12}} g_{{22}}$$"
      ],
      "text/plain": [
       "           2                            2                           2         \n",
       "\\sigma_{uv} ⋅g_{11}⋅g_{22} + \\sigma_{uv} ⋅g_{12}⋅g_{21} + \\sigma_{u} ⋅g_{11}⋅g\n",
       "\n",
       "                  2              \n",
       "_{21} + \\sigma_{v} ⋅g_{12}⋅g_{22}"
      ]
     },
     "execution_count": 7,
     "metadata": {},
     "output_type": "execute_result"
    }
   ],
   "source": [
    "sp.expand((g*s*g.T)[0,1])"
   ]
  },
  {
   "cell_type": "markdown",
   "metadata": {},
   "source": [
    "Identisch mit $\\sigma_{x,y}^2$. Damit haben wir gezeigt, dass die Gleichungen für den Spezialfall 2x2 äquivalent sind."
   ]
  }
 ],
 "metadata": {
  "kernelspec": {
   "display_name": "Python 3",
   "language": "python",
   "name": "python3"
  },
  "language_info": {
   "codemirror_mode": {
    "name": "ipython",
    "version": 3
   },
   "file_extension": ".py",
   "mimetype": "text/x-python",
   "name": "python",
   "nbconvert_exporter": "python",
   "pygments_lexer": "ipython3",
   "version": "3.4.3"
  }
 },
 "nbformat": 4,
 "nbformat_minor": 0
}
