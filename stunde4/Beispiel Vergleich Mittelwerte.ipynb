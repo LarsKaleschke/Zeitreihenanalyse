{
 "cells": [
  {
   "cell_type": "markdown",
   "metadata": {},
   "source": [
    "# Übung: Differenz von Mittelwerten\n",
    "Berechnen Sie zwei Mittelwerte $\\bar{x}_1$ und $\\bar{x}_2$ über zwei Zeiträume und deren Differenz $\\Delta x=\\bar{x}_2-\\bar{x}_1$. Wie wahrscheinlich ist es, dass die Differenz nicht rein zufällig ist? Beschreiben Sie die Signifikanz der Änderung. Nutzen Sie eine Monte-Carlo-Methode zur Berechnung der Signifikanz (z.B. durch zufälliges Umsortieren der Zeitreihe).\n"
   ]
  },
  {
   "cell_type": "code",
   "execution_count": 8,
   "metadata": {
    "collapsed": false
   },
   "outputs": [
    {
     "name": "stdout",
     "output_type": "stream",
     "text": [
      "Populating the interactive namespace from numpy and matplotlib\n",
      "Durchschnitt der ersten 10 Jahre: 7.46\n",
      "Durchschnitt der letzten 10 Jahre: 7.15\n",
      "Differenz: 0.31\n"
     ]
    }
   ],
   "source": [
    "%pylab inline\n",
    "# X Zeitreihe September-Eisausdehnung von 1972-1992 aus Satellitendaten. Einheit: Millionen Quadratkilometer.\n",
    "X=array([7.3,7.7,7.5,7.3,7.3,7.2,7.9,7.2,7.9,7.3,7.5,7.5,7.2,6.9,7.5,7.5,7.5,7.0,6.2,6.6,7.6])\n",
    "print('Durchschnitt der ersten 10 Jahre:',(mean(X[0:10])))\n",
    "print('Durchschnitt der letzten 10 Jahre:',(mean(X[11:21])))\n",
    "Differenz=mean(X[0:10])-mean(X[11:21])\n",
    "print('Differenz:',Differenz)"
   ]
  },
  {
   "cell_type": "code",
   "execution_count": 9,
   "metadata": {
    "collapsed": false
   },
   "outputs": [
    {
     "name": "stdout",
     "output_type": "stream",
     "text": [
      "Anzahl: 395 von  10000\n",
      "Irrtumswahrscheinlichkeit 3.95 %\n",
      "Signifikanz 96.05 %\n"
     ]
    }
   ],
   "source": [
    "N=10000\n",
    "D=[]\n",
    "for i in range(0,N):\n",
    "    shuffle(X)\n",
    "    D.append(mean(X[0:10])- mean(X[11:21]))  #Differenz\n",
    "D=array(D)\n",
    "A=sum(D>=Differenz)\n",
    "P=A*100./N         #Irrtumswahrscheinlichkeit in %\n",
    "S=100.-P         #Signifikanz in %\n",
    "print('Anzahl:', A, 'von ',N)\n",
    "print('Irrtumswahrscheinlichkeit',P, '%')\n",
    "print('Signifikanz',S, '%')"
   ]
  },
  {
   "cell_type": "markdown",
   "metadata": {},
   "source": [
    "# Prüfverfahren: Vergleich zweier Mittelwerte \n",
    "\n",
    "Siehe Schönwiese, Abschnitt 8.2.1 (Seite 124, 4. Auflage)\n",
    "\n",
    "Gleicher Stichprobenumfang $n=n_a=n_b$:\n",
    "\n",
    "$$\\hat{t}=\\frac{|\\bar{a}-\\bar{b}|\\sqrt{n}}{\\sqrt{s_a^2+s_b^2}}$$\n",
    "\n",
    "Mit Freiheitsgrad $\\Phi=2n-2$\n",
    "\n"
   ]
  },
  {
   "cell_type": "code",
   "execution_count": 10,
   "metadata": {
    "collapsed": false
   },
   "outputs": [
    {
     "name": "stdout",
     "output_type": "stream",
     "text": [
      "1.80014986263 18\n"
     ]
    }
   ],
   "source": [
    "import scipy.stats as st\n",
    "t_test=st.t.cdf # Student t\n",
    "z_test=st.norm.cdf # Normalverteilung\n",
    "\n",
    "n=10\n",
    "X=array([7.3,7.7,7.5,7.3,7.3,7.2,7.9,7.2,7.9,7.3,7.5,7.5,7.2,6.9,7.5,7.5,7.5,7.0,6.2,6.6,7.6])\n",
    "a=mean(X[0:10])\n",
    "b=mean(X[11:21])\n",
    "sa=std(X[0:10],ddof=1)\n",
    "sb=std(X[11:21],ddof=1)\n",
    "\n",
    "phi=2*n-2\n",
    "t=(a-b)*sqrt(n)/(sqrt(sa**2+sb**2))\n",
    "print(t,phi)"
   ]
  },
  {
   "cell_type": "code",
   "execution_count": 13,
   "metadata": {
    "collapsed": false
   },
   "outputs": [
    {
     "data": {
      "text/plain": [
       "(7.4600000000000009, 0.27568097504180455)"
      ]
     },
     "execution_count": 13,
     "metadata": {},
     "output_type": "execute_result"
    }
   ],
   "source": [
    "a,sa"
   ]
  },
  {
   "cell_type": "code",
   "execution_count": 14,
   "metadata": {
    "collapsed": false
   },
   "outputs": [
    {
     "data": {
      "text/plain": [
       "(7.1500000000000004, 0.46963342678684566)"
      ]
     },
     "execution_count": 14,
     "metadata": {},
     "output_type": "execute_result"
    }
   ],
   "source": [
    "b,sb"
   ]
  },
  {
   "cell_type": "code",
   "execution_count": 24,
   "metadata": {
    "collapsed": false
   },
   "outputs": [
    {
     "data": {
      "text/plain": [
       "0.95569007258302929"
      ]
     },
     "execution_count": 24,
     "metadata": {},
     "output_type": "execute_result"
    }
   ],
   "source": [
    "t_test(t,phi) "
   ]
  },
  {
   "cell_type": "code",
   "execution_count": 25,
   "metadata": {
    "collapsed": false
   },
   "outputs": [
    {
     "data": {
      "text/plain": [
       "0.96408151096942074"
      ]
     },
     "execution_count": 25,
     "metadata": {},
     "output_type": "execute_result"
    }
   ],
   "source": [
    "z_test(t) "
   ]
  },
  {
   "cell_type": "markdown",
   "metadata": {},
   "source": [
    "Signifikanz 95.6% (t-Test) bzw. 96.4% (Normalverteilung) für Ablehnung der Nullhypothese. \n",
    "\n",
    "Die Untersuchung zeigt: die Mittelwerte sind verschieden mit einem Signifikanzniveau von >95%."
   ]
  },
  {
   "cell_type": "markdown",
   "metadata": {},
   "source": [
    "## Octave"
   ]
  },
  {
   "cell_type": "code",
   "execution_count": 8,
   "metadata": {
    "collapsed": false
   },
   "outputs": [
    {
     "data": {
      "text/plain": [
       "1.8001\r\n",
       "18\r\n"
      ]
     },
     "execution_count": 8,
     "metadata": {},
     "output_type": "execute_result"
    }
   ],
   "source": [
    "n=10;\n",
    "X=[7.3,7.7,7.5,7.3,7.3,7.2,7.9,7.2,7.9,7.3,7.5,7.5,7.2,6.9,7.5,7.5,7.5,7.0,6.2,6.6,7.6];\n",
    "a=mean(X(1:10));\n",
    "b=mean(X(12:21));\n",
    "sa=std(X(1:10));\n",
    "sb=std(X(12:21));\n",
    "\n",
    "phi=2*n-2;\n",
    "t=(a-b)*sqrt(n)/(sqrt(sa**2+sb**2));\n",
    "disp(num2str(t));\n",
    "disp(num2str(phi));"
   ]
  },
  {
   "cell_type": "code",
   "execution_count": 10,
   "metadata": {
    "collapsed": false
   },
   "outputs": [
    {
     "data": {
      "text/plain": [
       "ans =  0.95569\r\n"
      ]
     },
     "execution_count": 10,
     "metadata": {},
     "output_type": "execute_result"
    }
   ],
   "source": [
    "tcdf(t,phi)"
   ]
  },
  {
   "cell_type": "code",
   "execution_count": 13,
   "metadata": {
    "collapsed": false
   },
   "outputs": [
    {
     "data": {
      "text/plain": [
       "ans =  0.96407\r\n"
      ]
     },
     "execution_count": 13,
     "metadata": {},
     "output_type": "execute_result"
    }
   ],
   "source": [
    "tcdf(t,10000)"
   ]
  },
  {
   "cell_type": "markdown",
   "metadata": {},
   "source": [
    "Die kumulative Verteilungsfunktion der t-Verteilung wird genutzt, um die Quantile zu berechnen. Im Grenzfall für große Feiheitsgrade/Anzahl von Stichproben entspricht das Ergebnis dem der Normalverteilung."
   ]
  }
 ],
 "metadata": {
  "kernelspec": {
   "display_name": "Python 3",
   "language": "python",
   "name": "python3"
  },
  "language_info": {
   "codemirror_mode": {
    "name": "ipython",
    "version": 3
   },
   "file_extension": ".py",
   "mimetype": "text/x-python",
   "name": "python",
   "nbconvert_exporter": "python",
   "pygments_lexer": "ipython3",
   "version": "3.4.3"
  }
 },
 "nbformat": 4,
 "nbformat_minor": 0
}
