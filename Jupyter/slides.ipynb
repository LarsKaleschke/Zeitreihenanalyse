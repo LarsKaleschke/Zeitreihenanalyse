{
 "cells": [
  {
   "cell_type": "markdown",
   "metadata": {
    "slideshow": {
     "slide_type": "slide"
    }
   },
   "source": [
    "# Jupyter nbconvert\n",
    "\n",
    "The simplest way to use nbconvert is\n",
    "    \n",
    "    jupyter nbconvert mynotebook.ipynb\n",
    "    \n",
    "which will convert mynotebook.ipynb to the default format (probably HTML).\n",
    "    \n",
    "You can specify the export format with `--to`. Options include ['custom', 'html', 'latex', 'markdown', 'notebook', 'pdf', 'python', 'rst', 'script', 'slides']\n",
    "    \n",
    "    jupyter nbconvert --to latex mynotebook.ipynb\n"
   ]
  },
  {
   "cell_type": "markdown",
   "metadata": {
    "slideshow": {
     "slide_type": "slide"
    }
   },
   "source": [
    "# Slides mit Jupyter\n",
    "\n",
    "View -> Cell Toolbar -> Slideshow"
   ]
  },
  {
   "cell_type": "markdown",
   "metadata": {
    "slideshow": {
     "slide_type": "slide"
    }
   },
   "source": [
    "# Einbinden von Abbildungen\n",
    "\n",
    "    ![Beschreibung](Datei.png)\n",
    "\n",
    "![Normalverteilung](Normalverteilung_plot.png)"
   ]
  },
  {
   "cell_type": "code",
   "execution_count": 2,
   "metadata": {
    "collapsed": false,
    "slideshow": {
     "slide_type": "slide"
    }
   },
   "outputs": [
    {
     "name": "stdout",
     "output_type": "stream",
     "text": [
      "[NbConvertApp] Converting notebook slides.ipynb to slides\n",
      "[NbConvertApp] Writing 192646 bytes to slides.slides.html\n",
      "[NbConvertApp] Redirecting reveal.js requests to https://cdnjs.cloudflare.com/ajax/libs/reveal.js/3.1.0\n",
      "Serving your slides at http://127.0.0.1:8000/slides.slides.html\n",
      "Use Control-C to stop this server\n",
      "WARNING:tornado.access:404 GET /custom.css (127.0.0.1) 1.21ms\n",
      "WARNING:tornado.access:404 GET /custom.css (127.0.0.1) 0.50ms\n",
      "^C\n",
      "Interrupted\n",
      "\n"
     ]
    }
   ],
   "source": [
    "!jupyter nbconvert slides.ipynb --to slides --post serve"
   ]
  }
 ],
 "metadata": {
  "celltoolbar": "Slideshow",
  "kernelspec": {
   "display_name": "Python 3",
   "language": "python",
   "name": "python3"
  },
  "language_info": {
   "codemirror_mode": {
    "name": "ipython",
    "version": 3
   },
   "file_extension": ".py",
   "mimetype": "text/x-python",
   "name": "python",
   "nbconvert_exporter": "python",
   "pygments_lexer": "ipython3",
   "version": "3.4.3"
  }
 },
 "nbformat": 4,
 "nbformat_minor": 0
}
