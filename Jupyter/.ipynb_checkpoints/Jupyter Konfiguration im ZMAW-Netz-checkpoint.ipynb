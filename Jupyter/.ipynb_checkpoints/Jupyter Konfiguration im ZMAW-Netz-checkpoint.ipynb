{
 "cells": [
  {
   "cell_type": "markdown",
   "metadata": {},
   "source": [
    "# Jupyter / IPython Notebooks # \n",
    "\n",
    "Sommersemester 2016, Lars Kaleschke\n",
    "\n",
    "[Jupyter Notebook](http://jupyter.org/) ist eine webbasierte Anwendung, die 2014 aus IPython entstanden ist. Sie erlaubt die Kombination von Sourcecode, Gleichungen, Visualisierungen und wissenschaftlicher Dokumentation in einem Dokument.\n",
    "\n",
    "Für die meisten Übungen reicht die Cloud-Umgebung https://cloud.sagemath.com/ völlig aus. Im Folgenden wird beschrieben, wie eine Jupyter-Server im ZMAW-Netz sicher gestartet und genutzt werden kann.\n",
    "\n",
    "\n",
    "## Konfiguration im ZMAW-Netz\n",
    "\n",
    "Zunächst loggen wir uns auf dem Rechner squall3 ein\n",
    "\n",
    "    ssh -X squall3\n",
    "\n",
    "Dann laden wir die Umgebungsvariablen \n",
    "\n",
    "    module load matlab/2015b\n",
    "    module load python3/3.5.0\n",
    "\n",
    "Um diese module load Befehle bei jedem neuen Einloggen nicht immer wieder neu eingeben zu müssen, können diese in der versteckten Datei ~.profile eingetragen werden.\n",
    "\n",
    "Wir installieren einen zusätzlichen Matlab-Kernel für die Jupyter-Umgebung \n",
    "\n",
    "    python3 -m matlab_kernel.install\n",
    "\n",
    "Um mit dem Jupyter-System zu arbeiten, muss zunächst ein Serverprozess gestartet werden. Es ist sehr anzuraten, dass der Jupyter-Server mit einem Passwort geschützt wird. Dazu erstellen wir die entsprechende Konfigurationsdatei mit einem kleinen Skript (siehe unten)\n",
    "    \n",
    "    python3 jupyterconfig.py\n",
    "\n",
    "Nach Eingabe eines Passwortes ist der Jupyter-Server (hoffentlich) einsatzbereit. Das Passwort wird nicht im Klartext, sondern als Hash verschlüsselt in der Konfigurationsdatei gespeichert. Der Jupyter-Notebook-Server wird dann gestartet mit dem Befehl\n",
    "\n",
    "    jupyter notebook &\n",
    "\n",
    "Es sollten nun einige Ausgaben auf dem Terminal zu finden sein, unter anderem\n",
    "\n",
    "    The Jupyter Notebook is running at: http://localhost:8888/\n",
    "    Use Control-C to stop this server and shut down all kernels (twice to skip confirmation).\n",
    "\n",
    "Es sollte sich auch ein Browser (Firefox) öffnen und ein Passwort angefragt werden. Falls schon ein weiterer Firefox-Prozess auf einem anderen Rechner laufen sollte, so ist dieser zunächst zu stoppen. Nach dem Start von Firefox auf squall3 ist die obige URL (http://localhost:8888/) in den Browser einzugeben, wobei 8888 durch die entsprechende Portnummer ersetzt werden muss.\n",
    "\n",
    "Der Jupyter Prozess läuft im Hintergrund weiter, auch wenn Sie sich ausloggen. Um den Prozess zu stoppen, können Sie ihn entweder auf der Unix-Terminalkonsole mit\n",
    "\n",
    "    fg\n",
    "\n",
    "in den Vordergrund holen und dann mit der Tastenkombination Strg/CTRL C abbrechen. Eine weitere Methode ist folgender Befehl\n",
    "\n",
    "    killall ipython    "
   ]
  },
  {
   "cell_type": "markdown",
   "metadata": {},
   "source": [
    "## Konfigurationshilfe "
   ]
  },
  {
   "cell_type": "code",
   "execution_count": 1,
   "metadata": {
    "collapsed": false
   },
   "outputs": [
    {
     "name": "stdout",
     "output_type": "stream",
     "text": [
      "Overwriting jupyterconfig.py\n"
     ]
    }
   ],
   "source": [
    "%%file jupyterconfig.py\n",
    "import os,os.path\n",
    "from notebook.auth import passwd\n",
    "from pylab import loadtxt\n",
    "\n",
    "home=os.getenv('HOME')\n",
    "cfile=home+'/.jupyter/jupyter_notebook_config.py'\n",
    "\n",
    "if os.path.exists(cfile):\n",
    "    print(os.path.basename(cfile),'exists')\n",
    "    T=loadtxt(cfile,comments='#',dtype=str)\n",
    "else:\n",
    "    print('Generating config file')\n",
    "    os.system('jupyter notebook --generate-config')\n",
    "    T=loadtxt(cfile,comments='#',dtype=str)\n",
    "\n",
    "has_passwd=False\n",
    "for t in T:\n",
    "    if str(t).find('c.NotebookApp.password')!=-1:\n",
    "        has_passwd=True\n",
    "        print(os.path.basename(cfile),'includes password hash')\n",
    "        \n",
    "if has_passwd==False:\n",
    "    print('No password hash found')\n",
    "    sha=passwd()\n",
    "    l1='c.NotebookApp.password = \"'+sha+'\"\\n'\n",
    "    l2='c.NotebookApp.browser = \"firefox\"\\n'\n",
    "    fid=open(cfile,'a')\n",
    "    fid.write(l1)\n",
    "    fid.write(l2)\n",
    "    fid.close()\n",
    "    print('Added password hash to configuration file')\n",
    "    print('Please restart jupyter server')"
   ]
  }
 ],
 "metadata": {
  "kernelspec": {
   "display_name": "Python 3",
   "language": "python",
   "name": "python3"
  },
  "language_info": {
   "codemirror_mode": {
    "name": "ipython",
    "version": 3
   },
   "file_extension": ".py",
   "mimetype": "text/x-python",
   "name": "python",
   "nbconvert_exporter": "python",
   "pygments_lexer": "ipython3",
   "version": "3.4.3"
  }
 },
 "nbformat": 4,
 "nbformat_minor": 0
}
