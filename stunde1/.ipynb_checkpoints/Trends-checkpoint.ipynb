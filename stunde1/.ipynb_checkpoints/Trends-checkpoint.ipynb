{
 "cells": [
  {
   "cell_type": "markdown",
   "metadata": {
    "collapsed": true,
    "slideshow": {
     "slide_type": "slide"
    }
   },
   "source": [
    "# Trend\n",
    "\n",
    "Trend (vom englischen trend; aus mittelhochdeutsch: trendeln „kreiseln“, „nach unten rollen“) steht für:\n",
    "\n",
    " * eine besonders tiefgreifende und nachhaltige Entwicklung (Soziologie)\n",
    " * eine Entwicklung im mathematischen, statistischen, messtechnischen und wirtschaftlichen Bereich (Statistik)\n",
    " * Kurstrend – eine Entwicklung von Börsenkursen \n",
    " * Markttrend – eine voraussichtliche Entwicklung der Nachfrage auf einem Markt\n",
    "\n",
    "\n",
    "## Was liegt im Trend?\n",
    "\n",
    "Zwei Anfragen an Google-Trends:\n",
    "\n",
    "<img src='IPython_trends.png' width=500>\n",
    "\n",
    "<img src='MATLAB.png' width=500>\n",
    "\n",
    " * Wären die obigen Kurven Börsenkurse, wo würden Sie investieren?\n",
    " * Beschreiben Sie die Kurven in Worten\n",
    " * Was sind wohl die zugehörigen Suchanfragen?"
   ]
  },
  {
   "cell_type": "markdown",
   "metadata": {
    "slideshow": {
     "slide_type": "slide"
    }
   },
   "source": [
    "# Prognosen\n",
    "\n",
    "<img src='IPython_prognose.png' width=500>\n",
    "\n",
    "<img src='MATLAB_prognose.png' width=500>\n",
    "\n",
    " * Wie macht man eine Prognose?"
   ]
  },
  {
   "cell_type": "markdown",
   "metadata": {
    "slideshow": {
     "slide_type": "slide"
    }
   },
   "source": [
    "<img src='CO2_1970.png' width=400>\n",
    "\n",
    "Prognose aus der Studie [Die Grenzen des Wachstums](http://de.wikipedia.org/wiki/Die_Grenzen_des_Wachstums) veröffentlicht im Jahr 1972"
   ]
  },
  {
   "cell_type": "markdown",
   "metadata": {
    "slideshow": {
     "slide_type": "slide"
    }
   },
   "source": [
    "# Überprüfung der Prognose (Validation)\n",
    "\n",
    "\n",
    "<img src='co2_data_mlo.jpg' width=500>\n",
    "\n",
    "\n",
    "* Wiederholen Sie in 1-2 Jahren die Google-Trends Suchanfrage mit den Begriffen \"IPython notebook\" und \"MATLAB\" !"
   ]
  },
  {
   "cell_type": "code",
   "execution_count": 3,
   "metadata": {
    "collapsed": false
   },
   "outputs": [
    {
     "name": "stdout",
     "output_type": "stream",
     "text": [
      "[NbConvertApp] Using existing profile dir: u'/home/lars/.ipython/profile_default'\n",
      "[NbConvertApp] Converting notebook Trends.ipynb to html\n",
      "[NbConvertApp] Support files will be in Trends_files/\n",
      "[NbConvertApp] Loaded template full.tpl\n",
      "[NbConvertApp] Writing 197726 bytes to Trends.html\n"
     ]
    }
   ],
   "source": [
    "!ipython nbconvert --to html Trends.ipynb "
   ]
  },
  {
   "cell_type": "code",
   "execution_count": null,
   "metadata": {
    "collapsed": true
   },
   "outputs": [],
   "source": []
  }
 ],
 "metadata": {
  "kernelspec": {
   "display_name": "Python 2",
   "language": "python",
   "name": "python2"
  },
  "language_info": {
   "codemirror_mode": {
    "name": "ipython",
    "version": 2
   },
   "file_extension": ".py",
   "mimetype": "text/x-python",
   "name": "python",
   "nbconvert_exporter": "python",
   "pygments_lexer": "ipython2",
   "version": "2.7.6"
  }
 },
 "nbformat": 4,
 "nbformat_minor": 0
}
