{
 "cells": [
  {
   "cell_type": "markdown",
   "metadata": {
    "collapsed": true,
    "slideshow": {
     "slide_type": "slide"
    }
   },
   "source": [
    "# Trend\n",
    "\n",
    "Trend (vom englischen trend; aus mittelhochdeutsch: trendeln „kreiseln“, „nach unten rollen“) steht für:\n",
    "\n",
    " * eine besonders tiefgreifende und nachhaltige Entwicklung (Soziologie)\n",
    " * eine Entwicklung im mathematischen, statistischen, messtechnischen und wirtschaftlichen Bereich (Statistik)\n",
    " * Kurstrend – eine Entwicklung von Börsenkursen \n",
    " * Markttrend – eine voraussichtliche Entwicklung der Nachfrage auf einem Markt\n",
    "\n",
    "\n",
    "## Was liegt im Trend?\n",
    "\n",
    "Zwei Anfragen an Google-Trends:\n",
    "\n",
    "<img src='Jupyter_2016.png' width=500>\n",
    "\n",
    "<img src='Matlab_2016.png' width=500>\n",
    "\n",
    " * Beschreiben Sie die Kurven in Worten\n",
    " * Was sind wohl die zugehörigen Suchanfragen?\n",
    " \n",
    "http://www.tiobe.com/tiobe_index"
   ]
  },
  {
   "cell_type": "markdown",
   "metadata": {
    "slideshow": {
     "slide_type": "slide"
    }
   },
   "source": [
    "# Prognosen\n",
    "\n",
    " * Wie macht man eine Prognose?"
   ]
  },
  {
   "cell_type": "markdown",
   "metadata": {
    "slideshow": {
     "slide_type": "slide"
    }
   },
   "source": [
    "<img src='CO2_1970.png' width=400>\n",
    "\n",
    "Prognose aus der Studie [Die Grenzen des Wachstums](http://de.wikipedia.org/wiki/Die_Grenzen_des_Wachstums) veröffentlicht im Jahr 1972"
   ]
  }
 ],
 "metadata": {
  "kernelspec": {
   "display_name": "Python 3",
   "language": "python",
   "name": "python3"
  },
  "language_info": {
   "codemirror_mode": {
    "name": "ipython",
    "version": 3
   },
   "file_extension": ".py",
   "mimetype": "text/x-python",
   "name": "python",
   "nbconvert_exporter": "python",
   "pygments_lexer": "ipython3",
   "version": "3.4.3"
  }
 },
 "nbformat": 4,
 "nbformat_minor": 0
}
