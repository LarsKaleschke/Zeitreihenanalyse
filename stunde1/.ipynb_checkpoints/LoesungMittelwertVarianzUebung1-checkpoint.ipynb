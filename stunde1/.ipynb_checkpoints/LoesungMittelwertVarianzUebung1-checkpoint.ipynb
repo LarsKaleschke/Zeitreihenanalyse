{
 "cells": [
  {
   "cell_type": "markdown",
   "metadata": {},
   "source": [
    "# Mittelwert und Varianz\n",
    "\n",
    "Berechnen sie Mittelwert $\\mu=\\frac{1}{N}\\sum d_i$ und Varianz $\\sigma^2=\\frac{1}{N-1}\\sum (d_i-\\mu)^2$ der drei Reihen in der Tabelle. Wie unterscheiden sich die Daten $d_i$ in den Reihen?"
   ]
  },
  {
   "cell_type": "code",
   "execution_count": 3,
   "metadata": {
    "collapsed": false
   },
   "outputs": [
    {
     "name": "stdout",
     "output_type": "stream",
     "text": [
      "Populating the interactive namespace from numpy and matplotlib\n",
      "Reihe  1 : Mittelwert= 7.31428571429 , Varianz= 0.159285714286\n",
      "Reihe  2 : Mittelwert= 7.31428571429 , Varianz= 0.159285714286\n",
      "Reihe  3 : Mittelwert= 7.31428571429 , Varianz= 0.157285714286\n"
     ]
    }
   ],
   "source": [
    "%pylab inline\n",
    "\n",
    "for i in range(3):\n",
    "    d=loadtxt('data.txt')[i,:] \n",
    "    N=size(d)\n",
    "    mu=1.0/N*sum(d)\n",
    "    v=1.0/(N-1)*sum((d-mu)**2)\n",
    "    print 'Reihe ',i+1,': Mittelwert=', mu, ', Varianz=', v\n"
   ]
  },
  {
   "cell_type": "code",
   "execution_count": 4,
   "metadata": {
    "collapsed": false
   },
   "outputs": [
    {
     "data": {
      "text/plain": [
       "7.3142857142857141"
      ]
     },
     "execution_count": 4,
     "metadata": {},
     "output_type": "execute_result"
    }
   ],
   "source": [
    "mean(d) # numpy-Funktion mean()"
   ]
  },
  {
   "cell_type": "code",
   "execution_count": 5,
   "metadata": {
    "collapsed": false
   },
   "outputs": [
    {
     "data": {
      "text/plain": [
       "0.1497959183673469"
      ]
     },
     "execution_count": 5,
     "metadata": {},
     "output_type": "execute_result"
    }
   ],
   "source": [
    "var(d) # numpy-Funktion var() rechnet mit 1/N, nicht mit 1/(N-1)\n",
    "# 1/N ist die \"unkorregierte\" Stichprobenvarianz\n",
    "# 1/(N-1) ist die sogenannte \"korregierte\" (empirische) Stichprobenvarianz\n",
    "# Für große N  ist der Unterschied vernachlässigbar"
   ]
  },
  {
   "cell_type": "code",
   "execution_count": null,
   "metadata": {
    "collapsed": true
   },
   "outputs": [],
   "source": []
  }
 ],
 "metadata": {
  "kernelspec": {
   "display_name": "Python 2",
   "language": "python",
   "name": "python2"
  },
  "language_info": {
   "codemirror_mode": {
    "name": "ipython",
    "version": 2
   },
   "file_extension": ".py",
   "mimetype": "text/x-python",
   "name": "python",
   "nbconvert_exporter": "python",
   "pygments_lexer": "ipython2",
   "version": "2.7.6"
  }
 },
 "nbformat": 4,
 "nbformat_minor": 0
}
