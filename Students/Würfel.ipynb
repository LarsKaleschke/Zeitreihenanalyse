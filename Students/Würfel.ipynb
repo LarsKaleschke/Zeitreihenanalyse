{
 "cells": [
  {
   "cell_type": "code",
   "execution_count": 4,
   "metadata": {
    "collapsed": false
   },
   "outputs": [
    {
     "data": {
      "text/plain": [
       "Wurfzahl Wahrscheinlichkeit\r\n",
       "   1           0.500\r\n",
       "Etwa so wahrscheinlich wie nicht\r\n",
       "   2           0.250\r\n",
       "Unwahrscheinlich\r\n",
       "   3           0.125\r\n",
       "Unwahrscheinlich\r\n",
       "   4           0.062\r\n",
       "Sehr unwahrscheinlich\r\n",
       "   5           0.031\r\n",
       "Höchst unwahrscheinlich\r\n",
       "   6           0.016\r\n",
       "Höchst unwahrscheinlich\r\n"
      ]
     },
     "execution_count": 4,
     "metadata": {},
     "output_type": "execute_result"
    }
   ],
   "source": [
    "p = 0.5;\n",
    "n = 6;\n",
    "disp('Wurfzahl Wahrscheinlichkeit')\n",
    "for i = 1:n\n",
    "    x = p^i;\n",
    "    s=sprintf('%4i',i);\n",
    "    y=sprintf('%16.3f',x);\n",
    "    disp([s y])\n",
    "    if x < 0.01\n",
    "        disp('Außergewohnlich unwahrscheinlich')\n",
    "    elseif x < 0.05\n",
    "        disp('Höchst unwahrscheinlich')\n",
    "    elseif x < 0.1\n",
    "        disp('Sehr unwahrscheinlich')\n",
    "    elseif x < 0.33\n",
    "        disp('Unwahrscheinlich')\n",
    "    elseif x > 0.5\n",
    "        disp('Wahrscheinlicher als nicht')\n",
    "    elseif x > 0.66\n",
    "        disp('Wahrscheinlich')\n",
    "    elseif x > 0.9\n",
    "        disp('Sehr wahrscheinlich')\n",
    "    elseif x > 0.95\n",
    "        disp('Höchst wahrscheinlich')\n",
    "    elseif x > 0.99\n",
    "        disp('Praktisch sicher')\n",
    "end\n",
    "if x > 0.33 && x < 0.66\n",
    "    disp('Etwa so wahrscheinlich wie nicht')\n",
    "end\n",
    "end"
   ]
  }
 ],
 "metadata": {
  "kernelspec": {
   "display_name": "Octave",
   "language": "octave",
   "name": "octave_kernel"
  },
  "language_info": {
   "codemirror_mode": "Octave",
   "file_extension": ".m",
   "help_links": [
    {
     "text": "MetaKernel Magics",
     "url": "https://github.com/calysto/metakernel/blob/master/metakernel/magics/README.md"
    }
   ],
   "mimetype": "text/x-octave",
   "name": "octave_kernel"
  }
 },
 "nbformat": 4,
 "nbformat_minor": 0
}
