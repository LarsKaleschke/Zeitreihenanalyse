{
 "cells": [
  {
   "cell_type": "markdown",
   "metadata": {},
   "source": [
    "# Einfuehrung in Python\n",
    "## Warum Python?\n",
    "\n",
    " * Frei, Portabel\n",
    " * Einfach zu lernen, elegante Syntax\n",
    " * Mächtig, Vielfalt von Modulen\n",
    " * Eine echte Programmiersprache (im Gegensatz zu Matlab)\n",
    " * Einfache Integration von anderen Programmiersprachen\n",
    "\n",
    "\n",
    "\n",
    "[Why Python Is the Next Wave in Earth Sciences Computing](http://journals.ametsoc.org/doi/full/10.1175/BAMS-D-12-00148.1)\n",
    "\n",
    "[10 Reasons Python Rocks for Research (And a Few Reasons it Doesn’t)](http://www.stat.washington.edu/~hoytak/blog/whypython.html)\n",
    " \n",
    "\n",
    "However, the best closing thought is due to Randall Monroe, the author of xkcd: “Programming is fun again!”"
   ]
  },
  {
   "cell_type": "code",
   "execution_count": 10,
   "metadata": {
    "collapsed": false
   },
   "outputs": [
    {
     "name": "stdout",
     "output_type": "stream",
     "text": [
      "Populating the interactive namespace from numpy and matplotlib\n"
     ]
    },
    {
     "data": {
      "text/plain": [
       "[<matplotlib.lines.Line2D at 0x7f440a7f6cc0>]"
      ]
     },
     "execution_count": 10,
     "metadata": {},
     "output_type": "execute_result"
    },
    {
     "data": {
      "image/png": "[encoded data removed]",
      "text/plain": [
       "<matplotlib.figure.Figure at 0x7f440e1249e8>"
      ]
     },
     "metadata": {},
     "output_type": "display_data"
    }
   ],
   "source": [
    "%pylab inline\n",
    "xkcd() # Handdrawn mode\n",
    "\n",
    "x=linspace(0,2*pi)\n",
    "plot(x,sin(x))"
   ]
  },
  {
   "cell_type": "markdown",
   "metadata": {},
   "source": [
    "\n"
   ]
  },
  {
   "cell_type": "markdown",
   "metadata": {},
   "source": [
    "## Python Module"
   ]
  },
  {
   "cell_type": "markdown",
   "metadata": {},
   "source": [
    "There a several modules which are already included in the standard Python distribution:\n",
    "\n",
    " * http://docs.python.org/modindex.html\n",
    "\n",
    "Other modules for scientific computing have to be installed separately, e.g. Numpy, Scipy, Pylab, IPython. \n",
    "\n",
    "Some distributions including precompiled modules are available, e.g.\n",
    "\n",
    " * http://continuum.io/downloads Linux, Mac, Windows\n",
    " * http://www.pythonxy.com/ Python(x,y) is a scientific python distribution with many modules included\n",
    " * http://www.enthought.com/products/epd.php\n",
    "\n",
    "\n",
    "It is important to know where to find the functions that you need. We will go through some useful examples.\n",
    "\n",
    "\n",
    "\n",
    "Numpy is the core library for multidimensional array objects (ndarray) and linear algebra. Most other scientific modules use the numpy array object. Numpy arrays and standard Python sequences have important differences:\n",
    "\n",
    " * Numpy arrays have a fixed size at creation, unlike Python lists\n",
    " * Numpy arrays facilitate mathematical operations on large numbers of data efficiently\n",
    "\n",
    "The [User's guide](http://docs.scipy.org/doc/numpy/user/) provides a good introduction. \n",
    "\n",
    "\n",
    "The Scipy module is built on Numpy and offers a collection of mathematical algorithms such as\n",
    "\n",
    " * Clustering algorithms\n",
    " * Fast Fourier Transform routines\n",
    " * Integration and ordinary differential equation solvers\n",
    " * Interpolation and smoothing splines\n",
    " * Linear algebra\n",
    " * Maximum entropy methods\n",
    " * N-dimensional image processing and signal processing\n",
    " * Optimization and root-finding routines\n",
    " * Statistical distributions and functions\n",
    "\n",
    "Furthermore it includes very handy routines for [data input and output](http://docs.scipy.org/doc/scipy/reference/tutorial/io.html) of binary and ASCII-tables, Matlab and Netcdf data files\n",
    "\n",
    "\n",
    "[Pylab aka Matplotlib](http://matplotlib.sourceforge.net/) uses Numpy and Scipy and offers high-level functions that are similar in the name and syntax to those offered by Matlab. Matplotlib is the name of the core library and pylab provides the Matlab similarity. Pylab produces figures of great quality suitable for publications. \n",
    "\n",
    "Making plots is easy. Start reading the [User's guide](http://matplotlib.sourceforge.net/contents.html). \n",
    "\n",
    "[IPython](http://ipython.scipy.org/|IPython) is an environment for interactive and exploratory computing. Useful features are TAB-completion, magic commands, e.g. {{{%run, %whos}}}, input cache and many more convenient functions that are not available in the standard Python shell. \n",
    "\n",
    "\n",
    "Importing the scientific environment\n",
    "\n",
    "\n",
    "The statement\n",
    "\n",
    "    from pylab import *\n",
    "\n",
    "imports the most important functions/objects for numerical computation and plotting. When using the interactive IPyhon shell this import \n",
    "\n",
    "    ipython --pylab\n",
    "\n",
    "\n",
    "\n",
    "For more complex applications it is useful but not necessary to follow the conventions that the community has adopted:\n",
    "\n",
    "    import numpy as np\n",
    "    import scipy as sp\n",
    "    import matplotlib as mpl\n",
    "    import matplotlib.pyplot as plt\n",
    "\n"
   ]
  },
  {
   "cell_type": "markdown",
   "metadata": {},
   "source": [
    "## Arrays"
   ]
  },
  {
   "cell_type": "markdown",
   "metadata": {},
   "source": [
    "Numpy provides a multidimensional 'array' data type. An array can hold arbitrary Python objects but usually they are used for N-dimensional numeric data types. "
   ]
  },
  {
   "cell_type": "code",
   "execution_count": 21,
   "metadata": {
    "collapsed": false
   },
   "outputs": [
    {
     "data": {
      "text/plain": [
       "array([[  6.91350154e-310,   2.79590800e-316,   0.00000000e+000],\n",
       "       [  0.00000000e+000,   0.00000000e+000,   2.42092166e-322]])"
      ]
     },
     "execution_count": 21,
     "metadata": {},
     "output_type": "execute_result"
    }
   ],
   "source": [
    "d1=2 # Dimension 1\n",
    "d2=3 # Dimension 2\n",
    "dtype=float # Datentyp  / fundamental C data type e.g. uint8, int16, int64, float32, float64\n",
    "empty((d1,d2),dtype) # returns uninitialized array of shape d1,d2. "
   ]
  },
  {
   "cell_type": "code",
   "execution_count": 19,
   "metadata": {
    "collapsed": false
   },
   "outputs": [
    {
     "data": {
      "text/plain": [
       "array([[ 0.,  0.,  0.],\n",
       "       [ 0.,  0.,  0.]])"
      ]
     },
     "execution_count": 19,
     "metadata": {},
     "output_type": "execute_result"
    }
   ],
   "source": [
    "zeros((d1,d2),dtype) # returns array of shape d1,d2 filled with zeros\n"
   ]
  },
  {
   "cell_type": "code",
   "execution_count": 20,
   "metadata": {
    "collapsed": false
   },
   "outputs": [
    {
     "data": {
      "text/plain": [
       "array([[ 1.,  1.,  1.],\n",
       "       [ 1.,  1.,  1.]])"
      ]
     },
     "execution_count": 20,
     "metadata": {},
     "output_type": "execute_result"
    }
   ],
   "source": [
    "ones((d1,d2),dtype) # returns array of shape d1,d2 filled with ones array(object,dtype)\n"
   ]
  },
  {
   "cell_type": "markdown",
   "metadata": {},
   "source": [
    "\n",
    "Arrays can also be created from special functions, e.g. random\n",
    "\n",
    "    randn(d1,d2,..,dn) \n",
    "\n",
    "returns Gaussian random numbers in an array of shape (d0, d1, ..., dn).\n",
    "\n",
    "    arange([start,] stop[, step,]) \n",
    "    \n",
    "returns evenly spaced values within a given interval.\n",
    "\n"
   ]
  },
  {
   "cell_type": "code",
   "execution_count": 30,
   "metadata": {
    "collapsed": false
   },
   "outputs": [
    {
     "data": {
      "text/plain": [
       "array([[ 0.33109189, -1.80482544,  1.38232892],\n",
       "       [ 1.45856504,  0.70887852,  0.92564874]])"
      ]
     },
     "execution_count": 30,
     "metadata": {},
     "output_type": "execute_result"
    }
   ],
   "source": [
    "randn(d1,d2)"
   ]
  },
  {
   "cell_type": "code",
   "execution_count": 31,
   "metadata": {
    "collapsed": false
   },
   "outputs": [
    {
     "data": {
      "text/plain": [
       "array([ 0,  1,  2,  3,  4,  5,  6,  7,  8,  9, 10])"
      ]
     },
     "execution_count": 31,
     "metadata": {},
     "output_type": "execute_result"
    }
   ],
   "source": [
    "arange(0,11)"
   ]
  },
  {
   "cell_type": "markdown",
   "metadata": {},
   "source": [
    "## Array indexing"
   ]
  },
  {
   "cell_type": "markdown",
   "metadata": {},
   "source": [
    "\n",
    "    A[y,x]  \n",
    "\n",
    "returns (y,x) element of the array\n",
    "    \n",
    "    A[:,x] \n",
    "    \n",
    "returns all elements of the y-dimension at x\n",
    "\n",
    "    A[y1:y2,x]\n",
    "    \n",
    "returns a slice between y1 and y2 of y-dimension at x\n",
    "    \n",
    "    A[:,:]\n",
    "\n",
    "returns a copy of two dimensional array A \n",
    "\n",
    "    A[:,:,0] \n",
    "\n",
    "returns the first sub-image of a 3-dimensional array\n",
    "\n",
    "  \n"
   ]
  },
  {
   "cell_type": "code",
   "execution_count": 38,
   "metadata": {
    "collapsed": false
   },
   "outputs": [
    {
     "data": {
      "text/plain": [
       "array([[ 1.,  2.,  3.],\n",
       "       [ 4.,  5.,  6.]])"
      ]
     },
     "execution_count": 38,
     "metadata": {},
     "output_type": "execute_result"
    }
   ],
   "source": [
    "A=array(([1,2,3],[4,5,6]),dtype=float)\n",
    "A"
   ]
  },
  {
   "cell_type": "code",
   "execution_count": 36,
   "metadata": {
    "collapsed": false
   },
   "outputs": [
    {
     "data": {
      "text/plain": [
       "array([ 1.,  4.])"
      ]
     },
     "execution_count": 36,
     "metadata": {},
     "output_type": "execute_result"
    }
   ],
   "source": [
    "A[:,0]"
   ]
  },
  {
   "cell_type": "markdown",
   "metadata": {},
   "source": [
    "## Beispiel und Uebung"
   ]
  },
  {
   "cell_type": "markdown",
   "metadata": {},
   "source": [
    "Write two programs, a test and a plotting program. The test program shall create a simulated dataset and the plotting routine shall read and display the data on the screen.\n",
    "\n",
    "We start with a simple linear relation of two variables x and y. The ''measurement'' y shall be influenced by noise with a Gaussian distribution. \n"
   ]
  },
  {
   "cell_type": "code",
   "execution_count": 41,
   "metadata": {
    "collapsed": false
   },
   "outputs": [
    {
     "data": {
      "text/plain": [
       "array([-5., -4., -3., -2., -1.,  0.,  1.,  2.,  3.,  4.,  5.])"
      ]
     },
     "execution_count": 41,
     "metadata": {},
     "output_type": "execute_result"
    }
   ],
   "source": [
    "#We first would like to generate x including 11 numbers in the intervall [-5,5]\n",
    "x=linspace(-5,5,11)\n",
    "x\n"
   ]
  },
  {
   "cell_type": "code",
   "execution_count": 42,
   "metadata": {
    "collapsed": false
   },
   "outputs": [
    {
     "data": {
      "text/plain": [
       "array([-5.38160548, -3.947397  , -4.06375026, -1.37208269, -2.74797969,\n",
       "        0.7986878 , -0.69399261,  2.48039529,  3.37682101,  3.93282046,\n",
       "        5.01392639])"
      ]
     },
     "execution_count": 42,
     "metadata": {},
     "output_type": "execute_result"
    }
   ],
   "source": [
    "#The variable y depends on x and includes the random noise\n",
    "y=x+randn(x.size)\n",
    "y\n"
   ]
  },
  {
   "cell_type": "code",
   "execution_count": 53,
   "metadata": {
    "collapsed": false
   },
   "outputs": [
    {
     "name": "stdout",
     "output_type": "stream",
     "text": [
      "data.npy\r\n"
     ]
    }
   ],
   "source": [
    "##We write both variables in a file \n",
    "save('data',(x,y))\n",
    "!ls data* # Unix ls \n"
   ]
  },
  {
   "cell_type": "code",
   "execution_count": 57,
   "metadata": {
    "collapsed": false
   },
   "outputs": [
    {
     "name": "stdout",
     "output_type": "stream",
     "text": [
      "Finished!\n"
     ]
    }
   ],
   "source": [
    "#Now we combine this in a script. \n",
    "from pylab import *\n",
    "x=linspace(-5,5,11)\n",
    "y=x+randn(x.size)\n",
    "savetxt('data.txt',(x,y))\n",
    "print('Finished!')\n",
    "\n"
   ]
  },
  {
   "cell_type": "code",
   "execution_count": 60,
   "metadata": {
    "collapsed": false
   },
   "outputs": [
    {
     "name": "stdout",
     "output_type": "stream",
     "text": [
      "Variable   Type       Data/Info\n",
      "-------------------------------\n",
      "A          ndarray    2x3: 6 elems, type `float64`, 48 bytes\n",
      "d1         int        2\n",
      "d2         int        3\n",
      "x          ndarray    11: 11 elems, type `float64`, 88 bytes\n",
      "y          ndarray    11: 11 elems, type `float64`, 88 bytes\n"
     ]
    }
   ],
   "source": [
    "#Have a look at the variables (objects): \n",
    "%whos\n"
   ]
  },
  {
   "cell_type": "code",
   "execution_count": 61,
   "metadata": {
    "collapsed": false
   },
   "outputs": [
    {
     "data": {
      "text/plain": [
       "array([-5., -4., -3., -2., -1.,  0.,  1.,  2.,  3.,  4.,  5.])"
      ]
     },
     "execution_count": 61,
     "metadata": {},
     "output_type": "execute_result"
    }
   ],
   "source": [
    "x"
   ]
  },
  {
   "cell_type": "code",
   "execution_count": 62,
   "metadata": {
    "collapsed": false
   },
   "outputs": [
    {
     "data": {
      "image/png": "[encoded data removed]",
      "text/plain": [
       "<matplotlib.figure.Figure at 0x7f43da866dd8>"
      ]
     },
     "metadata": {},
     "output_type": "display_data"
    },
    {
     "data": {
      "text/plain": [
       "<matplotlib.figure.Figure at 0x7f43da0ef240>"
      ]
     },
     "metadata": {},
     "output_type": "display_data"
    }
   ],
   "source": [
    "#!python\n",
    "from pylab import *\n",
    "\n",
    "x,y=loadtxt('data.txt')\n",
    "\n",
    "figure() # Opens a new window for plotting\n",
    "plot(x,y,'ko') # Plots the data\n",
    "show() # Displays the result on the screen\n",
    "savefig('plot.pdf') # Saves the plot on disc\n"
   ]
  },
  {
   "cell_type": "markdown",
   "metadata": {},
   "source": [
    "\n",
    " * Add a line of identity (y=x) (solid line style)\n",
    " * Add a linear regression line with dashed line style\n",
    " * Add a legend\n",
    "\n",
    "Hints: \n",
    "\n",
    " * Look up help(plot) or plot( for style options\n",
    " * slope,offset=polyfit(x,y,1) can be used for the linear regression\n",
    " * Use plot labels and legend(), e.g. plot(x,y,'ko',label='Simulated data')\n",
    "\n",
    "\n"
   ]
  },
  {
   "cell_type": "markdown",
   "metadata": {},
   "source": [
    "## Unterschiede zu Matlab"
   ]
  },
  {
   "cell_type": "markdown",
   "metadata": {},
   "source": [
    "Python+Modul Pylab ist Matlab sehr ähnlich, aber es gibt einige [Unterschiede](http://wiki.scipy.org/NumPy_for_Matlab_Users). \n"
   ]
  },
  {
   "cell_type": "markdown",
   "metadata": {},
   "source": [
    "### Syntax"
   ]
  },
  {
   "cell_type": "markdown",
   "metadata": {},
   "source": [
    "In Python werden zusammenhängende Codezeilen (z.B. Schleifen, Funktionen etc) durch Einrückungen kenntlich gemacht. Dies sieht nicht nur übersichtlicher aus, sondern Einrückungen sind zwingend notwendige Syntaxelemente in Python. Ob Tabulatoren oder Leerzeichen ist eigentlich egal, nur darf nicht gemischt werden. Manche Editoren ersetzen Tabs mit einer vorgegeben Anzahl von Leerzeichen."
   ]
  },
  {
   "cell_type": "code",
   "execution_count": 67,
   "metadata": {
    "collapsed": false
   },
   "outputs": [
    {
     "name": "stdout",
     "output_type": "stream",
     "text": [
      "1 0\n",
      "2 0\n",
      "2 1\n",
      "3 0\n",
      "3 1\n",
      "3 2\n"
     ]
    }
   ],
   "source": [
    "for i in range(4): # Äußere Schleife\n",
    "    for j in range(i): # Innere Schleife\n",
    "        print(i,j)"
   ]
  },
  {
   "cell_type": "markdown",
   "metadata": {},
   "source": [
    "### Arrays"
   ]
  },
  {
   "cell_type": "markdown",
   "metadata": {},
   "source": [
    "Arrays sind keine primären Datentypen in Python. Um Arrays zu nutzen, muss zunächst das Modul [numpy](http://www.numpy.org/) importiert werden. Dies geschieht automatisch beim Importieren von höherwertigen Modulen wie [matplotlib](http://matplotlib.org/) bzw. Pylab, die auf Numpy aufbauen."
   ]
  },
  {
   "cell_type": "code",
   "execution_count": 70,
   "metadata": {
    "collapsed": false
   },
   "outputs": [
    {
     "data": {
      "text/plain": [
       "array([1, 2, 3])"
      ]
     },
     "execution_count": 70,
     "metadata": {},
     "output_type": "execute_result"
    }
   ],
   "source": [
    "A=array([1,2,3])\n",
    "A"
   ]
  },
  {
   "cell_type": "markdown",
   "metadata": {},
   "source": [
    "Ein Unterschied zu Matlab ist die Indizierung mit eckigen Klammern. Die Zählung beginnt in Python bei 0 und in Matlab bei 1.\n"
   ]
  },
  {
   "cell_type": "code",
   "execution_count": 71,
   "metadata": {
    "collapsed": false
   },
   "outputs": [
    {
     "data": {
      "text/plain": [
       "1"
      ]
     },
     "execution_count": 71,
     "metadata": {},
     "output_type": "execute_result"
    }
   ],
   "source": [
    "A[0]"
   ]
  },
  {
   "cell_type": "markdown",
   "metadata": {},
   "source": [
    "# Entwicklungsumgebungen für Python\n",
    "## Editor und Kommandozeile\n",
    "Die grundlegende und unkomfortable Entwicklung kann auf der Basis der Betriebssystem-Kommandozeile und mit einem Editor vorgenommen werden. Mit dem Editor wird das Programm (Script) geschrieben und auf der Kommandozeile ausgeführt. Hier ein Beispiel:\n",
    "\n",
    "Aufruf eines Editors:\n",
    "\n",
    "    nedit program1.py &\n",
    "\n",
    "Das & startet den Prozess im Hintergrund, so dass man das Prompt (die Kommandozeile) wieder sofort zurück bekommt.\n",
    "Nun kommt das spektakuläre Programm:\n",
    "\n",
    "    print(\"Hallo Welt!\")\n",
    "\n",
    "Speichern mit CTRL-S und los gehts mit\n",
    "\n",
    "    python3 program1.py\n",
    "    \n",
    "Nun können wir noch mit einer magischen Zeile am Anfang des Scriptes daraus eine ausführbare Datei machen:\n",
    "\n",
    "    #!/usr/bin/env python3\n",
    "    print(\"Hallo Welt!\")\n",
    "    \n",
    "Die Datei muss noch die Rechte zum Ausführen erhalten. Dies geht mit dem Unix-Kommando\n",
    "    \n",
    "    chmod +x program1.py\n",
    "    \n",
    "Jetzt kann das Programm direkt gestartet werden\n",
    "\n",
    "    ./program1.py\n",
    "    \n",
    "Das ./ am Anfang ist notwendig, damit das Programm im aktuellen Verzeichnis gefunden wird.\n"
   ]
  },
  {
   "cell_type": "markdown",
   "metadata": {},
   "source": [
    "## IPython-Konsole"
   ]
  },
  {
   "cell_type": "markdown",
   "metadata": {},
   "source": [
    "Sehr viel komfortabler ist die Programmentwicklung mit der interaktiven Python-Konsole [IPython](http://ipython.org/). IPython kann zusammen mit einem externer Editor verwendet werden oder in einer integrierten Entwicklungsumgebung. In IPython wird ein Programm mit dem Befehl run ausgeführt."
   ]
  },
  {
   "cell_type": "markdown",
   "metadata": {},
   "source": [
    "## IPython-Notebook\n",
    "Eine neue, rasante Entwicklung hat das [IPython-Notebook](http://ipython.org/notebook.html) hinter sich. Diese Web-basierte Entwicklungsumgebung nutzt einen IPython Server-Prozess und als Client einen Webbrowser (z.B. Firefox). Mit IPython-Notebooks können Code und Dokumentation interaktiv zusammengebracht werden. Der Arbeitsfluss ändert sich durch IPython-Notebooks grundlegend. Die Veröffentlichung eines interaktiven Programms in der [Zeitschrift Nature](http://www.nature.com/news/interactive-notebooks-sharing-the-code-1.16261) demonstriert den Paradigmenwechsel.\n",
    "\n",
    "IPython-Notebooks sind in einer Versionsverwaltung wie z.B. [Github](https://github.com/) gut aufgehoben und können mit einem [Notebook-Viewer](http://nbviewer.ipython.org/) angezeigt werden. Ihre Stärke liegt in der Anwendung auf Cloud-Rechnern, wie z.B. [DigitalOcean]( https://www.digitalocean.com/) oder [Amazon Elastic Compute Cloud](http://aws.amazon.com/de/ec2/)."
   ]
  },
  {
   "cell_type": "code",
   "execution_count": null,
   "metadata": {
    "collapsed": true
   },
   "outputs": [],
   "source": []
  }
 ],
 "metadata": {
  "kernelspec": {
   "display_name": "Python 2",
   "language": "python",
   "name": "python2"
  },
  "language_info": {
   "codemirror_mode": {
    "name": "ipython",
    "version": 2
   },
   "file_extension": ".py",
   "mimetype": "text/x-python",
   "name": "python",
   "nbconvert_exporter": "python",
   "pygments_lexer": "ipython2",
   "version": "2.7.6"
  }
 },
 "nbformat": 4,
 "nbformat_minor": 0
}
