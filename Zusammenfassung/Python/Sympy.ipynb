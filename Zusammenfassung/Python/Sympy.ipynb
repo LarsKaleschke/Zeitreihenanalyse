{
 "cells": [
  {
   "cell_type": "markdown",
   "metadata": {},
   "source": [
    "\n",
    "# Symbolische Berechnungen mit Python \n",
    "\n",
    "\n",
    "Das SymPy-Modul ist eine Biblothek für symbolische Mathematik. \n",
    "\n",
    " * http://sympy.org/\n",
    "\n",
    "\n",
    "## Aufgabe \n",
    "\n",
    "Der Fehler für die einzelnen Datenpunkte ist gegeben durch \n",
    "\n",
    "$$e_i=f_i-d_i$$\n",
    "\n",
    "Die \"Güte\" des Fits (die *Fehlerfunktion F*) ergibt sich aus der Summe der quadratischen Abweichungen (*Least-Squares-Methode*):\n",
    "\n",
    "$$\n",
    "F(a,b)=\\sum_{i=1}^{N} e_i^2=\\sum_{i=1}^{N} (ax_i+b-d_i)^2 \n",
    "$$\n",
    "\n",
    "### Ziel \n",
    "\n",
    "Gesucht sind die speziellen Parameter $\\hat{a},\\hat{b}$ für die die Fehlerfunktion $F(\\hat{a},\\hat{b})$ minimal ist. Diese gesuchten Parameter führen zu einer *optimalen* Anpassung an die Daten.\n",
    "\n",
    "### Methode \n",
    "\n",
    "Im Minimum von $F$ muss gelten:\n",
    "$$\n",
    "\\frac{\\partial F}{\\partial a}=0\n",
    "$$\n",
    "\n",
    "$$\n",
    "\\frac{\\partial F}{\\partial b}=0\n",
    "$$\n",
    "\n"
   ]
  },
  {
   "cell_type": "code",
   "execution_count": 23,
   "metadata": {
    "collapsed": true
   },
   "outputs": [],
   "source": [
    "import sympy as sp\n",
    "a,b,x_i,d_i,s_o=sp.symbols(\"a b x_i d_i s_i\")\n",
    "sp.init_printing() # Fuer LaTex-Ausgabe im Notebook"
   ]
  },
  {
   "cell_type": "code",
   "execution_count": 22,
   "metadata": {
    "collapsed": false
   },
   "outputs": [
    {
     "data": {
      "image/png": "[encoded data removed]",
      "text/latex": [
       "$$\\left(a x_{i} + b - d_{i}\\right)^{2}$$"
      ],
      "text/plain": [
       "               2\n",
       "(a⋅xᵢ + b - dᵢ) "
      ]
     },
     "execution_count": 22,
     "metadata": {},
     "output_type": "execute_result"
    }
   ],
   "source": [
    "F=(a*x_i+b-d_i)**2\n",
    "F"
   ]
  },
  {
   "cell_type": "code",
   "execution_count": 3,
   "metadata": {
    "collapsed": false
   },
   "outputs": [
    {
     "data": {
      "image/png": "[encoded data removed]",
      "text/latex": [
       "$$a^{2} x_{i}^{2} + 2 a b x_{i} - 2 a d_{i} x_{i} + b^{2} - 2 b d_{i} + d_{i}^{2}$$"
      ],
      "text/plain": [
       " 2   2                           2              2\n",
       "a ⋅xᵢ  + 2⋅a⋅b⋅xᵢ - 2⋅a⋅dᵢ⋅xᵢ + b  - 2⋅b⋅dᵢ + dᵢ "
      ]
     },
     "execution_count": 3,
     "metadata": {},
     "output_type": "execute_result"
    }
   ],
   "source": [
    "sp.expand(F)"
   ]
  },
  {
   "cell_type": "markdown",
   "metadata": {},
   "source": [
    "$$\n",
    "F(a,b)=\\sum_{i=1}^{N} e_i^2=\\sum_{i=1}^{N} (ax_i+b-d_i)^2 \\\\\n",
    "=\\sum_{i=1}^{N} ( a^2 x_i^2 + 2 a b x_i - 2 a d_i x_i + b^2 - 2 b d_i + d_i^2 )\n",
    "$$"
   ]
  },
  {
   "cell_type": "code",
   "execution_count": 4,
   "metadata": {
    "collapsed": false
   },
   "outputs": [
    {
     "data": {
      "image/png": "[encoded data removed]",
      "text/latex": [
       "$$2 x_{i} \\left(a x_{i} + b - d_{i}\\right)$$"
      ],
      "text/plain": [
       "2⋅xᵢ⋅(a⋅xᵢ + b - dᵢ)"
      ]
     },
     "execution_count": 4,
     "metadata": {},
     "output_type": "execute_result"
    }
   ],
   "source": [
    "sp.diff(F,a)"
   ]
  },
  {
   "cell_type": "code",
   "execution_count": 9,
   "metadata": {
    "collapsed": false
   },
   "outputs": [
    {
     "data": {
      "image/png": "[encoded data removed]",
      "text/latex": [
       "$$a x_{i}^{2} + b x_{i} - d_{i} x_{i}$$"
      ],
      "text/plain": [
       "    2               \n",
       "a⋅xᵢ  + b⋅xᵢ - dᵢ⋅xᵢ"
      ]
     },
     "execution_count": 9,
     "metadata": {},
     "output_type": "execute_result"
    }
   ],
   "source": [
    "sp.expand(sp.diff(F,a))/2"
   ]
  },
  {
   "cell_type": "code",
   "execution_count": 19,
   "metadata": {
    "collapsed": false
   },
   "outputs": [
    {
     "data": {
      "image/png": "[encoded data removed]",
      "text/latex": [
       "$$a x_{i} + b - d_{i}$$"
      ],
      "text/plain": [
       "a⋅xᵢ + b - dᵢ"
      ]
     },
     "execution_count": 19,
     "metadata": {},
     "output_type": "execute_result"
    }
   ],
   "source": [
    "sp.diff(F,b)/2"
   ]
  }
 ],
 "metadata": {
  "kernelspec": {
   "display_name": "Python 3",
   "language": "python",
   "name": "python3"
  },
  "language_info": {
   "codemirror_mode": {
    "name": "ipython",
    "version": 3
   },
   "file_extension": ".py",
   "mimetype": "text/x-python",
   "name": "python",
   "nbconvert_exporter": "python",
   "pygments_lexer": "ipython3",
   "version": "3.4.3"
  }
 },
 "nbformat": 4,
 "nbformat_minor": 0
}
