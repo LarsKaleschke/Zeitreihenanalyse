{
 "cells": [
  {
   "cell_type": "code",
   "execution_count": 2,
   "metadata": {
    "collapsed": true
   },
   "outputs": [],
   "source": [
    "import sympy as sp\n",
    "sp.init_printing() # Fuer LaTex-Ausgabe im Notebook"
   ]
  },
  {
   "cell_type": "code",
   "execution_count": 75,
   "metadata": {
    "collapsed": false
   },
   "outputs": [
    {
     "data": {
      "image/png": "[encoded data removed]",
      "text/latex": [
       "$$\\left[\\begin{matrix}x_{1} & 1\\\\x_{2} & 1\\\\x_{3} & 1\\end{matrix}\\right]$$"
      ],
      "text/plain": [
       "⎡x₁  1⎤\n",
       "⎢     ⎥\n",
       "⎢x₂  1⎥\n",
       "⎢     ⎥\n",
       "⎣x₃  1⎦"
      ]
     },
     "execution_count": 75,
     "metadata": {},
     "output_type": "execute_result"
    }
   ],
   "source": [
    "x1,x2,x3=sp.symbols('x_1 x_2 x_3')\n",
    "A=sp.Matrix(((x1,x2,x3),(1,1,1))).T\n",
    "A"
   ]
  },
  {
   "cell_type": "code",
   "execution_count": 78,
   "metadata": {
    "collapsed": false
   },
   "outputs": [
    {
     "data": {
      "image/png": "[encoded data removed]",
      "text/latex": [
       "$$\\left[\\begin{matrix}a x_{1} + b - d_{1}\\\\a x_{2} + b - d_{2}\\\\a x_{3} + b - d_{3}\\end{matrix}\\right] = 0$$"
      ],
      "text/plain": [
       "⎡a⋅x₁ + b - d₁⎤ = 0\n",
       "⎢             ⎥    \n",
       "⎢a⋅x₂ + b - d₂⎥    \n",
       "⎢             ⎥    \n",
       "⎣a⋅x₃ + b - d₃⎦    "
      ]
     },
     "execution_count": 78,
     "metadata": {},
     "output_type": "execute_result"
    }
   ],
   "source": [
    "a,b=sp.symbols('a b')\n",
    "d1,d2,d3=sp.symbols('d_1 d_2 d_3 ')\n",
    "\n",
    "x=sp.Matrix(((a),(b)))\n",
    "d=sp.Matrix(((d1),(d2),(d3)))\n",
    "eq1=sp.Eq(A*x-d)\n",
    "eq1"
   ]
  },
  {
   "cell_type": "code",
   "execution_count": 90,
   "metadata": {
    "collapsed": false
   },
   "outputs": [
    {
     "data": {
      "image/png": "[encoded data removed]",
      "text/latex": [
       "$$\\left(a x_{1} + b - d_{1}\\right)^{2} + \\left(a x_{2} + b - d_{2}\\right)^{2} + \\left(a x_{3} + b - d_{3}\\right)^{2}$$"
      ],
      "text/plain": [
       "               2                  2                  2\n",
       "(a⋅x₁ + b - d₁)  + (a⋅x₂ + b - d₂)  + (a⋅x₃ + b - d₃) "
      ]
     },
     "execution_count": 90,
     "metadata": {},
     "output_type": "execute_result"
    }
   ],
   "source": [
    "F=((A*x-d).T*(A*x-d))[0] # erste Lösung\n",
    "F"
   ]
  },
  {
   "cell_type": "code",
   "execution_count": 91,
   "metadata": {
    "collapsed": false
   },
   "outputs": [
    {
     "data": {
      "image/png": "[encoded data removed]",
      "text/latex": [
       "$$2 x_{1} \\left(a x_{1} + b - d_{1}\\right) + 2 x_{2} \\left(a x_{2} + b - d_{2}\\right) + 2 x_{3} \\left(a x_{3} + b - d_{3}\\right)$$"
      ],
      "text/plain": [
       "2⋅x₁⋅(a⋅x₁ + b - d₁) + 2⋅x₂⋅(a⋅x₂ + b - d₂) + 2⋅x₃⋅(a⋅x₃ + b - d₃)"
      ]
     },
     "execution_count": 91,
     "metadata": {},
     "output_type": "execute_result"
    }
   ],
   "source": [
    "sp.diff(F,a)"
   ]
  },
  {
   "cell_type": "code",
   "execution_count": 92,
   "metadata": {
    "collapsed": false
   },
   "outputs": [
    {
     "data": {
      "image/png": "[encoded data removed]",
      "text/latex": [
       "$$2 a x_{1} + 2 a x_{2} + 2 a x_{3} + 6 b - 2 d_{1} - 2 d_{2} - 2 d_{3}$$"
      ],
      "text/plain": [
       "2⋅a⋅x₁ + 2⋅a⋅x₂ + 2⋅a⋅x₃ + 6⋅b - 2⋅d₁ - 2⋅d₂ - 2⋅d₃"
      ]
     },
     "execution_count": 92,
     "metadata": {},
     "output_type": "execute_result"
    }
   ],
   "source": [
    "sp.diff(F,b)"
   ]
  },
  {
   "cell_type": "code",
   "execution_count": null,
   "metadata": {
    "collapsed": true
   },
   "outputs": [],
   "source": []
  }
 ],
 "metadata": {
  "kernelspec": {
   "display_name": "Python 3",
   "language": "python",
   "name": "python3"
  },
  "language_info": {
   "codemirror_mode": {
    "name": "ipython",
    "version": 3
   },
   "file_extension": ".py",
   "mimetype": "text/x-python",
   "name": "python",
   "nbconvert_exporter": "python",
   "pygments_lexer": "ipython3",
   "version": "3.4.3"
  }
 },
 "nbformat": 4,
 "nbformat_minor": 0
}
