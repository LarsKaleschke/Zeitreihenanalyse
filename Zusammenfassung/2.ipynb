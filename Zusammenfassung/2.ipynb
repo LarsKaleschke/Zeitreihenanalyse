{
 "cells": [
  {
   "cell_type": "markdown",
   "metadata": {},
   "source": [
    "# Grundlagen der Wahrscheinlichkeitsrechnung und Statistik\n",
    "\n",
    "Dieser Abschnitt befasst sich mit den Grundlagen der Wahrscheinlichkeitstheorie in Hinblick auf die Zeitreihenanalyse. Zufallsvariablen sind darin Platzhalter für Messwerte eines Experiments.  Wahrscheinlichkeitsdichteverteilungen beschreibt die theoretische Verteilungsfunktion. Realisierungen eines Experimentes werden als Stichproben bezeichnet. Aus einer Anzahl von Realisierungen ergibt sich die empirische Häufigkeitsverteilung. \n",
    "\n",
    "## Zufallsvariable\n",
    "\n",
    "Sei $x(k)$ eine Menge von Zufallsvariablen. Die Zählvariable $k$ bezeichnet ein bestimmtes Ereignis. Die Zufallsvariable $x(k)$ beschreibt eine Messung mit einem zufälligen Ergebnis. Der Ausgang eines $N$-mal wiederholten Experiments ist eine Reihe von Punkten bzw. Messwerten. Die Messwerte werden Stichproben (Samples) bzw. Realisierungen genannt. Die Anzahl der Stichproben wird hier mit $N$ bezeichnet.\n",
    "\n"
   ]
  },
  {
   "cell_type": "markdown",
   "metadata": {},
   "source": [
    "## Wahrscheinlichkeitsverteilungs- und dichtefunktion\n",
    "\n",
    "Die Wahrscheinlichkeitsverteilungsfunktion $P(x)$ wird definiert als die Wahrscheinlichkeit dafür, dass ein Ereignis $x(k)$ den Wert $x(k)\\le x$ annimmt.\n",
    "\n",
    "$$P(x)=\\operatorname{Prob}(x(k)\\le x)$$\n",
    "\n",
    "Es gilt\n",
    "\n",
    "$$P(a)\\le P(b)$$\n",
    "\n",
    "wenn $a\\le b$.\n",
    "\n",
    "Der Wertebereich von $P$ ist $[0,1]$ weil gilt \n",
    "\n",
    "$$P(-\\infty)=0, P(+\\infty)=1$$\n",
    "\n",
    "Wenn der Wertebereich der Zufallsvariable $x(k)$ kontinuierlich ist, dann wird die  Wahrscheinlichkeitsdichtefunktion $p(x)$  wie folgt definiert\n",
    "\n",
    "$$p(x)=\\lim_{\\Delta x\\to 0}\\left(\\frac{\\operatorname{Prob}(x<x(k)\\le x+\\Delta x)}{\\Delta x}\\right)$$\n",
    "\n",
    "Es gilt\n",
    "\n",
    "$$p(x)\\ge0$$\n",
    "\n",
    "$$\\int_{-\\infty}^{\\infty} p(x)dx=1$$\n",
    "\n",
    "$$P(x)=\\int_{-\\infty}^{x} p(\\zeta)d\\zeta$$ \n",
    "\n",
    "$$\\frac{dP(x)}{dx}=p(x)$$\n",
    "\n",
    "Die Wahrscheinlichkeitsdichtefunktionen diskreter Zufallsvariablen, wie z.B. der Würfelfunktion, müssen mit Hilfe von Delta-Funktionen $\\delta(x)$ oder als Summe beschrieben werden.\n",
    "\n",
    "$$\\operatorname{Prob}(x<x(k)\\le x+\\Delta x)=\\sum_x^{x+\\Delta x} p_k(x)$$\n",
    "\n",
    "mit $p_k=\\operatorname{Prob}(x(k)=x_k)$.\n",
    "\n",
    "Die Wahrscheinlichkeitsverteilungsfunktion $P(x)$ wird auch kumulative Verteilungsfunktion genannt. Sie ist definiert als das Integral über die Wahrscheinlichkeitsdichtefunktionen  $p(x)$. Oft genutzte Abkürzungen sind PDF und CDF für Probability Density Function $p(x)$ und Cumulative (Probability) Density Function $P(x)$.\n",
    "\n",
    "## Erwartungswert\n",
    "\n",
    "Der Erwartungswert einer Zufallsvariablen entspricht dem Mittelwert $\\mu_x$ bei unendlicher Wiederholung eines Experiments. Der Erwartungswert errechnet sich aus der Zufallsvariablen mittels Gewichtung mit der  Wahrscheinlichkeit \n",
    "\n",
    "$$\\operatorname{E}(x(k))=\\int_{-\\infty}^{\\infty} xp(x)dx=\\mu_x$$\n",
    "\n",
    "Für diskrete Zufallsvariablen ist das Integral durch eine Summe zu ersetzen. \n",
    "\n",
    "$$\\operatorname{E}(x)=\\sum_{k} x p_k(x) $$\n",
    "\n",
    "Die Varianz ist definiert als\n",
    "\n",
    "$$\\operatorname{E}(x(k)-\\operatorname{E}(x(k))^2)=\\sigma_x^2$$\n",
    "\n",
    "### Regeln\n",
    "\n",
    "Der Erwartungswert ist ein linearer Operator\n",
    "\n",
    "$$\\operatorname{E}(aX_1+bX_2 )=a\\operatorname{E}(X_1)+b\\operatorname{E}(X_2)$$\n",
    "\n",
    "\n",
    "\n",
    "### Beispiel Zufallsvariable Würfel\n",
    "\n",
    "Sei die Zufallsvariable $x(k)$ der Ausgang eines Würfelexperimentes. \n",
    "\n",
    "Beim idealen Würfel sind alle sechs Seiten gleichwahrscheinlich.\n",
    "\n",
    "$$P(x=1)=P(x=2)=P(x=3)=P(x=4)=P(x=5)=P(x=6)=\\frac{1}{6}$$\n",
    "\n",
    "Damit ergibt sich für den Erwartungswert \n",
    "\n",
    "$$\\operatorname{E}(x)=\\sum_{k=1}^{6} x_k p_k(x_k) $$\n",
    "\n",
    "mit $p_k(x)=\\frac{1}{6}$ für alle $x=1,2,..,6$\n",
    "\n",
    "$$\\operatorname{E}(x)=\\frac{1}{6}(1+2+3+4+5+6)=3.5$$\n",
    "\n",
    "### Übung\n",
    "\n",
    "Berechnen Sie Mittelwert und Varianz der Zufallsvariable $x(k)$ \"Würfel\" theoretisch und experimentell mit einem Zufallsgenerator. Skizzieren Sie die kumulative Wahrscheinlichkeitsverteilungsfunktion und $P(x_k)$ Wahrscheinlichkeitsdichtefunktionen $p(x_k)$.\n",
    "\n",
    "\n"
   ]
  },
  {
   "cell_type": "markdown",
   "metadata": {},
   "source": [
    "# Kovarianz und Korrelation\n",
    "\n",
    "Der Korrelationskoeffizient $r$ beschreibt, wie eng zwei Zufallsvariablen in Raum oder Zeit zusammenhängen. Für zwei Zufallsvariablen $x=(x_1,x_2,...,x_n)$ und $y=(y_1,y_2,...,y_n)$ berechnet sich der Korrelationskoeffizient $r_{x,y}$ als\n",
    "\n",
    "$$r_{x,y}=\\frac{1}{N-1}\\sum_{i=1}^{N}\\frac{(x_i-\\bar{x})(y_i-\\bar{y})}{\\sigma_x \\sigma_y}$$\n",
    "\n",
    "oder ausgedrückt durch die Kovarianz $C_{x,y}$\n",
    "\n",
    "$$r_{x,y}=\\frac{C_{x,y}}{\\sigma_x \\sigma_y}$$\n",
    "\n",
    "dabei gilt\n",
    "\n",
    "$$C_{x,y}=\\operatorname{cov}(x,y)=\\sigma_{x,y}^2\\frac{1}{N-1}\\sum_{i=1}^{N} (x_i-\\bar{x})(y_i-\\bar{y})$$\n",
    "\n",
    "Der Korrelationskoeffizient errechnet sich aus der Kovarianz durch Normierung mit den Standardabweichungen $\\sigma_x$ und $\\sigma_y$ definiert durch\n",
    "\n",
    "$$\\sigma_x^2=\\sigma_x^2=\\frac{1}{N-1}\\sum_{i=1}^{N} (x_i-\\bar{x})^2$$\n",
    "\n",
    "Äquivalent ist die Definition der Kovarianz durch den Erwartungswert\n",
    "$$\\operatorname{cov}(x,y) = \\operatorname E\\bigl[(x - \\operatorname E(x)) \\cdot (y - \\operatorname E(y))\\bigr]$$\n",
    "\n",
    "Für statistisch unabhängige Zufallsvariablen $x$ und $y$ gilt $\\operatorname{cov}(x,y)=0$.\n"
   ]
  },
  {
   "cell_type": "markdown",
   "metadata": {},
   "source": [
    "# Normalverteilung (z-Verteilung)\n",
    "\n",
    "<img src='Normalverteilung_plot.png'>\n",
    "\n",
    "\n",
    "Die Gaußverteilung ist gegeben durch\n",
    "\n",
    "$$p(x)=\\frac{1}{\\sigma_x\\sqrt{2\\pi}}e^{-\\frac{(x-\\mu_x)^2}{2\\sigma_x^2}}$$\n",
    "\n",
    "Es gilt\n",
    "\n",
    "$$E[x]=\\mu_x$$ \n",
    "\n",
    "und\n",
    "\n",
    "$$E[(x-\\mu_x)^2]=\\sigma_x^2$$\n",
    "\n",
    "Substitution von $z=\\frac{x-\\mu_x}{\\sigma_x}$ liefert die standardisierte Normalverteilung\n",
    "\n",
    "$$p(z)=\\frac{1}{\\sqrt{2\\pi}}e^{-\\frac{z^2}{2}}$$\n",
    "\n",
    "für die gilt $E[x]=\\mu_z=0$ und  $E[(x-\\mu_z)^2]=\\sigma_z^2=1$\n",
    "\n",
    "Die Wahrscheinlichkeit $P$ berechnet sich aus dem Integral\n",
    "\n",
    "$$P(z_\\alpha)=\\int_{-\\infty}^{z_\\alpha} p(z)dz=Prob[z\\lt z_\\alpha]=1-\\alpha$$\n",
    "\n",
    "bzw. \n",
    "\n",
    "$$1-P(z_\\alpha)=\\int_{z_\\alpha}^{\\infty} p(z)dz=Prob[z \\gt z_\\alpha]=\\alpha$$\n",
    "\n"
   ]
  },
  {
   "cell_type": "markdown",
   "metadata": {},
   "source": [
    "## Gaußsche Fehlerfunktion\n",
    "\n",
    "Als Fehlerfunktion oder [gaußsche Fehlerfunktion](http://de.wikipedia.org/wiki/Fehlerfunktion) bezeichnet man in der Theorie der Speziellen Funktionen das Integral\n",
    "\n",
    "$$\\operatorname{erf}(x) = \\frac 2{\\sqrt\\pi} \\int_0^x e^{-\\tau^2}\\,\\mathrm d\\tau$$\n",
    "\n",
    "Aus der Fehlerfunktion errechnet sich, wieviele Werte bei einer gegebenen Normalverteilung innerhalb eines Wertebereichs, z.B. $\\pm 1\\sigma$ zu erwarten sind.\n",
    "\n",
    "### Beispiel erf"
   ]
  },
  {
   "cell_type": "code",
   "execution_count": 9,
   "metadata": {
    "collapsed": false
   },
   "outputs": [
    {
     "data": {
      "text/plain": [
       "0.68268949213708585"
      ]
     },
     "execution_count": 9,
     "metadata": {},
     "output_type": "execute_result"
    }
   ],
   "source": [
    "erf(1/sqrt(2)) % Octave/Matlab"
   ]
  },
  {
   "cell_type": "code",
   "execution_count": 5,
   "metadata": {
    "collapsed": false
   },
   "outputs": [
    {
     "data": {
      "text/plain": [
       "0.68268949213708585"
      ]
     },
     "execution_count": 5,
     "metadata": {},
     "output_type": "execute_result"
    }
   ],
   "source": [
    "from scipy.special import erf\n",
    "from numpy import sqrt\n",
    "erf(1/sqrt(2))"
   ]
  },
  {
   "cell_type": "code",
   "execution_count": 6,
   "metadata": {
    "collapsed": false
   },
   "outputs": [
    {
     "data": {
      "text/plain": [
       "0.95449973610364158"
      ]
     },
     "execution_count": 6,
     "metadata": {},
     "output_type": "execute_result"
    }
   ],
   "source": [
    "erf(2/sqrt(2))"
   ]
  },
  {
   "cell_type": "code",
   "execution_count": 7,
   "metadata": {
    "collapsed": false
   },
   "outputs": [
    {
     "data": {
      "text/plain": [
       "0.99730020393673979"
      ]
     },
     "execution_count": 7,
     "metadata": {},
     "output_type": "execute_result"
    }
   ],
   "source": [
    "erf(3/sqrt(2))"
   ]
  },
  {
   "cell_type": "markdown",
   "metadata": {},
   "source": [
    "Im Intervall $\\pm \\sigma$ sind 68,27% aller Zufallswerte zu erwarten,\n",
    "in $\\pm 2\\sigma$ sind es 95,45%, in  $\\pm 3\\sigma$ erwarten wir 99,73%."
   ]
  },
  {
   "cell_type": "markdown",
   "metadata": {},
   "source": [
    "## Parameter-Schätzungen\n",
    "\n",
    "Das Grundproblem der statistischen Analyse besteht darin, dass die Stichprobenanzahl begrenzt ist und die theoretischen Verteilungsfunktionen nicht bekannt sind. Stattdessen müssen statistische Parameter aus einer begrenzten Anzahl Stichproben möglichst genau geschätzt werden. \n",
    "\n",
    "Gegeben sei eine Zufallsvariable $x_i$, z.B. eine stochastische Zeitserie. Im Folgenden wird der Stichproben-Index $i$ weggelassen, um eine kompaktere Darstellung zu erhalten. Die beiden statistischen Parameter Mittelwert $\\mu$ und Varianz $\\sigma^2$ \n",
    "\n",
    "$$\\mu_x=E[x]=\\int_{-\\infty}^\\infty x p(x) dx$$\n",
    "$$\\sigma_x^2=E[(x-\\mu_x)^2]=\\int_{-\\infty}^\\infty (x-\\mu_x)^2  p(x) dx$$\n",
    "\n",
    "werden mit Hilfe der Wahrscheinlichkeitsdichtefunktion $p(x)$ theoretisch berechnet. Der Operator $E[]$ bezeichnet den Erwartungswert. Im Allgemeinen ist die Anzahl der Stichproben begrenzt und  die Wahrscheinlichkeitsdichtefunktion ist nicht bekannt. \n",
    "\n",
    "Eine (von vielen) Möglichkeiten um Mittelwert und Varianz von $x$ aus $N$ unabhängigen Messungen zu schätzen, ist gegeben durch\n",
    "\n",
    "$$\\bar{x}=\\hat{\\mu_x}=\\frac{1}{N} \\sum_{i=1}^N x_i $$\n",
    "$$s_b^2=\\hat{\\sigma_x}^2=\\frac{1}{N} \\sum_{i=1}^N (x_i-\\bar{x})^2 $$\n",
    "\n",
    "Der Unterschied von $\\hat{\\mu_x}$ und $\\mu_x$ besteht darin, dass $\\hat{\\mu_x}$ den geschätzen Wert und $\\mu_x$ den wahren bzw. theoretisch richtigen Wert bezeichnet.\n",
    "\n",
    "Wir wollen nun untersuchen, ob die Schätzung von Mittelwert und Varianz unsere Erwartungen erfüllt. Der Erwartungswert des Mittelwertes berechnet sich aus (Bendat und Piersol, 1986):\n",
    "\n",
    "$$E[\\bar{x}]=E\\left[\\frac{1}{N} \\sum_{i=1}^N x_i\\right]=\\frac{1}{N} E\\left[\\sum_{i=1}^N x_i\\right]=\\frac{1}{N}(N\\mu_x)=\\mu_x$$\n",
    "\n",
    "und erfüllt unsere Erwartungen $\\hat{\\mu_x}=\\bar{x}$ (erwartungstreu). \n",
    "\n",
    "Der mittlere quadratische Fehler der Schätzung des Mittelwertes ergibt sich aus\n",
    "\n",
    "$$E[(\\bar{x}-\\mu_x)^2]=E\\left[\\left(\\frac{1}{N} \\sum_{i=1}^N x_i-\\mu_x \\right)^2\\right]=\\frac{1}{N^2} E\\left[\\left(\\sum_{i=1}^N (x_i-\\mu_i)\\right)^2\\right]$$\n",
    "\n",
    "Die Messungen $x_i$ sind unabhängig, daher folgt\n",
    "\n",
    "$$E[(\\bar{x}-\\mu_x)^2]=\\frac{1}{N^2} E\\left[\\sum_{i=1}^N (x_i-\\mu_i)^2\\right]=\\frac{1}{N^2}(N\\sigma_x^2)=\\frac{\\sigma_x^2}{N}$$\n",
    "\n"
   ]
  },
  {
   "cell_type": "markdown",
   "metadata": {},
   "source": [
    "Der Erwartungswert der Varianz $s_b$ errechnet sich zu \n",
    "\n",
    "$$E[s_b^2]=E[\\frac{1}{N} \\sum_{i=1}^N (x_i-\\bar{x})^2]=\\frac{1}{N} E[\\sum_{i=1}^N (x_i-\\bar{x})^2]=$$\n",
    "\n",
    "mit $\\sum_{i=1}^N (x_i-\\bar{x})^2=...=\\sum_{i=1}^N (x_i-\\bar{x})^2 - N(x_i-\\bar{x})^2$ und $E[(x_i-\\mu_x)^2]=\\sigma_x^2$ und $E[(\\bar{x}-\\mu_x)^2]=\\frac{\\sigma_x^2}{N}$ folgt (Herleitung siehe Bendat und Piersol, 1986)\n",
    "\n",
    "$$E[s_b^2]=\\frac{N-1}{N}\\sigma_x^2$$\n",
    "\n",
    "\n",
    "Die Varianz-Schätzung $s_b$ bzw. $\\hat{\\sigma_x}$  ist offensichtlich nicht erwartungstreu, da $\\hat{\\sigma_x}^2<\\sigma_x^2$. Die Schätzung nennt sich darum verzerrt oder biased. Eine erwartungstreue/unverzerrte Schätzung der Varianz ist gegeben durch\n",
    "\n",
    "$$s^2=\\hat{\\sigma_x}^2=\\frac{1}{N-1} \\sum_{i=1}^N (x_i-\\bar{x})^2 $$\n",
    "\n",
    "der sogennanten empirischen Varianz oder Stichprobenvarianz. Der Unterschied macht sich insbesondere für eine kleine Anzahl von Stichproben bemerkbar und kann für eine große Anzahl meist vernachlässigt werden. Vorsicht ist jedoch geboten bei Hypothesentests, die auf einem Vergleich der Varianz basieren.\n",
    "\n"
   ]
  },
  {
   "cell_type": "markdown",
   "metadata": {},
   "source": [
    "# Hypothesenprüfungen\n",
    "\n",
    "Bei einem statistischen Prüfverfahren wird einer sogenannten Nullhypothese eine (oder mehrere) Alternativhypothese gegenübergestellt. Im Sinne eines mathemathischen Widerspruchsbeweises wird die Nullhypothese statistisch widerlegt, um die Alternativhypothese zu beweisen. \n",
    "\n",
    "Bei der Auswahl eines Prüfverfahrens muss die theoretische Wahrscheinlichkeitsverteilung und der Stichprobenumfang beachtet werden. \n",
    "\n",
    "Das Ergebnis einer statistischen Prüfung ist immer im Zusammenhang mit dem sog. Signifikanzniveau zu nennen. Die zur Signifikanz komplementäre Größe ist die Irrtumswahrscheinlichkeit. Es gilt\n",
    "\n",
    "$$Signifikanz=1-Irrtumswahrscheinlichkeit$$\n",
    "\n",
    "oder\n",
    "\n",
    "$$Si=1-\\alpha$$\n",
    "\n",
    "Wahrscheinlichkeiten werden entweder in Prozent oder als Zahl zwischen 0-1 angeben.  Anstatt $\\alpha$ wird üblicherweise auch die Bezeichnung $p$ verwendet. Die Regel besagt, dass die Signifikanz groß ist, wenn $p$ klein ist.\n",
    "\n",
    "Aus der Angabe einer Wahrscheinlichkeit ergibt sich auch ein sog. Vertrauensbereich (auch Konfidenzintervall oder Mutungsbereich), der den Wertebereich für eine spezifische Wahrscheinlichkeit angibt.\n",
    "\n",
    "## Beschreibung von Wahrscheinlichkeitsbereichen (IPCC-Terminologie)\n",
    "\n",
    "Bei einer Einschätzung der Unsicherheit bestimmter Ergebnisse mittels fachkundiger Beurteilung und statistischer Analyse eines Beweises (z.B. Beobachtungen oder Modellergebnisse) werden folgende Wahrscheinlichkeitsbereiche verwendet, um die geschätzte Eintrittswahrscheinlichkeit auszudrücken:\n",
    "\n",
    " * praktisch sicher >99%\n",
    " * höchst wahrscheinlich >95%\n",
    " * sehr wahrscheinlich >90%\n",
    " * wahrscheinlich >66%\n",
    " * wahrscheinlicher als nicht >50%\n",
    " * etwa so wahrscheinlich wie nicht 33% bis 66%\n",
    " * unwahrscheinlich <33%\n",
    " * sehr unwahrscheinlich <10%\n",
    " * höchst unwahrscheinlich <5%\n",
    " * außergewöhnlich unwahrscheinlich <1%\n",
    "\n",
    "\n",
    "\n",
    "Übernommen aus [IPCC AR4 (2007)](http://www.ipcc.ch/pdf/reports-nonUN-translations/deutch/IPCC2007-SYR-SPM-german.pdf)\n",
    "\n"
   ]
  },
  {
   "cell_type": "markdown",
   "metadata": {},
   "source": [
    "# Histogramm\n",
    "\n",
    "Ein Histogramm ist eine graphische Darstellung der Häufigkeitsverteilung.\n",
    "\n"
   ]
  },
  {
   "cell_type": "code",
   "execution_count": 3,
   "metadata": {
    "collapsed": false
   },
   "outputs": [
    {
     "data": {
      "image/svg+xml": [
       "<svg height=\"420px\" viewBox=\"0 0 268 201\" width=\"560px\" xmlns=\"http://www.w3.org/2000/svg\" xmlns:xlink=\"http://www.w3.org/1999/xlink\">\n",
       "\n",
       "<title>Gnuplot</title>\n",
       "<desc>Produced by GNUPLOT 4.6 patchlevel 4 </desc>\n",
       "\n",
       "<g id=\"gnuplot_canvas\">\n",
       "\n",
       "<rect fill=\"none\" height=\"201\" width=\"268\" x=\"0\" y=\"0\"/>\n",
       "<defs>\n",
       "\n",
       "\t<circle id=\"gpDot\" r=\"0.5\" stroke-width=\"0.5\"/>\n",
       "\t<path d=\"M-1,0 h2 M0,-1 v2\" id=\"gpPt0\" stroke=\"currentColor\" stroke-width=\"0.333\"/>\n",
       "\t<path d=\"M-1,-1 L1,1 M1,-1 L-1,1\" id=\"gpPt1\" stroke=\"currentColor\" stroke-width=\"0.333\"/>\n",
       "\t<path d=\"M-1,0 L1,0 M0,-1 L0,1 M-1,-1 L1,1 M-1,1 L1,-1\" id=\"gpPt2\" stroke=\"currentColor\" stroke-width=\"0.333\"/>\n",
       "\t<rect height=\"2\" id=\"gpPt3\" stroke=\"currentColor\" stroke-width=\"0.333\" width=\"2\" x=\"-1\" y=\"-1\"/>\n",
       "\t<rect fill=\"currentColor\" height=\"2\" id=\"gpPt4\" stroke=\"currentColor\" stroke-width=\"0.333\" width=\"2\" x=\"-1\" y=\"-1\"/>\n",
       "\t<circle cx=\"0\" cy=\"0\" id=\"gpPt5\" r=\"1\" stroke=\"currentColor\" stroke-width=\"0.333\"/>\n",
       "\t<use fill=\"currentColor\" id=\"gpPt6\" stroke=\"none\" xlink:href=\"#gpPt5\"/>\n",
       "\t<path d=\"M0,-1.33 L-1.33,0.67 L1.33,0.67 z\" id=\"gpPt7\" stroke=\"currentColor\" stroke-width=\"0.333\"/>\n",
       "\t<use fill=\"currentColor\" id=\"gpPt8\" stroke=\"none\" xlink:href=\"#gpPt7\"/>\n",
       "\t<use id=\"gpPt9\" stroke=\"currentColor\" transform=\"rotate(180)\" xlink:href=\"#gpPt7\"/>\n",
       "\t<use fill=\"currentColor\" id=\"gpPt10\" stroke=\"none\" xlink:href=\"#gpPt9\"/>\n",
       "\t<use id=\"gpPt11\" stroke=\"currentColor\" transform=\"rotate(45)\" xlink:href=\"#gpPt3\"/>\n",
       "\t<use fill=\"currentColor\" id=\"gpPt12\" stroke=\"none\" xlink:href=\"#gpPt11\"/>\n",
       "</defs>\n",
       "<g style=\"fill:none; color:white; stroke:currentColor; stroke-width:1.00; stroke-linecap:butt; stroke-linejoin:miter\">\n",
       "</g>\n",
       "<g style=\"fill:none; color:black; stroke:currentColor; stroke-width:1.00; stroke-linecap:butt; stroke-linejoin:miter\">\n",
       "\t<g style=\"stroke:none; shape-rendering:crispEdges\">\n",
       "\t\t<polygon fill=\"rgb(255, 255, 255)\" points=\"36.4,177.6 251.8,177.6 251.8,11.4 36.4,11.4 \"/>\n",
       "\t</g>\n",
       "\t<path d=\"M36.4,177.6 L36.4,11.4 L251.8,11.4 L251.8,177.6 L36.4,177.6  h0.01\" stroke=\"black\"/></g>\n",
       "<g style=\"fill:none; color:black; stroke:black; stroke-width:0.50; stroke-linecap:butt; stroke-linejoin:miter\">\n",
       "\t<path d=\"M36.4,177.6 L44.8,177.6 M251.9,177.6 L243.5,177.6  h0.01\" stroke=\"black\"/>\t<g style=\"stroke:none; fill:rgb(0,0,0); font-family:{}; font-size:10.00pt; text-anchor:end\" transform=\"translate(30.8,181.3)\">\n",
       "\t\t<text><tspan>0</tspan></text>\n",
       "\t</g>\n",
       "\t<path d=\"M36.4,149.9 L44.8,149.9 M251.9,149.9 L243.5,149.9  h0.01\" stroke=\"black\"/>\t<g style=\"stroke:none; fill:rgb(0,0,0); font-family:{}; font-size:10.00pt; text-anchor:end\" transform=\"translate(30.8,153.6)\">\n",
       "\t\t<text><tspan>200</tspan></text>\n",
       "\t</g>\n",
       "\t<path d=\"M36.4,122.2 L44.8,122.2 M251.9,122.2 L243.5,122.2  h0.01\" stroke=\"black\"/>\t<g style=\"stroke:none; fill:rgb(0,0,0); font-family:{}; font-size:10.00pt; text-anchor:end\" transform=\"translate(30.8,125.9)\">\n",
       "\t\t<text><tspan>400</tspan></text>\n",
       "\t</g>\n",
       "\t<path d=\"M36.4,94.4 L44.8,94.4 M251.9,94.4 L243.5,94.4  h0.01\" stroke=\"black\"/>\t<g style=\"stroke:none; fill:rgb(0,0,0); font-family:{}; font-size:10.00pt; text-anchor:end\" transform=\"translate(30.8,98.1)\">\n",
       "\t\t<text><tspan>600</tspan></text>\n",
       "\t</g>\n",
       "\t<path d=\"M36.4,66.7 L44.8,66.7 M251.9,66.7 L243.5,66.7  h0.01\" stroke=\"black\"/>\t<g style=\"stroke:none; fill:rgb(0,0,0); font-family:{}; font-size:10.00pt; text-anchor:end\" transform=\"translate(30.8,70.4)\">\n",
       "\t\t<text><tspan>800</tspan></text>\n",
       "\t</g>\n",
       "\t<path d=\"M36.4,39.0 L44.8,39.0 M251.9,39.0 L243.5,39.0  h0.01\" stroke=\"black\"/>\t<g style=\"stroke:none; fill:rgb(0,0,0); font-family:{}; font-size:10.00pt; text-anchor:end\" transform=\"translate(30.8,42.7)\">\n",
       "\t\t<text><tspan>1000</tspan></text>\n",
       "\t</g>\n",
       "\t<path d=\"M36.4,11.3 L44.8,11.3 M251.9,11.3 L243.5,11.3  h0.01\" stroke=\"black\"/>\t<g style=\"stroke:none; fill:rgb(0,0,0); font-family:{}; font-size:10.00pt; text-anchor:end\" transform=\"translate(30.8,15.0)\">\n",
       "\t\t<text><tspan>1200</tspan></text>\n",
       "\t</g>\n",
       "\t<path d=\"M36.4,177.6 L36.4,169.2 M36.4,11.3 L36.4,19.7  h0.01\" stroke=\"black\"/>\t<g style=\"stroke:none; fill:rgb(0,0,0); font-family:{}; font-size:10.00pt; text-anchor:middle\" transform=\"translate(36.4,193.3)\">\n",
       "\t\t<text><tspan>-4</tspan></text>\n",
       "\t</g>\n",
       "\t<path d=\"M79.5,177.6 L79.5,169.2 M79.5,11.3 L79.5,19.7  h0.01\" stroke=\"black\"/>\t<g style=\"stroke:none; fill:rgb(0,0,0); font-family:{}; font-size:10.00pt; text-anchor:middle\" transform=\"translate(79.5,193.3)\">\n",
       "\t\t<text><tspan>-2</tspan></text>\n",
       "\t</g>\n",
       "\t<path d=\"M122.6,177.6 L122.6,169.2 M122.6,11.3 L122.6,19.7  h0.01\" stroke=\"black\"/>\t<g style=\"stroke:none; fill:rgb(0,0,0); font-family:{}; font-size:10.00pt; text-anchor:middle\" transform=\"translate(122.6,193.3)\">\n",
       "\t\t<text><tspan>0</tspan></text>\n",
       "\t</g>\n",
       "\t<path d=\"M165.7,177.6 L165.7,169.2 M165.7,11.3 L165.7,19.7  h0.01\" stroke=\"black\"/>\t<g style=\"stroke:none; fill:rgb(0,0,0); font-family:{}; font-size:10.00pt; text-anchor:middle\" transform=\"translate(165.7,193.3)\">\n",
       "\t\t<text><tspan>2</tspan></text>\n",
       "\t</g>\n",
       "\t<path d=\"M208.8,177.6 L208.8,169.2 M208.8,11.3 L208.8,19.7  h0.01\" stroke=\"black\"/>\t<g style=\"stroke:none; fill:rgb(0,0,0); font-family:{}; font-size:10.00pt; text-anchor:middle\" transform=\"translate(208.8,193.3)\">\n",
       "\t\t<text><tspan>4</tspan></text>\n",
       "\t</g>\n",
       "\t<path d=\"M251.9,177.6 L251.9,169.2 M251.9,11.3 L251.9,19.7  h0.01\" stroke=\"black\"/>\t<g style=\"stroke:none; fill:rgb(0,0,0); font-family:{}; font-size:10.00pt; text-anchor:middle\" transform=\"translate(251.9,193.3)\">\n",
       "\t\t<text><tspan>6</tspan></text>\n",
       "\t</g>\n",
       "\t<path d=\"M36.4,11.3 L36.4,177.6 L251.9,177.6 L251.9,11.3 L36.4,11.3 Z  h0.01\" stroke=\"black\"/></g>\n",
       "\t<g id=\"gnuplot_plot_1a\"><title>gnuplot_plot_1a</title>\n",
       "<g style=\"fill:none; color:white; stroke:black; stroke-width:1.00; stroke-linecap:butt; stroke-linejoin:miter\">\n",
       "</g>\n",
       "<g style=\"fill:none; color:red; stroke:currentColor; stroke-width:1.00; stroke-linecap:butt; stroke-linejoin:miter\">\n",
       "\t<g style=\"stroke:none; shape-rendering:crispEdges\">\n",
       "\t\t<polygon fill=\"rgb(  0,   0, 128)\" points=\"39.0,177.6 39.0,177.6 39.0,177.3 43.7,177.3 43.7,177.6 \"/>\n",
       "\t</g>\n",
       "\t<path d=\"M39.0,177.6 L39.0,177.3 L43.7,177.3 L43.7,177.6  h0.01\" stroke=\"rgb(  0,   0, 128)\"/></g>\n",
       "\t</g>\n",
       "\t<g id=\"gnuplot_plot_2a\"><title>gnuplot_plot_2a</title>\n",
       "<g style=\"fill:none; color:white; stroke:rgb(  0,   0, 128); stroke-width:0.50; stroke-linecap:butt; stroke-linejoin:miter\">\n",
       "</g>\n",
       "<g style=\"fill:none; color:red; stroke:currentColor; stroke-width:0.50; stroke-linecap:butt; stroke-linejoin:miter\">\n",
       "\t<path d=\"M39.0,177.6 L39.0,177.3 L43.7,177.3 L43.7,177.6 L39.0,177.6  h0.01\" stroke=\"rgb(  0,   0,   0)\"/></g>\n",
       "\t</g>\n",
       "\t<g id=\"gnuplot_plot_3a\"><title>gnuplot_plot_3a</title>\n",
       "<g style=\"fill:none; color:white; stroke:rgb(  0,   0,   0); stroke-width:1.00; stroke-linecap:butt; stroke-linejoin:miter\">\n",
       "</g>\n",
       "<g style=\"fill:none; color:blue; stroke:currentColor; stroke-width:1.00; stroke-linecap:butt; stroke-linejoin:miter\">\n",
       "\t<g style=\"stroke:none; shape-rendering:crispEdges\">\n",
       "\t\t<polygon fill=\"rgb(  0,   0, 128)\" points=\"44.9,177.6 44.9,177.6 44.9,177.3 49.6,177.3 49.6,177.6 \"/>\n",
       "\t</g>\n",
       "\t<path d=\"M44.9,177.6 L44.9,177.3 L49.6,177.3 L49.6,177.6  h0.01\" stroke=\"rgb(  0,   0, 128)\" stroke-dasharray=\" 2,4\"/></g>\n",
       "\t</g>\n",
       "\t<g id=\"gnuplot_plot_4a\"><title>gnuplot_plot_4a</title>\n",
       "<g style=\"fill:none; color:white; stroke:rgb(  0,   0, 128); stroke-width:0.50; stroke-linecap:butt; stroke-linejoin:miter\">\n",
       "</g>\n",
       "<g style=\"fill:none; color:red; stroke:currentColor; stroke-width:0.50; stroke-linecap:butt; stroke-linejoin:miter\">\n",
       "\t<path d=\"M44.9,177.6 L44.9,177.3 L49.6,177.3 L49.6,177.6 L44.9,177.6  h0.01\" stroke=\"rgb(  0,   0,   0)\"/></g>\n",
       "\t</g>\n",
       "\t<g id=\"gnuplot_plot_5a\"><title>gnuplot_plot_5a</title>\n",
       "<g style=\"fill:none; color:white; stroke:rgb(  0,   0,   0); stroke-width:1.00; stroke-linecap:butt; stroke-linejoin:miter\">\n",
       "</g>\n",
       "<g style=\"fill:none; color:#157545; stroke:currentColor; stroke-width:1.00; stroke-linecap:butt; stroke-linejoin:miter\">\n",
       "\t<g style=\"stroke:none; shape-rendering:crispEdges\">\n",
       "\t\t<polygon fill=\"rgb(  0,   0, 128)\" points=\"50.8,177.6 50.8,177.6 50.8,176.6 55.5,176.6 55.5,177.6 \"/>\n",
       "\t</g>\n",
       "\t<path d=\"M50.8,177.6 L50.8,176.6 L55.5,176.6 L55.5,177.6  h0.01\" stroke=\"rgb(  0,   0, 128)\" stroke-dasharray=\" 9,4,1,4,1,4\"/></g>\n",
       "\t</g>\n",
       "\t<g id=\"gnuplot_plot_6a\"><title>gnuplot_plot_6a</title>\n",
       "<g style=\"fill:none; color:white; stroke:rgb(  0,   0, 128); stroke-width:0.50; stroke-linecap:butt; stroke-linejoin:miter\">\n",
       "</g>\n",
       "<g style=\"fill:none; color:red; stroke:currentColor; stroke-width:0.50; stroke-linecap:butt; stroke-linejoin:miter\">\n",
       "\t<path d=\"M50.8,177.6 L50.8,176.6 L55.5,176.6 L55.5,177.6 L50.8,177.6  h0.01\" stroke=\"rgb(  0,   0,   0)\"/></g>\n",
       "\t</g>\n",
       "\t<g id=\"gnuplot_plot_7a\"><title>gnuplot_plot_7a</title>\n",
       "<g style=\"fill:none; color:white; stroke:rgb(  0,   0,   0); stroke-width:1.00; stroke-linecap:butt; stroke-linejoin:miter\">\n",
       "</g>\n",
       "<g style=\"fill:none; color:#FF9900; stroke:currentColor; stroke-width:1.00; stroke-linecap:butt; stroke-linejoin:miter\">\n",
       "\t<g style=\"stroke:none; shape-rendering:crispEdges\">\n",
       "\t\t<polygon fill=\"rgb(  0,   0, 128)\" points=\"56.7,177.6 56.7,177.6 56.7,176.5 61.4,176.5 61.4,177.6 \"/>\n",
       "\t</g>\n",
       "\t<path d=\"M56.7,177.6 L56.7,176.5 L61.4,176.5 L61.4,177.6  h0.01\" stroke=\"rgb(  0,   0, 128)\" stroke-dasharray=\" 5,8\"/></g>\n",
       "\t</g>\n",
       "\t<g id=\"gnuplot_plot_8a\"><title>gnuplot_plot_8a</title>\n",
       "<g style=\"fill:none; color:white; stroke:rgb(  0,   0, 128); stroke-width:0.50; stroke-linecap:butt; stroke-linejoin:miter\">\n",
       "</g>\n",
       "<g style=\"fill:none; color:red; stroke:currentColor; stroke-width:0.50; stroke-linecap:butt; stroke-linejoin:miter\">\n",
       "\t<path d=\"M56.7,177.6 L56.7,176.5 L61.4,176.5 L61.4,177.6 L56.7,177.6  h0.01\" stroke=\"rgb(  0,   0,   0)\"/></g>\n",
       "\t</g>\n",
       "\t<g id=\"gnuplot_plot_9a\"><title>gnuplot_plot_9a</title>\n",
       "<g style=\"fill:none; color:white; stroke:rgb(  0,   0,   0); stroke-width:1.00; stroke-linecap:butt; stroke-linejoin:miter\">\n",
       "</g>\n",
       "<g style=\"fill:none; color:#D6D645; stroke:currentColor; stroke-width:1.00; stroke-linecap:butt; stroke-linejoin:miter\">\n",
       "\t<g style=\"stroke:none; shape-rendering:crispEdges\">\n",
       "\t\t<polygon fill=\"rgb(  0,   0, 128)\" points=\"62.6,177.6 62.6,177.6 62.6,173.3 67.3,173.3 67.3,177.6 \"/>\n",
       "\t</g>\n",
       "\t<path d=\"M62.6,177.6 L62.6,173.3 L67.3,173.3 L67.3,177.6  h0.01\" stroke=\"rgb(  0,   0, 128)\" stroke-dasharray=\" 8,4,2,4\"/></g>\n",
       "\t</g>\n",
       "\t<g id=\"gnuplot_plot_10a\"><title>gnuplot_plot_10a</title>\n",
       "<g style=\"fill:none; color:white; stroke:rgb(  0,   0, 128); stroke-width:0.50; stroke-linecap:butt; stroke-linejoin:miter\">\n",
       "</g>\n",
       "<g style=\"fill:none; color:red; stroke:currentColor; stroke-width:0.50; stroke-linecap:butt; stroke-linejoin:miter\">\n",
       "\t<path d=\"M62.6,177.6 L62.6,173.3 L67.3,173.3 L67.3,177.6 L62.6,177.6  h0.01\" stroke=\"rgb(  0,   0,   0)\"/></g>\n",
       "\t</g>\n",
       "\t<g id=\"gnuplot_plot_11a\"><title>gnuplot_plot_11a</title>\n",
       "<g style=\"fill:none; color:white; stroke:rgb(  0,   0,   0); stroke-width:1.00; stroke-linecap:butt; stroke-linejoin:miter\">\n",
       "</g>\n",
       "<g style=\"fill:none; color:#FFCC00; stroke:currentColor; stroke-width:1.00; stroke-linecap:butt; stroke-linejoin:miter\">\n",
       "\t<g style=\"stroke:none; shape-rendering:crispEdges\">\n",
       "\t\t<polygon fill=\"rgb(  0,   0, 128)\" points=\"68.5,177.6 68.5,177.6 68.5,170.5 73.2,170.5 73.2,177.6 \"/>\n",
       "\t</g>\n",
       "\t<path d=\"M68.5,177.6 L68.5,170.5 L73.2,170.5 L73.2,177.6  h0.01\" stroke=\"rgb(  0,   0, 128)\"/></g>\n",
       "\t</g>\n",
       "\t<g id=\"gnuplot_plot_12a\"><title>gnuplot_plot_12a</title>\n",
       "<g style=\"fill:none; color:white; stroke:rgb(  0,   0, 128); stroke-width:0.50; stroke-linecap:butt; stroke-linejoin:miter\">\n",
       "</g>\n",
       "<g style=\"fill:none; color:red; stroke:currentColor; stroke-width:0.50; stroke-linecap:butt; stroke-linejoin:miter\">\n",
       "\t<path d=\"M68.5,177.6 L68.5,170.5 L73.2,170.5 L73.2,177.6 L68.5,177.6  h0.01\" stroke=\"rgb(  0,   0,   0)\"/></g>\n",
       "\t</g>\n",
       "\t<g id=\"gnuplot_plot_13a\"><title>gnuplot_plot_13a</title>\n",
       "<g style=\"fill:none; color:white; stroke:rgb(  0,   0,   0); stroke-width:1.00; stroke-linecap:butt; stroke-linejoin:miter\">\n",
       "</g>\n",
       "<g style=\"fill:none; color:#ABD600; stroke:currentColor; stroke-width:1.00; stroke-linecap:butt; stroke-linejoin:miter\">\n",
       "\t<g style=\"stroke:none; shape-rendering:crispEdges\">\n",
       "\t\t<polygon fill=\"rgb(  0,   0, 128)\" points=\"74.4,177.6 74.4,177.6 74.4,160.0 79.1,160.0 79.1,177.6 \"/>\n",
       "\t</g>\n",
       "\t<path d=\"M74.4,177.6 L74.4,160.0 L79.1,160.0 L79.1,177.6  h0.01\" stroke=\"rgb(  0,   0, 128)\" stroke-dasharray=\" 2,4\"/></g>\n",
       "\t</g>\n",
       "\t<g id=\"gnuplot_plot_14a\"><title>gnuplot_plot_14a</title>\n",
       "<g style=\"fill:none; color:white; stroke:rgb(  0,   0, 128); stroke-width:0.50; stroke-linecap:butt; stroke-linejoin:miter\">\n",
       "</g>\n",
       "<g style=\"fill:none; color:red; stroke:currentColor; stroke-width:0.50; stroke-linecap:butt; stroke-linejoin:miter\">\n",
       "\t<path d=\"M74.4,177.6 L74.4,160.0 L79.1,160.0 L79.1,177.6 L74.4,177.6  h0.01\" stroke=\"rgb(  0,   0,   0)\"/></g>\n",
       "\t</g>\n",
       "\t<g id=\"gnuplot_plot_15a\"><title>gnuplot_plot_15a</title>\n",
       "<g style=\"fill:none; color:white; stroke:rgb(  0,   0,   0); stroke-width:1.00; stroke-linecap:butt; stroke-linejoin:miter\">\n",
       "</g>\n",
       "<g style=\"fill:none; color:green; stroke:currentColor; stroke-width:1.00; stroke-linecap:butt; stroke-linejoin:miter\">\n",
       "\t<g style=\"stroke:none; shape-rendering:crispEdges\">\n",
       "\t\t<polygon fill=\"rgb(  0,   0, 128)\" points=\"80.3,177.6 80.3,177.6 80.3,149.9 85.0,149.9 85.0,177.6 \"/>\n",
       "\t</g>\n",
       "\t<path d=\"M80.3,177.6 L80.3,149.9 L85.0,149.9 L85.0,177.6  h0.01\" stroke=\"rgb(  0,   0, 128)\" stroke-dasharray=\" 9,4,1,4,1,4\"/></g>\n",
       "\t</g>\n",
       "\t<g id=\"gnuplot_plot_16a\"><title>gnuplot_plot_16a</title>\n",
       "<g style=\"fill:none; color:white; stroke:rgb(  0,   0, 128); stroke-width:0.50; stroke-linecap:butt; stroke-linejoin:miter\">\n",
       "</g>\n",
       "<g style=\"fill:none; color:red; stroke:currentColor; stroke-width:0.50; stroke-linecap:butt; stroke-linejoin:miter\">\n",
       "\t<path d=\"M80.3,177.6 L80.3,149.9 L85.0,149.9 L85.0,177.6 L80.3,177.6  h0.01\" stroke=\"rgb(  0,   0,   0)\"/></g>\n",
       "\t</g>\n",
       "\t<g id=\"gnuplot_plot_17a\"><title>gnuplot_plot_17a</title>\n",
       "<g style=\"fill:none; color:white; stroke:rgb(  0,   0,   0); stroke-width:1.00; stroke-linecap:butt; stroke-linejoin:miter\">\n",
       "</g>\n",
       "<g style=\"fill:none; color:cyan; stroke:currentColor; stroke-width:1.00; stroke-linecap:butt; stroke-linejoin:miter\">\n",
       "\t<g style=\"stroke:none; shape-rendering:crispEdges\">\n",
       "\t\t<polygon fill=\"rgb(  0,   0, 128)\" points=\"86.2,177.6 86.2,177.6 86.2,135.2 90.9,135.2 90.9,177.6 \"/>\n",
       "\t</g>\n",
       "\t<path d=\"M86.2,177.6 L86.2,135.2 L90.9,135.2 L90.9,177.6  h0.01\" stroke=\"rgb(  0,   0, 128)\" stroke-dasharray=\" 5,8\"/></g>\n",
       "\t</g>\n",
       "\t<g id=\"gnuplot_plot_18a\"><title>gnuplot_plot_18a</title>\n",
       "<g style=\"fill:none; color:white; stroke:rgb(  0,   0, 128); stroke-width:0.50; stroke-linecap:butt; stroke-linejoin:miter\">\n",
       "</g>\n",
       "<g style=\"fill:none; color:red; stroke:currentColor; stroke-width:0.50; stroke-linecap:butt; stroke-linejoin:miter\">\n",
       "\t<path d=\"M86.2,177.6 L86.2,135.2 L90.9,135.2 L90.9,177.6 L86.2,177.6  h0.01\" stroke=\"rgb(  0,   0,   0)\"/></g>\n",
       "\t</g>\n",
       "\t<g id=\"gnuplot_plot_19a\"><title>gnuplot_plot_19a</title>\n",
       "<g style=\"fill:none; color:white; stroke:rgb(  0,   0,   0); stroke-width:1.00; stroke-linecap:butt; stroke-linejoin:miter\">\n",
       "</g>\n",
       "<g style=\"fill:none; color:#000094; stroke:currentColor; stroke-width:1.00; stroke-linecap:butt; stroke-linejoin:miter\">\n",
       "\t<g style=\"stroke:none; shape-rendering:crispEdges\">\n",
       "\t\t<polygon fill=\"rgb(  0,   0, 128)\" points=\"92.1,177.6 92.1,177.6 92.1,111.4 96.8,111.4 96.8,177.6 \"/>\n",
       "\t</g>\n",
       "\t<path d=\"M92.1,177.6 L92.1,111.4 L96.8,111.4 L96.8,177.6  h0.01\" stroke=\"rgb(  0,   0, 128)\" stroke-dasharray=\" 8,4,2,4\"/></g>\n",
       "\t</g>\n",
       "\t<g id=\"gnuplot_plot_20a\"><title>gnuplot_plot_20a</title>\n",
       "<g style=\"fill:none; color:white; stroke:rgb(  0,   0, 128); stroke-width:0.50; stroke-linecap:butt; stroke-linejoin:miter\">\n",
       "</g>\n",
       "<g style=\"fill:none; color:red; stroke:currentColor; stroke-width:0.50; stroke-linecap:butt; stroke-linejoin:miter\">\n",
       "\t<path d=\"M92.1,177.6 L92.1,111.4 L96.8,111.4 L96.8,177.6 L92.1,177.6  h0.01\" stroke=\"rgb(  0,   0,   0)\"/></g>\n",
       "\t</g>\n",
       "\t<g id=\"gnuplot_plot_21a\"><title>gnuplot_plot_21a</title>\n",
       "<g style=\"fill:none; color:white; stroke:rgb(  0,   0,   0); stroke-width:1.00; stroke-linecap:butt; stroke-linejoin:miter\">\n",
       "</g>\n",
       "<g style=\"fill:none; color:#0099A1; stroke:currentColor; stroke-width:1.00; stroke-linecap:butt; stroke-linejoin:miter\">\n",
       "\t<g style=\"stroke:none; shape-rendering:crispEdges\">\n",
       "\t\t<polygon fill=\"rgb(  0,   0, 128)\" points=\"98.0,177.6 98.0,177.6 98.0,90.8 102.7,90.8 102.7,177.6 \"/>\n",
       "\t</g>\n",
       "\t<path d=\"M98.0,177.6 L98.0,90.8 L102.7,90.8 L102.7,177.6  h0.01\" stroke=\"rgb(  0,   0, 128)\"/></g>\n",
       "\t</g>\n",
       "\t<g id=\"gnuplot_plot_22a\"><title>gnuplot_plot_22a</title>\n",
       "<g style=\"fill:none; color:white; stroke:rgb(  0,   0, 128); stroke-width:0.50; stroke-linecap:butt; stroke-linejoin:miter\">\n",
       "</g>\n",
       "<g style=\"fill:none; color:red; stroke:currentColor; stroke-width:0.50; stroke-linecap:butt; stroke-linejoin:miter\">\n",
       "\t<path d=\"M98.0,177.6 L98.0,90.8 L102.7,90.8 L102.7,177.6 L98.0,177.6  h0.01\" stroke=\"rgb(  0,   0,   0)\"/></g>\n",
       "\t</g>\n",
       "\t<g id=\"gnuplot_plot_23a\"><title>gnuplot_plot_23a</title>\n",
       "<g style=\"fill:none; color:white; stroke:rgb(  0,   0,   0); stroke-width:1.00; stroke-linecap:butt; stroke-linejoin:miter\">\n",
       "</g>\n",
       "<g style=\"fill:none; color:#A391FF; stroke:currentColor; stroke-width:1.00; stroke-linecap:butt; stroke-linejoin:miter\">\n",
       "\t<g style=\"stroke:none; shape-rendering:crispEdges\">\n",
       "\t\t<polygon fill=\"rgb(  0,   0, 128)\" points=\"103.9,177.6 103.9,177.6 103.9,69.6 108.6,69.6 108.6,177.6 \"/>\n",
       "\t</g>\n",
       "\t<path d=\"M103.9,177.6 L103.9,69.6 L108.6,69.6 L108.6,177.6  h0.01\" stroke=\"rgb(  0,   0, 128)\" stroke-dasharray=\" 2,4\"/></g>\n",
       "\t</g>\n",
       "\t<g id=\"gnuplot_plot_24a\"><title>gnuplot_plot_24a</title>\n",
       "<g style=\"fill:none; color:white; stroke:rgb(  0,   0, 128); stroke-width:0.50; stroke-linecap:butt; stroke-linejoin:miter\">\n",
       "</g>\n",
       "<g style=\"fill:none; color:red; stroke:currentColor; stroke-width:0.50; stroke-linecap:butt; stroke-linejoin:miter\">\n",
       "\t<path d=\"M103.9,177.6 L103.9,69.6 L108.6,69.6 L108.6,177.6 L103.9,177.6  h0.01\" stroke=\"rgb(  0,   0,   0)\"/></g>\n",
       "\t</g>\n",
       "\t<g id=\"gnuplot_plot_25a\"><title>gnuplot_plot_25a</title>\n",
       "<g style=\"fill:none; color:white; stroke:rgb(  0,   0,   0); stroke-width:1.00; stroke-linecap:butt; stroke-linejoin:miter\">\n",
       "</g>\n",
       "<g style=\"fill:none; color:#D60078; stroke:currentColor; stroke-width:1.00; stroke-linecap:butt; stroke-linejoin:miter\">\n",
       "\t<g style=\"stroke:none; shape-rendering:crispEdges\">\n",
       "\t\t<polygon fill=\"rgb(  0,   0, 128)\" points=\"109.8,177.6 109.8,177.6 109.8,43.9 114.5,43.9 114.5,177.6 \"/>\n",
       "\t</g>\n",
       "\t<path d=\"M109.8,177.6 L109.8,43.9 L114.5,43.9 L114.5,177.6  h0.01\" stroke=\"rgb(  0,   0, 128)\" stroke-dasharray=\" 9,4,1,4,1,4\"/></g>\n",
       "\t</g>\n",
       "\t<g id=\"gnuplot_plot_26a\"><title>gnuplot_plot_26a</title>\n",
       "<g style=\"fill:none; color:white; stroke:rgb(  0,   0, 128); stroke-width:0.50; stroke-linecap:butt; stroke-linejoin:miter\">\n",
       "</g>\n",
       "<g style=\"fill:none; color:red; stroke:currentColor; stroke-width:0.50; stroke-linecap:butt; stroke-linejoin:miter\">\n",
       "\t<path d=\"M109.8,177.6 L109.8,43.9 L114.5,43.9 L114.5,177.6 L109.8,177.6  h0.01\" stroke=\"rgb(  0,   0,   0)\"/></g>\n",
       "\t</g>\n",
       "\t<g id=\"gnuplot_plot_27a\"><title>gnuplot_plot_27a</title>\n",
       "<g style=\"fill:none; color:white; stroke:rgb(  0,   0,   0); stroke-width:1.00; stroke-linecap:butt; stroke-linejoin:miter\">\n",
       "</g>\n",
       "<g style=\"fill:none; color:red; stroke:currentColor; stroke-width:1.00; stroke-linecap:butt; stroke-linejoin:miter\">\n",
       "\t<g style=\"stroke:none; shape-rendering:crispEdges\">\n",
       "\t\t<polygon fill=\"rgb(  0,   0, 128)\" points=\"115.7,177.6 115.7,177.6 115.7,30.1 120.4,30.1 120.4,177.6 \"/>\n",
       "\t</g>\n",
       "\t<path d=\"M115.7,177.6 L115.7,30.1 L120.4,30.1 L120.4,177.6  h0.01\" stroke=\"rgb(  0,   0, 128)\" stroke-dasharray=\" 5,8\"/></g>\n",
       "\t</g>\n",
       "\t<g id=\"gnuplot_plot_28a\"><title>gnuplot_plot_28a</title>\n",
       "<g style=\"fill:none; color:white; stroke:rgb(  0,   0, 128); stroke-width:0.50; stroke-linecap:butt; stroke-linejoin:miter\">\n",
       "</g>\n",
       "<g style=\"fill:none; color:red; stroke:currentColor; stroke-width:0.50; stroke-linecap:butt; stroke-linejoin:miter\">\n",
       "\t<path d=\"M115.7,177.6 L115.7,30.1 L120.4,30.1 L120.4,177.6 L115.7,177.6  h0.01\" stroke=\"rgb(  0,   0,   0)\"/></g>\n",
       "\t</g>\n",
       "\t<g id=\"gnuplot_plot_29a\"><title>gnuplot_plot_29a</title>\n",
       "<g style=\"fill:none; color:white; stroke:rgb(  0,   0,   0); stroke-width:1.00; stroke-linecap:butt; stroke-linejoin:miter\">\n",
       "</g>\n",
       "<g style=\"fill:none; color:blue; stroke:currentColor; stroke-width:1.00; stroke-linecap:butt; stroke-linejoin:miter\">\n",
       "\t<g style=\"stroke:none; shape-rendering:crispEdges\">\n",
       "\t\t<polygon fill=\"rgb(  0,   0, 128)\" points=\"121.6,177.6 121.6,177.6 121.6,23.6 126.3,23.6 126.3,177.6 \"/>\n",
       "\t</g>\n",
       "\t<path d=\"M121.6,177.6 L121.6,23.6 L126.3,23.6 L126.3,177.6  h0.01\" stroke=\"rgb(  0,   0, 128)\" stroke-dasharray=\" 8,4,2,4\"/></g>\n",
       "\t</g>\n",
       "\t<g id=\"gnuplot_plot_30a\"><title>gnuplot_plot_30a</title>\n",
       "<g style=\"fill:none; color:white; stroke:rgb(  0,   0, 128); stroke-width:0.50; stroke-linecap:butt; stroke-linejoin:miter\">\n",
       "</g>\n",
       "<g style=\"fill:none; color:red; stroke:currentColor; stroke-width:0.50; stroke-linecap:butt; stroke-linejoin:miter\">\n",
       "\t<path d=\"M121.6,177.6 L121.6,23.6 L126.3,23.6 L126.3,177.6 L121.6,177.6  h0.01\" stroke=\"rgb(  0,   0,   0)\"/></g>\n",
       "\t</g>\n",
       "\t<g id=\"gnuplot_plot_31a\"><title>gnuplot_plot_31a</title>\n",
       "<g style=\"fill:none; color:white; stroke:rgb(  0,   0,   0); stroke-width:1.00; stroke-linecap:butt; stroke-linejoin:miter\">\n",
       "</g>\n",
       "<g style=\"fill:none; color:#157545; stroke:currentColor; stroke-width:1.00; stroke-linecap:butt; stroke-linejoin:miter\">\n",
       "\t<g style=\"stroke:none; shape-rendering:crispEdges\">\n",
       "\t\t<polygon fill=\"rgb(  0,   0, 128)\" points=\"127.5,177.6 127.5,177.6 127.5,33.2 132.2,33.2 132.2,177.6 \"/>\n",
       "\t</g>\n",
       "\t<path d=\"M127.5,177.6 L127.5,33.2 L132.2,33.2 L132.2,177.6  h0.01\" stroke=\"rgb(  0,   0, 128)\"/></g>\n",
       "\t</g>\n",
       "\t<g id=\"gnuplot_plot_32a\"><title>gnuplot_plot_32a</title>\n",
       "<g style=\"fill:none; color:white; stroke:rgb(  0,   0, 128); stroke-width:0.50; stroke-linecap:butt; stroke-linejoin:miter\">\n",
       "</g>\n",
       "<g style=\"fill:none; color:red; stroke:currentColor; stroke-width:0.50; stroke-linecap:butt; stroke-linejoin:miter\">\n",
       "\t<path d=\"M127.5,177.6 L127.5,33.2 L132.2,33.2 L132.2,177.6 L127.5,177.6  h0.01\" stroke=\"rgb(  0,   0,   0)\"/></g>\n",
       "\t</g>\n",
       "\t<g id=\"gnuplot_plot_33a\"><title>gnuplot_plot_33a</title>\n",
       "<g style=\"fill:none; color:white; stroke:rgb(  0,   0,   0); stroke-width:1.00; stroke-linecap:butt; stroke-linejoin:miter\">\n",
       "</g>\n",
       "<g style=\"fill:none; color:#FF9900; stroke:currentColor; stroke-width:1.00; stroke-linecap:butt; stroke-linejoin:miter\">\n",
       "\t<g style=\"stroke:none; shape-rendering:crispEdges\">\n",
       "\t\t<polygon fill=\"rgb(  0,   0, 128)\" points=\"133.4,177.6 133.4,177.6 133.4,51.1 138.1,51.1 138.1,177.6 \"/>\n",
       "\t</g>\n",
       "\t<path d=\"M133.4,177.6 L133.4,51.1 L138.1,51.1 L138.1,177.6  h0.01\" stroke=\"rgb(  0,   0, 128)\" stroke-dasharray=\" 2,4\"/></g>\n",
       "\t</g>\n",
       "\t<g id=\"gnuplot_plot_34a\"><title>gnuplot_plot_34a</title>\n",
       "<g style=\"fill:none; color:white; stroke:rgb(  0,   0, 128); stroke-width:0.50; stroke-linecap:butt; stroke-linejoin:miter\">\n",
       "</g>\n",
       "<g style=\"fill:none; color:red; stroke:currentColor; stroke-width:0.50; stroke-linecap:butt; stroke-linejoin:miter\">\n",
       "\t<path d=\"M133.4,177.6 L133.4,51.1 L138.1,51.1 L138.1,177.6 L133.4,177.6  h0.01\" stroke=\"rgb(  0,   0,   0)\"/></g>\n",
       "\t</g>\n",
       "\t<g id=\"gnuplot_plot_35a\"><title>gnuplot_plot_35a</title>\n",
       "<g style=\"fill:none; color:white; stroke:rgb(  0,   0,   0); stroke-width:1.00; stroke-linecap:butt; stroke-linejoin:miter\">\n",
       "</g>\n",
       "<g style=\"fill:none; color:#D6D645; stroke:currentColor; stroke-width:1.00; stroke-linecap:butt; stroke-linejoin:miter\">\n",
       "\t<g style=\"stroke:none; shape-rendering:crispEdges\">\n",
       "\t\t<polygon fill=\"rgb(  0,   0, 128)\" points=\"139.3,177.6 139.3,177.6 139.3,76.4 144.0,76.4 144.0,177.6 \"/>\n",
       "\t</g>\n",
       "\t<path d=\"M139.3,177.6 L139.3,76.4 L144.0,76.4 L144.0,177.6  h0.01\" stroke=\"rgb(  0,   0, 128)\" stroke-dasharray=\" 9,4,1,4,1,4\"/></g>\n",
       "\t</g>\n",
       "\t<g id=\"gnuplot_plot_36a\"><title>gnuplot_plot_36a</title>\n",
       "<g style=\"fill:none; color:white; stroke:rgb(  0,   0, 128); stroke-width:0.50; stroke-linecap:butt; stroke-linejoin:miter\">\n",
       "</g>\n",
       "<g style=\"fill:none; color:red; stroke:currentColor; stroke-width:0.50; stroke-linecap:butt; stroke-linejoin:miter\">\n",
       "\t<path d=\"M139.3,177.6 L139.3,76.4 L144.0,76.4 L144.0,177.6 L139.3,177.6  h0.01\" stroke=\"rgb(  0,   0,   0)\"/></g>\n",
       "\t</g>\n",
       "\t<g id=\"gnuplot_plot_37a\"><title>gnuplot_plot_37a</title>\n",
       "<g style=\"fill:none; color:white; stroke:rgb(  0,   0,   0); stroke-width:1.00; stroke-linecap:butt; stroke-linejoin:miter\">\n",
       "</g>\n",
       "<g style=\"fill:none; color:#FFCC00; stroke:currentColor; stroke-width:1.00; stroke-linecap:butt; stroke-linejoin:miter\">\n",
       "\t<g style=\"stroke:none; shape-rendering:crispEdges\">\n",
       "\t\t<polygon fill=\"rgb(  0,   0, 128)\" points=\"145.2,177.6 145.2,177.6 145.2,97.5 149.9,97.5 149.9,177.6 \"/>\n",
       "\t</g>\n",
       "\t<path d=\"M145.2,177.6 L145.2,97.5 L149.9,97.5 L149.9,177.6  h0.01\" stroke=\"rgb(  0,   0, 128)\" stroke-dasharray=\" 5,8\"/></g>\n",
       "\t</g>\n",
       "\t<g id=\"gnuplot_plot_38a\"><title>gnuplot_plot_38a</title>\n",
       "<g style=\"fill:none; color:white; stroke:rgb(  0,   0, 128); stroke-width:0.50; stroke-linecap:butt; stroke-linejoin:miter\">\n",
       "</g>\n",
       "<g style=\"fill:none; color:red; stroke:currentColor; stroke-width:0.50; stroke-linecap:butt; stroke-linejoin:miter\">\n",
       "\t<path d=\"M145.2,177.6 L145.2,97.5 L149.9,97.5 L149.9,177.6 L145.2,177.6  h0.01\" stroke=\"rgb(  0,   0,   0)\"/></g>\n",
       "\t</g>\n",
       "\t<g id=\"gnuplot_plot_39a\"><title>gnuplot_plot_39a</title>\n",
       "<g style=\"fill:none; color:white; stroke:rgb(  0,   0,   0); stroke-width:1.00; stroke-linecap:butt; stroke-linejoin:miter\">\n",
       "</g>\n",
       "<g style=\"fill:none; color:#ABD600; stroke:currentColor; stroke-width:1.00; stroke-linecap:butt; stroke-linejoin:miter\">\n",
       "\t<g style=\"stroke:none; shape-rendering:crispEdges\">\n",
       "\t\t<polygon fill=\"rgb(  0,   0, 128)\" points=\"151.1,177.6 151.1,177.6 151.1,123.3 155.8,123.3 155.8,177.6 \"/>\n",
       "\t</g>\n",
       "\t<path d=\"M151.1,177.6 L151.1,123.3 L155.8,123.3 L155.8,177.6  h0.01\" stroke=\"rgb(  0,   0, 128)\" stroke-dasharray=\" 8,4,2,4\"/></g>\n",
       "\t</g>\n",
       "\t<g id=\"gnuplot_plot_40a\"><title>gnuplot_plot_40a</title>\n",
       "<g style=\"fill:none; color:white; stroke:rgb(  0,   0, 128); stroke-width:0.50; stroke-linecap:butt; stroke-linejoin:miter\">\n",
       "</g>\n",
       "<g style=\"fill:none; color:red; stroke:currentColor; stroke-width:0.50; stroke-linecap:butt; stroke-linejoin:miter\">\n",
       "\t<path d=\"M151.1,177.6 L151.1,123.3 L155.8,123.3 L155.8,177.6 L151.1,177.6  h0.01\" stroke=\"rgb(  0,   0,   0)\"/></g>\n",
       "\t</g>\n",
       "\t<g id=\"gnuplot_plot_41a\"><title>gnuplot_plot_41a</title>\n",
       "<g style=\"fill:none; color:white; stroke:rgb(  0,   0,   0); stroke-width:1.00; stroke-linecap:butt; stroke-linejoin:miter\">\n",
       "</g>\n",
       "<g style=\"fill:none; color:green; stroke:currentColor; stroke-width:1.00; stroke-linecap:butt; stroke-linejoin:miter\">\n",
       "\t<g style=\"stroke:none; shape-rendering:crispEdges\">\n",
       "\t\t<polygon fill=\"rgb(  0,   0, 128)\" points=\"157.0,177.6 157.0,177.6 157.0,141.7 161.7,141.7 161.7,177.6 \"/>\n",
       "\t</g>\n",
       "\t<path d=\"M157.0,177.6 L157.0,141.7 L161.7,141.7 L161.7,177.6  h0.01\" stroke=\"rgb(  0,   0, 128)\"/></g>\n",
       "\t</g>\n",
       "\t<g id=\"gnuplot_plot_42a\"><title>gnuplot_plot_42a</title>\n",
       "<g style=\"fill:none; color:white; stroke:rgb(  0,   0, 128); stroke-width:0.50; stroke-linecap:butt; stroke-linejoin:miter\">\n",
       "</g>\n",
       "<g style=\"fill:none; color:red; stroke:currentColor; stroke-width:0.50; stroke-linecap:butt; stroke-linejoin:miter\">\n",
       "\t<path d=\"M157.0,177.6 L157.0,141.7 L161.7,141.7 L161.7,177.6 L157.0,177.6  h0.01\" stroke=\"rgb(  0,   0,   0)\"/></g>\n",
       "\t</g>\n",
       "\t<g id=\"gnuplot_plot_43a\"><title>gnuplot_plot_43a</title>\n",
       "<g style=\"fill:none; color:white; stroke:rgb(  0,   0,   0); stroke-width:1.00; stroke-linecap:butt; stroke-linejoin:miter\">\n",
       "</g>\n",
       "<g style=\"fill:none; color:cyan; stroke:currentColor; stroke-width:1.00; stroke-linecap:butt; stroke-linejoin:miter\">\n",
       "\t<g style=\"stroke:none; shape-rendering:crispEdges\">\n",
       "\t\t<polygon fill=\"rgb(  0,   0, 128)\" points=\"162.9,177.6 162.9,177.6 162.9,155.0 167.6,155.0 167.6,177.6 \"/>\n",
       "\t</g>\n",
       "\t<path d=\"M162.9,177.6 L162.9,155.0 L167.6,155.0 L167.6,177.6  h0.01\" stroke=\"rgb(  0,   0, 128)\" stroke-dasharray=\" 2,4\"/></g>\n",
       "\t</g>\n",
       "\t<g id=\"gnuplot_plot_44a\"><title>gnuplot_plot_44a</title>\n",
       "<g style=\"fill:none; color:white; stroke:rgb(  0,   0, 128); stroke-width:0.50; stroke-linecap:butt; stroke-linejoin:miter\">\n",
       "</g>\n",
       "<g style=\"fill:none; color:red; stroke:currentColor; stroke-width:0.50; stroke-linecap:butt; stroke-linejoin:miter\">\n",
       "\t<path d=\"M162.9,177.6 L162.9,155.0 L167.6,155.0 L167.6,177.6 L162.9,177.6  h0.01\" stroke=\"rgb(  0,   0,   0)\"/></g>\n",
       "\t</g>\n",
       "\t<g id=\"gnuplot_plot_45a\"><title>gnuplot_plot_45a</title>\n",
       "<g style=\"fill:none; color:white; stroke:rgb(  0,   0,   0); stroke-width:1.00; stroke-linecap:butt; stroke-linejoin:miter\">\n",
       "</g>\n",
       "<g style=\"fill:none; color:#000094; stroke:currentColor; stroke-width:1.00; stroke-linecap:butt; stroke-linejoin:miter\">\n",
       "\t<g style=\"stroke:none; shape-rendering:crispEdges\">\n",
       "\t\t<polygon fill=\"rgb(  0,   0, 128)\" points=\"168.8,177.6 168.8,177.6 168.8,166.2 173.5,166.2 173.5,177.6 \"/>\n",
       "\t</g>\n",
       "\t<path d=\"M168.8,177.6 L168.8,166.2 L173.5,166.2 L173.5,177.6  h0.01\" stroke=\"rgb(  0,   0, 128)\" stroke-dasharray=\" 9,4,1,4,1,4\"/></g>\n",
       "\t</g>\n",
       "\t<g id=\"gnuplot_plot_46a\"><title>gnuplot_plot_46a</title>\n",
       "<g style=\"fill:none; color:white; stroke:rgb(  0,   0, 128); stroke-width:0.50; stroke-linecap:butt; stroke-linejoin:miter\">\n",
       "</g>\n",
       "<g style=\"fill:none; color:red; stroke:currentColor; stroke-width:0.50; stroke-linecap:butt; stroke-linejoin:miter\">\n",
       "\t<path d=\"M168.8,177.6 L168.8,166.2 L173.5,166.2 L173.5,177.6 L168.8,177.6  h0.01\" stroke=\"rgb(  0,   0,   0)\"/></g>\n",
       "\t</g>\n",
       "\t<g id=\"gnuplot_plot_47a\"><title>gnuplot_plot_47a</title>\n",
       "<g style=\"fill:none; color:white; stroke:rgb(  0,   0,   0); stroke-width:1.00; stroke-linecap:butt; stroke-linejoin:miter\">\n",
       "</g>\n",
       "<g style=\"fill:none; color:#0099A1; stroke:currentColor; stroke-width:1.00; stroke-linecap:butt; stroke-linejoin:miter\">\n",
       "\t<g style=\"stroke:none; shape-rendering:crispEdges\">\n",
       "\t\t<polygon fill=\"rgb(  0,   0, 128)\" points=\"174.7,177.6 174.7,177.6 174.7,171.2 179.4,171.2 179.4,177.6 \"/>\n",
       "\t</g>\n",
       "\t<path d=\"M174.7,177.6 L174.7,171.2 L179.4,171.2 L179.4,177.6  h0.01\" stroke=\"rgb(  0,   0, 128)\" stroke-dasharray=\" 5,8\"/></g>\n",
       "\t</g>\n",
       "\t<g id=\"gnuplot_plot_48a\"><title>gnuplot_plot_48a</title>\n",
       "<g style=\"fill:none; color:white; stroke:rgb(  0,   0, 128); stroke-width:0.50; stroke-linecap:butt; stroke-linejoin:miter\">\n",
       "</g>\n",
       "<g style=\"fill:none; color:red; stroke:currentColor; stroke-width:0.50; stroke-linecap:butt; stroke-linejoin:miter\">\n",
       "\t<path d=\"M174.7,177.6 L174.7,171.2 L179.4,171.2 L179.4,177.6 L174.7,177.6  h0.01\" stroke=\"rgb(  0,   0,   0)\"/></g>\n",
       "\t</g>\n",
       "\t<g id=\"gnuplot_plot_49a\"><title>gnuplot_plot_49a</title>\n",
       "<g style=\"fill:none; color:white; stroke:rgb(  0,   0,   0); stroke-width:1.00; stroke-linecap:butt; stroke-linejoin:miter\">\n",
       "</g>\n",
       "<g style=\"fill:none; color:#A391FF; stroke:currentColor; stroke-width:1.00; stroke-linecap:butt; stroke-linejoin:miter\">\n",
       "\t<g style=\"stroke:none; shape-rendering:crispEdges\">\n",
       "\t\t<polygon fill=\"rgb(  0,   0, 128)\" points=\"180.6,177.6 180.6,177.6 180.6,174.7 185.3,174.7 185.3,177.6 \"/>\n",
       "\t</g>\n",
       "\t<path d=\"M180.6,177.6 L180.6,174.7 L185.3,174.7 L185.3,177.6  h0.01\" stroke=\"rgb(  0,   0, 128)\" stroke-dasharray=\" 8,4,2,4\"/></g>\n",
       "\t</g>\n",
       "\t<g id=\"gnuplot_plot_50a\"><title>gnuplot_plot_50a</title>\n",
       "<g style=\"fill:none; color:white; stroke:rgb(  0,   0, 128); stroke-width:0.50; stroke-linecap:butt; stroke-linejoin:miter\">\n",
       "</g>\n",
       "<g style=\"fill:none; color:red; stroke:currentColor; stroke-width:0.50; stroke-linecap:butt; stroke-linejoin:miter\">\n",
       "\t<path d=\"M180.6,177.6 L180.6,174.7 L185.3,174.7 L185.3,177.6 L180.6,177.6  h0.01\" stroke=\"rgb(  0,   0,   0)\"/></g>\n",
       "\t</g>\n",
       "\t<g id=\"gnuplot_plot_51a\"><title>gnuplot_plot_51a</title>\n",
       "<g style=\"fill:none; color:white; stroke:rgb(  0,   0,   0); stroke-width:1.00; stroke-linecap:butt; stroke-linejoin:miter\">\n",
       "</g>\n",
       "<g style=\"fill:none; color:#D60078; stroke:currentColor; stroke-width:1.00; stroke-linecap:butt; stroke-linejoin:miter\">\n",
       "\t<g style=\"stroke:none; shape-rendering:crispEdges\">\n",
       "\t\t<polygon fill=\"rgb(  0,   0, 128)\" points=\"186.5,177.6 186.5,177.6 186.5,176.4 191.2,176.4 191.2,177.6 \"/>\n",
       "\t</g>\n",
       "\t<path d=\"M186.5,177.6 L186.5,176.4 L191.2,176.4 L191.2,177.6  h0.01\" stroke=\"rgb(  0,   0, 128)\"/></g>\n",
       "\t</g>\n",
       "\t<g id=\"gnuplot_plot_52a\"><title>gnuplot_plot_52a</title>\n",
       "<g style=\"fill:none; color:white; stroke:rgb(  0,   0, 128); stroke-width:0.50; stroke-linecap:butt; stroke-linejoin:miter\">\n",
       "</g>\n",
       "<g style=\"fill:none; color:red; stroke:currentColor; stroke-width:0.50; stroke-linecap:butt; stroke-linejoin:miter\">\n",
       "\t<path d=\"M186.5,177.6 L186.5,176.4 L191.2,176.4 L191.2,177.6 L186.5,177.6  h0.01\" stroke=\"rgb(  0,   0,   0)\"/></g>\n",
       "\t</g>\n",
       "\t<g id=\"gnuplot_plot_53a\"><title>gnuplot_plot_53a</title>\n",
       "<g style=\"fill:none; color:white; stroke:rgb(  0,   0,   0); stroke-width:1.00; stroke-linecap:butt; stroke-linejoin:miter\">\n",
       "</g>\n",
       "<g style=\"fill:none; color:red; stroke:currentColor; stroke-width:1.00; stroke-linecap:butt; stroke-linejoin:miter\">\n",
       "\t<g style=\"stroke:none; shape-rendering:crispEdges\">\n",
       "\t\t<polygon fill=\"rgb(  0,   0, 128)\" points=\"192.4,177.6 192.4,177.6 192.4,176.8 197.1,176.8 197.1,177.6 \"/>\n",
       "\t</g>\n",
       "\t<path d=\"M192.4,177.6 L192.4,176.8 L197.1,176.8 L197.1,177.6  h0.01\" stroke=\"rgb(  0,   0, 128)\" stroke-dasharray=\" 2,4\"/></g>\n",
       "\t</g>\n",
       "\t<g id=\"gnuplot_plot_54a\"><title>gnuplot_plot_54a</title>\n",
       "<g style=\"fill:none; color:white; stroke:rgb(  0,   0, 128); stroke-width:0.50; stroke-linecap:butt; stroke-linejoin:miter\">\n",
       "</g>\n",
       "<g style=\"fill:none; color:red; stroke:currentColor; stroke-width:0.50; stroke-linecap:butt; stroke-linejoin:miter\">\n",
       "\t<path d=\"M192.4,177.6 L192.4,176.8 L197.1,176.8 L197.1,177.6 L192.4,177.6  h0.01\" stroke=\"rgb(  0,   0,   0)\"/></g>\n",
       "\t</g>\n",
       "\t<g id=\"gnuplot_plot_55a\"><title>gnuplot_plot_55a</title>\n",
       "<g style=\"fill:none; color:white; stroke:rgb(  0,   0,   0); stroke-width:1.00; stroke-linecap:butt; stroke-linejoin:miter\">\n",
       "</g>\n",
       "<g style=\"fill:none; color:blue; stroke:currentColor; stroke-width:1.00; stroke-linecap:butt; stroke-linejoin:miter\">\n",
       "\t<g style=\"stroke:none; shape-rendering:crispEdges\">\n",
       "\t\t<polygon fill=\"rgb(  0,   0, 128)\" points=\"198.3,177.6 198.3,177.6 198.3,177.5 203.0,177.5 203.0,177.6 \"/>\n",
       "\t</g>\n",
       "\t<path d=\"M198.3,177.6 L198.3,177.5 L203.0,177.5 L203.0,177.6  h0.01\" stroke=\"rgb(  0,   0, 128)\" stroke-dasharray=\" 9,4,1,4,1,4\"/></g>\n",
       "\t</g>\n",
       "\t<g id=\"gnuplot_plot_56a\"><title>gnuplot_plot_56a</title>\n",
       "<g style=\"fill:none; color:white; stroke:rgb(  0,   0, 128); stroke-width:0.50; stroke-linecap:butt; stroke-linejoin:miter\">\n",
       "</g>\n",
       "<g style=\"fill:none; color:red; stroke:currentColor; stroke-width:0.50; stroke-linecap:butt; stroke-linejoin:miter\">\n",
       "\t<path d=\"M198.3,177.6 L198.3,177.5 L203.0,177.5 L203.0,177.6 L198.3,177.6  h0.01\" stroke=\"rgb(  0,   0,   0)\"/></g>\n",
       "\t</g>\n",
       "\t<g id=\"gnuplot_plot_57a\"><title>gnuplot_plot_57a</title>\n",
       "<g style=\"fill:none; color:white; stroke:rgb(  0,   0,   0); stroke-width:1.00; stroke-linecap:butt; stroke-linejoin:miter\">\n",
       "</g>\n",
       "<g style=\"fill:none; color:#157545; stroke:currentColor; stroke-width:1.00; stroke-linecap:butt; stroke-linejoin:miter\">\n",
       "\t<g style=\"stroke:none; shape-rendering:crispEdges\">\n",
       "\t\t<polygon fill=\"rgb(  0,   0, 128)\" points=\"204.2,177.6 204.2,177.6 204.2,177.6 208.9,177.6 208.9,177.6 \"/>\n",
       "\t</g>\n",
       "\t<path d=\"M204.2,177.6 L208.9,177.6  h0.01\" stroke=\"rgb(  0,   0, 128)\" stroke-dasharray=\" 5,8\"/></g>\n",
       "\t</g>\n",
       "\t<g id=\"gnuplot_plot_58a\"><title>gnuplot_plot_58a</title>\n",
       "<g style=\"fill:none; color:white; stroke:rgb(  0,   0, 128); stroke-width:0.50; stroke-linecap:butt; stroke-linejoin:miter\">\n",
       "</g>\n",
       "<g style=\"fill:none; color:red; stroke:currentColor; stroke-width:0.50; stroke-linecap:butt; stroke-linejoin:miter\">\n",
       "\t<path d=\"M204.2,177.6 L208.9,177.6 L204.2,177.6  h0.01\" stroke=\"rgb(  0,   0,   0)\"/></g>\n",
       "\t</g>\n",
       "\t<g id=\"gnuplot_plot_59a\"><title>gnuplot_plot_59a</title>\n",
       "<g style=\"fill:none; color:white; stroke:rgb(  0,   0,   0); stroke-width:1.00; stroke-linecap:butt; stroke-linejoin:miter\">\n",
       "</g>\n",
       "<g style=\"fill:none; color:#FF9900; stroke:currentColor; stroke-width:1.00; stroke-linecap:butt; stroke-linejoin:miter\">\n",
       "\t<g style=\"stroke:none; shape-rendering:crispEdges\">\n",
       "\t\t<polygon fill=\"rgb(  0,   0, 128)\" points=\"210.1,177.6 210.1,177.6 210.1,177.5 214.8,177.5 214.8,177.6 \"/>\n",
       "\t</g>\n",
       "\t<path d=\"M210.1,177.6 L210.1,177.5 L214.8,177.5 L214.8,177.6  h0.01\" stroke=\"rgb(  0,   0, 128)\" stroke-dasharray=\" 8,4,2,4\"/></g>\n",
       "\t</g>\n",
       "\t<g id=\"gnuplot_plot_60a\"><title>gnuplot_plot_60a</title>\n",
       "<g style=\"fill:none; color:white; stroke:rgb(  0,   0, 128); stroke-width:0.50; stroke-linecap:butt; stroke-linejoin:miter\">\n",
       "</g>\n",
       "<g style=\"fill:none; color:red; stroke:currentColor; stroke-width:0.50; stroke-linecap:butt; stroke-linejoin:miter\">\n",
       "\t<path d=\"M210.1,177.6 L210.1,177.5 L214.8,177.5 L214.8,177.6 L210.1,177.6  h0.01\" stroke=\"rgb(  0,   0,   0)\"/></g>\n",
       "\t</g>\n",
       "\t<g id=\"gnuplot_plot_61a\"><title>gnuplot_plot_61a</title>\n",
       "<g style=\"fill:none; color:red; stroke:currentColor; stroke-width:0.50; stroke-linecap:butt; stroke-linejoin:miter\">\n",
       "\t<path d=\"M36.4,177.6 L251.9,177.6  h0.01\" stroke=\"rgb(  0,   0,   0)\"/></g>\n",
       "\t</g>\n",
       "<g style=\"fill:none; color:black; stroke:currentColor; stroke-width:0.50; stroke-linecap:butt; stroke-linejoin:miter\">\n",
       "</g>\n",
       "</g>\n",
       "</svg>"
      ],
      "text/plain": [
       "<IPython.core.display.SVG object>"
      ]
     },
     "metadata": {},
     "output_type": "display_data"
    },
    {
     "data": {
      "text/plain": [
       "N =  10000\r\n"
      ]
     },
     "execution_count": 3,
     "metadata": {},
     "output_type": "execute_result"
    }
   ],
   "source": [
    "N=10000\n",
    "x=randn(N, 1);\n",
    "bins=30;\n",
    "hist(x,bins);"
   ]
  },
  {
   "cell_type": "code",
   "execution_count": 3,
   "metadata": {
    "collapsed": false
   },
   "outputs": [
    {
     "name": "stdout",
     "output_type": "stream",
     "text": [
      "Populating the interactive namespace from numpy and matplotlib\n"
     ]
    },
    {
     "data": {
      "image/png": "[encoded data removed]",
      "text/plain": [
       "<matplotlib.figure.Figure at 0x7ff20a3f9c88>"
      ]
     },
     "metadata": {},
     "output_type": "display_data"
    }
   ],
   "source": [
    "%pylab inline\n",
    "N=10000\n",
    "x=randn(N, 1)\n",
    "bins=30\n",
    "h=hist(x,bins)"
   ]
  },
  {
   "cell_type": "markdown",
   "metadata": {},
   "source": [
    "# Gaußsche Fehlerfunktion\n",
    "\n",
    "Als Fehlerfunktion oder [gaußsche Fehlerfunktion](http://de.wikipedia.org/wiki/Fehlerfunktion) bezeichnet man in der Theorie der Speziellen Funktionen das Integral\n",
    "\n",
    "$$\\operatorname{erf}(x) = \\frac 2{\\sqrt\\pi} \\int_0^x e^{-\\tau^2}\\,\\mathrm d\\tau$$\n",
    "\n",
    "\n"
   ]
  },
  {
   "cell_type": "code",
   "execution_count": 9,
   "metadata": {
    "collapsed": false
   },
   "outputs": [
    {
     "name": "stdout",
     "output_type": "stream",
     "text": [
      "Populating the interactive namespace from numpy and matplotlib\n",
      "Auswertung numerisches Experiment (Zufallsgenerator ) N= 10000\n",
      "--------------------------------------------------------------------------------------------------\n",
      "sigma= 1 ,  theoretische Anzahl Werte innerhalb +-sigma:  68.2689492137 %\n",
      "sigma= 1 ,  experimentelle Anzahl Werte innerhalb +-sigma:  68.59 %\n",
      "--------------------------------------------------------------------------------------------------\n"
     ]
    },
    {
     "name": "stderr",
     "output_type": "stream",
     "text": [
      "WARNING: pylab import has clobbered these variables: ['poly']\n",
      "`%matplotlib` prevents importing * from pylab and numpy\n"
     ]
    },
    {
     "data": {
      "image/png": "[encoded data removed]",
      "text/plain": [
       "<matplotlib.figure.Figure at 0x7f8ec3a5b3c8>"
      ]
     },
     "metadata": {},
     "output_type": "display_data"
    }
   ],
   "source": [
    "%pylab inline\n",
    "\n",
    "from scipy.special import erf # Gaußsche Fehlerfunktion (Integralfunktion)\n",
    "\n",
    "def gaussian(x,sigma):\n",
    "    return 1.0/(sqrt(2*pi)*sigma)*exp(-(x/sigma)**2/2)\n",
    "\n",
    "\n",
    "N=10000\n",
    "\n",
    "rd=randn(N)\n",
    "sig=rd.std()\n",
    "    \n",
    "bi=int(5*log(N))\n",
    "rrange=4\n",
    "\n",
    "fig=figure(figsize=(12,8))\n",
    "ax=fig.add_subplot(1,1,1)\n",
    "\n",
    "n, bins, patches = hist(rd, bins=bi, range=[-rrange,rrange], normed=True, histtype='bar',color='0.8', edgecolor='k')\n",
    "\n",
    "xg=linspace(-rrange,rrange,100)\n",
    "\n",
    "G=gaussian(xg,sig)\n",
    "plot(xg,G,'k',linewidth=1)\n",
    "\n",
    "S=1\n",
    "\n",
    "# make the shaded region\n",
    "a=-rrange\n",
    "b=-S\n",
    "ix = arange(a, b, 0.01)\n",
    "iy = gaussian(ix,sig)\n",
    "verts = [(a,0)] + list(zip(ix,iy)) + [(b,0)]\n",
    "poly = Polygon(verts, facecolor='r', edgecolor='r',alpha=0.5)\n",
    "ax.add_patch(poly)\n",
    "text(-2, 0.05,\n",
    "     r\"$p=1-A$\", horizontalalignment='center',\n",
    "     fontsize=30)\n",
    "a=S\n",
    "b=rrange\n",
    "ix = arange(a, b, 0.01)\n",
    "iy = gaussian(ix,sig)\n",
    "verts = [(a,0)] + list(zip(ix,iy)) + [(b,0)]\n",
    "verts = [(a,0)] + list(zip(ix,iy)) + [(b,0)]\n",
    "\n",
    "poly = Polygon(verts, facecolor='r', edgecolor='r',alpha=0.5)\n",
    "ax.add_patch(poly)\n",
    "\n",
    "\n",
    "a=-S\n",
    "b=S\n",
    "ix = arange(a, b, 0.01)\n",
    "iy = gaussian(ix,sig)\n",
    "verts = [(a,0)] + list(zip(ix,iy)) + [(b,0)]\n",
    "poly = Polygon(verts, facecolor='g', edgecolor='g',alpha=0.5)\n",
    "ax.add_patch(poly)\n",
    "rmax=G.max()\n",
    "text(0.5 * (a + b), 0.4*rmax,\n",
    "     r\"$A=\\int_{-x_s}^{x_s} f(x)\\mathrm{d}x$\", horizontalalignment='center',\n",
    "     fontsize=30)\n",
    "\n",
    "text(0.5 * (a + b), 0.2*rmax,\n",
    "     r\"$=\\mathrm{erf}(\\frac{x_s}{\\sigma \\sqrt{2}})$\", horizontalalignment='center',\n",
    "     fontsize=30)\n",
    "\n",
    "\n",
    "text(2.0,0.8*rmax,\n",
    "     r\"$f(x)=\\frac{1}{\\sigma\\sqrt{2\\pi}} e^{ -\\left( \\frac{x}{\\sigma\\sqrt{2}} \\right)^2 }$\", horizontalalignment='center',\n",
    "     fontsize=30)\n",
    "\n",
    "xlabel('x')\n",
    "ylabel('p')\n",
    "\n",
    "print('Auswertung numerisches Experiment (Zufallsgenerator ) N=',N)\n",
    "print(\"--------------------------------------------------------------------------------------------------\")\n",
    "\n",
    "s=1\n",
    "print(\"sigma=\",s,\",  theoretische Anzahl Werte innerhalb +-sigma: \",erf(s/sqrt(2))*100, \"%\")\n",
    "print(\"sigma=\",s,\",  experimentelle Anzahl Werte innerhalb +-sigma: \", 100-float(sum(rd>s)+sum(rd<-s))/N*100, \"%\")\n",
    "print(\"--------------------------------------------------------------------------------------------------\")\n",
    "savefig('Normalverteilung.png',dpi=150)"
   ]
  },
  {
   "cell_type": "code",
   "execution_count": 8,
   "metadata": {
    "collapsed": true
   },
   "outputs": [],
   "source": [
    "!convert -trim Normalverteilung.png Normalverteilung_plot.png"
   ]
  },
  {
   "cell_type": "code",
   "execution_count": null,
   "metadata": {
    "collapsed": true
   },
   "outputs": [],
   "source": []
  },
  {
   "cell_type": "markdown",
   "metadata": {},
   "source": [
    "\n",
    "# Wie überprüft man die Signifikanz?\n",
    "\n",
    "Zur Überprüfung der Signifikanz von Trends und Korrelationen wird üblicherweise versucht, die [Nullhypothese](http://de.wikipedia.org/wiki/Hypothese_%28Statistik%29)  zu widerlegen. Die Nullhypothese besagt, dass sich der Trend bzw. die Korrelation mit einer gewissen Wahrscheinlichkeit $1-p$ aus einer zufälligen Zeitreihe ergibt. Nur wenn es unwahrscheinlich ist, dass die Nullhypothese zutrifft, ist die Beziehung als signifikant zu betrachten.\n",
    "\n",
    "Als Monte-Carlo Methode bezeichnet man die Erzeugung von zufälligen Eingangs-Daten zur numerischen Datenanalyse. Mittels  Monte-Carlo Methode können statistische Hypothesen-Tests durchgeführt werden. Indem ein numerisches Experiment wiederholt durchgeführt wird, kann die Anzahl von Ereignissen (z.B. die Korrelation liegt über einem bestimmten Wert) gezählt werden. Diese Vorgehensweise erlaubt einen intuitiven Zugang zur Statistik ohne den Gebrauch theoretischer Verteilungsfunktionen.\n",
    "\n",
    "## Monte-Carlo  Methode\n"
   ]
  },
  {
   "cell_type": "code",
   "execution_count": 22,
   "metadata": {
    "collapsed": false
   },
   "outputs": [
    {
     "name": "stdout",
     "output_type": "stream",
     "text": [
      "Populating the interactive namespace from numpy and matplotlib\n"
     ]
    }
   ],
   "source": [
    "%pylab inline\n",
    "d=loadtxt('september_extent_1972_2014.txt')[0:21,1] # 21 Jahre von 1972-1992"
   ]
  },
  {
   "cell_type": "code",
   "execution_count": 15,
   "metadata": {
    "collapsed": false
   },
   "outputs": [
    {
     "data": {
      "text/plain": [
       "array([ 7.29,  7.67,  7.47,  7.3 ,  7.34,  7.24,  7.86,  7.2 ,  7.85,\n",
       "        7.25,  7.45,  7.52,  7.17,  6.93,  7.54,  7.48,  7.49,  7.04,\n",
       "        6.24,  6.55,  7.55])"
      ]
     },
     "execution_count": 15,
     "metadata": {},
     "output_type": "execute_result"
    }
   ],
   "source": [
    "d"
   ]
  },
  {
   "cell_type": "code",
   "execution_count": 12,
   "metadata": {
    "collapsed": false
   },
   "outputs": [
    {
     "data": {
      "text/plain": [
       "21"
      ]
     },
     "execution_count": 12,
     "metadata": {},
     "output_type": "execute_result"
    }
   ],
   "source": [
    "size(d) "
   ]
  },
  {
   "cell_type": "code",
   "execution_count": 16,
   "metadata": {
    "collapsed": false
   },
   "outputs": [
    {
     "data": {
      "text/plain": [
       "<matplotlib.text.Text at 0x7f234e48dac8>"
      ]
     },
     "execution_count": 16,
     "metadata": {},
     "output_type": "execute_result"
    },
    {
     "data": {
      "image/png": "[encoded data removed]",
      "text/plain": [
       "<matplotlib.figure.Figure at 0x7f235071e7b8>"
      ]
     },
     "metadata": {},
     "output_type": "display_data"
    }
   ],
   "source": [
    "x=linspace(1972,1992,size(d))\n",
    "plot(x,d)\n",
    "xlabel('Jahr')\n",
    "ylabel('September-Ausdehnung [Mio km$^2$]')\n",
    "title('Meereis in der Arktis')"
   ]
  },
  {
   "cell_type": "code",
   "execution_count": 17,
   "metadata": {
    "collapsed": false
   },
   "outputs": [
    {
     "name": "stdout",
     "output_type": "stream",
     "text": [
      "[ 7.29  7.67  7.47  7.3   7.34  7.24  7.86  7.2   7.85  7.25  7.45  7.52\n",
      "  7.17  6.93  7.54  7.48  7.49  7.04  6.24  6.55  7.55]\n",
      "7.30619047619 0.141233106576\n"
     ]
    }
   ],
   "source": [
    "print(d)\n",
    "print(mean(d),var(d))"
   ]
  },
  {
   "cell_type": "code",
   "execution_count": 18,
   "metadata": {
    "collapsed": false
   },
   "outputs": [
    {
     "name": "stdout",
     "output_type": "stream",
     "text": [
      "[ 7.24  7.25  7.04  7.45  7.52  7.55  7.54  7.17  6.24  7.86  7.3   7.29\n",
      "  7.2   7.47  7.48  7.49  6.55  7.85  6.93  7.67  7.34]\n",
      "7.30619047619 0.141233106576\n"
     ]
    }
   ],
   "source": [
    "shuffle(d) # Zufällige Umsortierung, Mittelwert und Varianz bleiben erhalten\n",
    "print(d)\n",
    "print(mean(d),var(d))"
   ]
  },
  {
   "cell_type": "code",
   "execution_count": 19,
   "metadata": {
    "collapsed": false
   },
   "outputs": [
    {
     "name": "stdout",
     "output_type": "stream",
     "text": [
      "Ursprüngliche Daten:\n",
      "[ 7.24  7.25  7.04  7.45  7.52  7.55  7.54  7.17  6.24  7.86  7.3   7.29\n",
      "  7.2   7.47  7.48  7.49  6.55  7.85  6.93  7.67  7.34]\n",
      "7.30619047619 0.141233106576\n",
      "---------------------------------------------------\n",
      "Zufällige Daten mit gleichen Mittelwert und Varianz\n",
      "[ 6.99945432  7.44317147  6.892913    7.33905714  7.00154378  7.25316664\n",
      "  7.57096758  7.34487733  6.8197436   7.50342683  7.42523574  7.17170962\n",
      "  6.43933415  7.56857043  7.4546292   7.87374163  7.60624502  7.66340624\n",
      "  6.93263709  7.03746452  8.08870466]\n",
      "7.30619047619 0.141233106576\n",
      "---------------------------------------------------\n",
      "Zufällige Daten (gerundet) mit ähnlichen Mittelwert und Varianz\n",
      "[ 6.9  7.4  6.8  7.3  7.   7.2  7.5  7.3  6.8  7.5  7.4  7.1  6.4  7.5  7.4\n",
      "  7.8  7.6  7.6  6.9  7.   8. ]\n",
      "7.25714285714 0.13768707483\n",
      "---------------------------------------------------\n"
     ]
    }
   ],
   "source": [
    "d2=randn(21)\n",
    "d2=d2*std(d)/std(d2) # Normiere mit Standardabweichung\n",
    "d2=d2+mean(d-d2) # Anpassen von Mittelwert\n",
    "print('Ursprüngliche Daten:')\n",
    "print(d)\n",
    "print(mean(d),var(d))\n",
    "print('---------------------------------------------------')\n",
    "print('Zufällige Daten mit gleichen Mittelwert und Varianz')\n",
    "print(d2)\n",
    "print(mean(d2),var(d2))\n",
    "d2=(d2*10.0).astype(int)/10.0 \n",
    "print('---------------------------------------------------')\n",
    "print('Zufällige Daten (gerundet) mit ähnlichen Mittelwert und Varianz')\n",
    "print(d2)\n",
    "print(mean(d2),var(d2))\n",
    "print('---------------------------------------------------')"
   ]
  },
  {
   "cell_type": "markdown",
   "metadata": {
    "collapsed": false
   },
   "source": [
    "## Sind zwei Mittelwerte verschieden?\n",
    "\n",
    "Um zu überprüfen, ob möglicherweise ein Trend vorliegt, vergleichen wir zunächst zwei Mittelwerte. Sind die beiden Zeitabschnitte signifikant verschieden, könnte ein Trend vorliegen:\n",
    "\n",
    " *  1972-1982\n",
    " *  1982-1992\n",
    " "
   ]
  },
  {
   "cell_type": "code",
   "execution_count": 23,
   "metadata": {
    "collapsed": false
   },
   "outputs": [
    {
     "name": "stdout",
     "output_type": "stream",
     "text": [
      "7.447\n",
      "7.141\n"
     ]
    }
   ],
   "source": [
    "print(mean(d[0:10]))\n",
    "print(mean(d[10:20]))"
   ]
  },
  {
   "cell_type": "markdown",
   "metadata": {},
   "source": [
    "### Aufgabe\n",
    "\n",
    "Die zwei Mittelwerte sind verschieden. Doch ist das Ergebnis auch signifikant? Könnte es rein zufällig sein?\n",
    "Testen Sie die Signifikanz des Unterschieds. Formulieren Sie eine Nullhypothese. Setzen sie die Monte-Carlo Methode ein und beschreiben Sie den Unterschied quantitativ."
   ]
  }
 ],
 "metadata": {
  "kernelspec": {
   "display_name": "Python 3",
   "language": "python",
   "name": "python3"
  },
  "language_info": {
   "codemirror_mode": {
    "name": "ipython",
    "version": 3
   },
   "file_extension": ".py",
   "mimetype": "text/x-python",
   "name": "python",
   "nbconvert_exporter": "python",
   "pygments_lexer": "ipython3",
   "version": "3.4.3"
  },
  "name": "_merged"
 },
 "nbformat": 4,
 "nbformat_minor": 0
}
