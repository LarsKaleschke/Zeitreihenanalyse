{
 "cells": [
  {
   "cell_type": "markdown",
   "metadata": {},
   "source": [
    "\n",
    "# Wie überprüft man die Signifikanz?\n",
    "\n",
    "Zur Überprüfung der Signifikanz von Trends und Korrelationen wird üblicherweise versucht, die [Nullhypothese](http://de.wikipedia.org/wiki/Hypothese_%28Statistik%29)  zu widerlegen. Die Nullhypothese besagt, dass sich der Trend bzw. die Korrelation mit einer gewissen Wahrscheinlichkeit $1-p$ aus einer zufälligen Zeitreihe ergibt. Nur wenn es unwahrscheinlich ist, dass die Nullhypothese zutrifft, ist die Beziehung als signifikant zu betrachten.\n",
    "\n",
    "Als Monte-Carlo Methode bezeichnet man die Erzeugung von zufälligen Eingangs-Daten zur numerischen Datenanalyse. Mittels  Monte-Carlo Methode können statistische Hypothesen-Tests durchgeführt werden. Indem ein numerisches Experiment wiederholt durchgeführt wird, kann die Anzahl von Ereignissen (z.B. die Korrelation liegt über einem bestimmten Wert) gezählt werden. Diese Vorgehensweise erlaubt einen intuitiven Zugang zur Statistik ohne den Gebrauch theoretischer Verteilungsfunktionen.\n",
    "\n",
    "## Monte-Carlo  Methode\n"
   ]
  },
  {
   "cell_type": "code",
   "execution_count": 22,
   "metadata": {
    "collapsed": false
   },
   "outputs": [
    {
     "name": "stdout",
     "output_type": "stream",
     "text": [
      "Populating the interactive namespace from numpy and matplotlib\n"
     ]
    }
   ],
   "source": [
    "%pylab inline\n",
    "d=loadtxt('september_extent_1972_2014.txt')[0:21,1] # 21 Jahre von 1972-1992"
   ]
  },
  {
   "cell_type": "code",
   "execution_count": 15,
   "metadata": {
    "collapsed": false
   },
   "outputs": [
    {
     "data": {
      "text/plain": [
       "array([ 7.29,  7.67,  7.47,  7.3 ,  7.34,  7.24,  7.86,  7.2 ,  7.85,\n",
       "        7.25,  7.45,  7.52,  7.17,  6.93,  7.54,  7.48,  7.49,  7.04,\n",
       "        6.24,  6.55,  7.55])"
      ]
     },
     "execution_count": 15,
     "metadata": {},
     "output_type": "execute_result"
    }
   ],
   "source": [
    "d"
   ]
  },
  {
   "cell_type": "code",
   "execution_count": 12,
   "metadata": {
    "collapsed": false
   },
   "outputs": [
    {
     "data": {
      "text/plain": [
       "21"
      ]
     },
     "execution_count": 12,
     "metadata": {},
     "output_type": "execute_result"
    }
   ],
   "source": [
    "size(d) "
   ]
  },
  {
   "cell_type": "code",
   "execution_count": 16,
   "metadata": {
    "collapsed": false
   },
   "outputs": [
    {
     "data": {
      "text/plain": [
       "<matplotlib.text.Text at 0x7f234e48dac8>"
      ]
     },
     "execution_count": 16,
     "metadata": {},
     "output_type": "execute_result"
    },
    {
     "data": {
      "image/png": "[encoded data removed]",
      "text/plain": [
       "<matplotlib.figure.Figure at 0x7f235071e7b8>"
      ]
     },
     "metadata": {},
     "output_type": "display_data"
    }
   ],
   "source": [
    "x=linspace(1972,1992,size(d))\n",
    "plot(x,d)\n",
    "xlabel('Jahr')\n",
    "ylabel('September-Ausdehnung [Mio km$^2$]')\n",
    "title('Meereis in der Arktis')"
   ]
  },
  {
   "cell_type": "code",
   "execution_count": 17,
   "metadata": {
    "collapsed": false
   },
   "outputs": [
    {
     "name": "stdout",
     "output_type": "stream",
     "text": [
      "[ 7.29  7.67  7.47  7.3   7.34  7.24  7.86  7.2   7.85  7.25  7.45  7.52\n",
      "  7.17  6.93  7.54  7.48  7.49  7.04  6.24  6.55  7.55]\n",
      "7.30619047619 0.141233106576\n"
     ]
    }
   ],
   "source": [
    "print(d)\n",
    "print(mean(d),var(d))"
   ]
  },
  {
   "cell_type": "code",
   "execution_count": 18,
   "metadata": {
    "collapsed": false
   },
   "outputs": [
    {
     "name": "stdout",
     "output_type": "stream",
     "text": [
      "[ 7.24  7.25  7.04  7.45  7.52  7.55  7.54  7.17  6.24  7.86  7.3   7.29\n",
      "  7.2   7.47  7.48  7.49  6.55  7.85  6.93  7.67  7.34]\n",
      "7.30619047619 0.141233106576\n"
     ]
    }
   ],
   "source": [
    "shuffle(d) # Zufällige Umsortierung, Mittelwert und Varianz bleiben erhalten\n",
    "print(d)\n",
    "print(mean(d),var(d))"
   ]
  },
  {
   "cell_type": "code",
   "execution_count": 19,
   "metadata": {
    "collapsed": false
   },
   "outputs": [
    {
     "name": "stdout",
     "output_type": "stream",
     "text": [
      "Ursprüngliche Daten:\n",
      "[ 7.24  7.25  7.04  7.45  7.52  7.55  7.54  7.17  6.24  7.86  7.3   7.29\n",
      "  7.2   7.47  7.48  7.49  6.55  7.85  6.93  7.67  7.34]\n",
      "7.30619047619 0.141233106576\n",
      "---------------------------------------------------\n",
      "Zufällige Daten mit gleichen Mittelwert und Varianz\n",
      "[ 6.99945432  7.44317147  6.892913    7.33905714  7.00154378  7.25316664\n",
      "  7.57096758  7.34487733  6.8197436   7.50342683  7.42523574  7.17170962\n",
      "  6.43933415  7.56857043  7.4546292   7.87374163  7.60624502  7.66340624\n",
      "  6.93263709  7.03746452  8.08870466]\n",
      "7.30619047619 0.141233106576\n",
      "---------------------------------------------------\n",
      "Zufällige Daten (gerundet) mit ähnlichen Mittelwert und Varianz\n",
      "[ 6.9  7.4  6.8  7.3  7.   7.2  7.5  7.3  6.8  7.5  7.4  7.1  6.4  7.5  7.4\n",
      "  7.8  7.6  7.6  6.9  7.   8. ]\n",
      "7.25714285714 0.13768707483\n",
      "---------------------------------------------------\n"
     ]
    }
   ],
   "source": [
    "d2=randn(21)\n",
    "d2=d2*std(d)/std(d2) # Normiere mit Standardabweichung\n",
    "d2=d2+mean(d-d2) # Anpassen von Mittelwert\n",
    "print('Ursprüngliche Daten:')\n",
    "print(d)\n",
    "print(mean(d),var(d))\n",
    "print('---------------------------------------------------')\n",
    "print('Zufällige Daten mit gleichen Mittelwert und Varianz')\n",
    "print(d2)\n",
    "print(mean(d2),var(d2))\n",
    "d2=(d2*10.0).astype(int)/10.0 \n",
    "print('---------------------------------------------------')\n",
    "print('Zufällige Daten (gerundet) mit ähnlichen Mittelwert und Varianz')\n",
    "print(d2)\n",
    "print(mean(d2),var(d2))\n",
    "print('---------------------------------------------------')"
   ]
  },
  {
   "cell_type": "markdown",
   "metadata": {
    "collapsed": false
   },
   "source": [
    "## Sind zwei Mittelwerte verschieden?\n",
    "\n",
    "Um zu überprüfen, ob möglicherweise ein Trend vorliegt, vergleichen wir zunächst zwei Mittelwerte. Sind die beiden Zeitabschnitte signifikant verschieden, könnte ein Trend vorliegen:\n",
    "\n",
    " *  1972-1982\n",
    " *  1982-1992\n",
    " "
   ]
  },
  {
   "cell_type": "code",
   "execution_count": 23,
   "metadata": {
    "collapsed": false
   },
   "outputs": [
    {
     "name": "stdout",
     "output_type": "stream",
     "text": [
      "7.447\n",
      "7.141\n"
     ]
    }
   ],
   "source": [
    "print(mean(d[0:10]))\n",
    "print(mean(d[10:20]))"
   ]
  },
  {
   "cell_type": "markdown",
   "metadata": {},
   "source": [
    "### Aufgabe\n",
    "\n",
    "Die zwei Mittelwerte sind verschieden. Doch ist das Ergebnis auch signifikant? Könnte es rein zufällig sein?\n",
    "Testen Sie die Signifikanz des Unterschieds. Formulieren Sie eine Nullhypothese. Setzen sie die Monte-Carlo Methode ein und beschreiben Sie den Unterschied quantitativ."
   ]
  }
 ],
 "metadata": {
  "kernelspec": {
   "display_name": "Python 3",
   "language": "python",
   "name": "python3"
  },
  "language_info": {
   "codemirror_mode": {
    "name": "ipython",
    "version": 3
   },
   "file_extension": ".py",
   "mimetype": "text/x-python",
   "name": "python",
   "nbconvert_exporter": "python",
   "pygments_lexer": "ipython3",
   "version": "3.4.3"
  }
 },
 "nbformat": 4,
 "nbformat_minor": 0
}
