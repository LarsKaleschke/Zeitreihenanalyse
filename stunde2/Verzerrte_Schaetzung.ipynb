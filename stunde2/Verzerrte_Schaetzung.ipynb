{
 "cells": [
  {
   "cell_type": "markdown",
   "metadata": {},
   "source": [
    "# Beispiel: verzerrte Schätzung der Varianz\n",
    "\n",
    "## Matlab/Octave"
   ]
  },
  {
   "cell_type": "code",
   "execution_count": 9,
   "metadata": {
    "collapsed": false
   },
   "outputs": [
    {
     "data": {
      "text/plain": [
       "10000 Experimente mit jeweils 10 Stichproben\r\n",
       "Wir erwarten 1.0:\r\n",
       "Verzerrt (Vorfaktor 1/N):0.8959\r\n",
       "Erwartungstreu (Vorfaktor 1/(N-1)):0.99545\r\n",
       "---------------------------------------------\r\n",
       "Testvergleich Octave-Funktion: \r\n",
       "var()0.99545\r\n"
      ]
     },
     "execution_count": 9,
     "metadata": {},
     "output_type": "execute_result"
    }
   ],
   "source": [
    "M=10000;\n",
    "V=zeros(3,M);\n",
    "for i = 1:M\n",
    "    N=10;\n",
    "    x=randn(N,1);\n",
    "    mu=1.0/N*sum(x);\n",
    "    V(1,i)=1.0/N*sum((x-mu).^2);\n",
    "    V(2,i)=1.0/(N-1)*sum((x-mu).^2);\n",
    "    V(3,i)=var(x,0);\n",
    "end\n",
    "\n",
    "disp([num2str(M) \" Experimente mit jeweils \" num2str(N) \" Stichproben\"])\n",
    "disp(\"Wir erwarten 1.0:\")\n",
    "disp([\"Verzerrt (Vorfaktor 1/N):\" num2str(mean(V(1,:))) ])\n",
    "disp([\"Erwartungstreu (Vorfaktor 1/(N-1)):\" num2str(mean(V(2,:)))])\n",
    "disp(\"---------------------------------------------\")\n",
    "disp(\"Testvergleich Octave-Funktion: \")\n",
    "disp([\"var()\" num2str(mean(V(3,:)))])"
   ]
  },
  {
   "cell_type": "markdown",
   "metadata": {},
   "source": [
    "    VAR calculates the variance.\n",
    "\n",
    "    y = var(x [, opt[, DIM]])\n",
    "    calculates the variance in dimension DIM\n",
    "    the default DIM is the first non-single dimension\n",
    "\n",
    "    opt   \n",
    "    0: normalizes with N-1 [default]\n",
    "\t1: normalizes with N "
   ]
  },
  {
   "cell_type": "markdown",
   "metadata": {},
   "source": [
    "## Python "
   ]
  },
  {
   "cell_type": "code",
   "execution_count": 3,
   "metadata": {
    "collapsed": false
   },
   "outputs": [
    {
     "name": "stdout",
     "output_type": "stream",
     "text": [
      "Populating the interactive namespace from numpy and matplotlib\n",
      "10000 Experimente mit jeweils 10 Stichproben\n",
      "Wir erwarten 1.0:\n",
      "Verzerrt (Vorfaktor 1/N): 0.90276650815\n",
      "Erwartungstreu (Vorfaktor 1/(N-1)) 1.00307389794\n",
      "---------------------------------------------\n",
      "Testvergleich Python-Funktion:\n",
      "var() 1.00307389794\n"
     ]
    }
   ],
   "source": [
    "%pylab inline\n",
    "M=10000\n",
    "\n",
    "V=zeros((3,M))\n",
    "\n",
    "for i in range(M): # Monte Carlo Simulation: M-Experimente\n",
    "    N=10\n",
    "    x=randn(N) # randn erzeugt Normalverteilung mit Mittelwert=0 und Varianz=1\n",
    "    mu=1.0/N*sum(x)\n",
    "    V[0,i]=1.0/N*sum((x-mu)**2)\n",
    "    V[1,i]=1.0/(N-1)*sum((x-mu)**2)\n",
    "    V[2,i]=var(x,ddof=1)#*N/(N-1)\n",
    "    \n",
    "print(str(M)+\" Experimente mit jeweils \"+str(N)+\" Stichproben\")\n",
    "print(\"Wir erwarten 1.0:\")\n",
    "print(\"Verzerrt (Vorfaktor 1/N):\", mean(V[0,:]))\n",
    "print(\"Erwartungstreu (Vorfaktor 1/(N-1))\",mean(V[1,:]))\n",
    "print(\"---------------------------------------------\")\n",
    "print(\"Testvergleich Python-Funktion:\")\n",
    "print(\"var()\",mean(V[2,:]))"
   ]
  },
  {
   "cell_type": "markdown",
   "metadata": {},
   "source": [
    "\n",
    "unbiased\n",
    "-> var(x,ddof=1)=var(x)*N/(N-1)"
   ]
  }
 ],
 "metadata": {
  "kernelspec": {
   "display_name": "Python 3",
   "language": "python",
   "name": "python3"
  },
  "language_info": {
   "codemirror_mode": {
    "name": "ipython",
    "version": 3
   },
   "file_extension": ".py",
   "mimetype": "text/x-python",
   "name": "python",
   "nbconvert_exporter": "python",
   "pygments_lexer": "ipython3",
   "version": "3.4.3"
  }
 },
 "nbformat": 4,
 "nbformat_minor": 0
}
