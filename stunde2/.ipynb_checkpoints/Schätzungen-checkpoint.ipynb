{
 "cells": [
  {
   "cell_type": "markdown",
   "metadata": {
    "collapsed": true
   },
   "source": [
    "# Statistische Prinzipien\n",
    "Das Grundproblem der statistischen Analyse besteht darin, dass die Stichprobenanzahl begrenzt ist und die theoretischen Verteilungsfunktionen nicht bekannt sind. Stattdessen müssen statistische Parameter aus einer begrenzten Anzahl Stichproben möglichst genau geschätzt werden. Dieses Kapitel beschäftigt sich mit der Aufstellung von Schätzfunktionen und der Bestimmung der Sicherheit von statistischen Schlussfolgerungen.\n",
    "\n",
    "## Hypothesenprüfungen\n",
    "\n",
    "Bei einem statistischen Prüfverfahren wird einer sogenannten Nullhypothese eine (oder mehrere) Alternativhypothese gegenübergestellt. Im Sinne eines mathemathischen Widerspruchsbeweises wird die Nullhypothese statistisch widerlegt, um die Alternativhypothese zu beweisen. \n",
    "\n",
    "Bei der Auswahl eines Prüfverfahrens muss die theoretische Wahrscheinlichkeitsverteilung und der Stichprobenumfang beachtet werden. \n",
    "\n",
    "Das Ergebnis einer statistischen Prüfung ist immer im Zusammenhang mit dem sog. Signifikanzniveau zu nennen. Die zur Signifikanz komplementäre Größe ist die Irrtumswahrscheinlichkeit. Es gilt\n",
    "\n",
    "$$Signifikanz=1-Irrtumswahrscheinlichkeit$$\n",
    "\n",
    "oder\n",
    "\n",
    "$$Si=1-\\alpha$$\n",
    "\n",
    "Wahrscheinlichkeiten werden entweder in Prozent oder als Zahl zwischen 0-1 angeben.  Anstatt $\\alpha$ wird üblicherweise auch die Bezeichnung $p$ verwendet. Die Daumenregel besagt, dass die Signifikanz groß ist, wenn $p$ klein ist.\n",
    "\n",
    "Aus der Angabe einer Wahrscheinlichkeit ergibt sich auch ein sog. Vertrauensbereich (auch Konfidenzintervall oder Mutungsbereich), der den Wertebereich für eine spezifische Wahrscheinlichkeit angibt.\n",
    "\n",
    "## Beschreibung von Wahrscheinlichkeitsbereichen (IPCC-Terminologie)\n",
    "\n",
    "Bei einer Einschätzung der Unsicherheit bestimmter Ergebnisse mittels fachkundiger Beurteilung und statistischer Analyse eines Beweises (z.B. Beobachtungen oder Modellergebnisse) werden folgende Wahrscheinlichkeitsbereiche verwendet, um die geschätzte Eintrittswahrscheinlichkeit auszudrücken:\n",
    "\n",
    " * praktisch sicher >99%\n",
    " * höchst wahrscheinlich >95%\n",
    " * sehr wahrscheinlich >90%\n",
    " * wahrscheinlich >66%\n",
    " * wahrscheinlicher als nicht >50%\n",
    " * etwa so wahrscheinlich wie nicht 33% bis 66%\n",
    " * unwahrscheinlich <33%\n",
    " * sehr unwahrscheinlich <10%\n",
    " * höchst unwahrscheinlich <5%\n",
    " * außergewöhnlich unwahrscheinlich <1%\n",
    "\n",
    "\n",
    "\n",
    "Übernommen aus [IPCC AR4 (2007)](http://www.ipcc.ch/pdf/reports-nonUN-translations/deutch/IPCC2007-SYR-SPM-german.pdf)\n",
    "\n"
   ]
  },
  {
   "cell_type": "markdown",
   "metadata": {},
   "source": [
    "## Parameter-Schätzungen\n",
    "\n",
    "Gegeben sei eine Zufallsvariable $x_i$, z.B. eine stochastische Zeitserie. Im Folgenden wird der Stichproben-Index $i$ weggelassen, um eine kompaktere Darstellung zu erhalten. Die beiden statistischen Parameter Mittelwert $\\mu$ und Varianz $\\sigma^2$ \n",
    "\n",
    "$$\\mu_x=E[x]=\\int_{-\\infty}^\\infty x p(x) dx$$\n",
    "$$\\sigma_x^2=E[(x-\\mu_x)^2]=\\int_{-\\infty}^\\infty (x-\\mu_x)^2  p(x) dx$$\n",
    "\n",
    "werden mit Hilfe der Wahrscheinlichkeitsdichtefunktion $p(x)$ theoretisch berechnet. Der Operator $E[]$ bezeichnet den Erwartungswert. Im Allgemeinen ist die Anzahl der Stichproben begrenzt und  die Wahrscheinlichkeitsdichtefunktion ist nicht bekannt. \n",
    "\n",
    "Eine (von vielen) Möglichkeiten um Mittelwert und Varianz von $x$ aus $N$ unabhängigen Messungen zu schätzen, ist gegeben durch\n",
    "\n",
    "$$\\bar{x}=\\hat{\\mu_x}=\\frac{1}{N} \\sum_{i=1}^N x_i $$\n",
    "$$s_b^2=\\hat{\\sigma_x}^2=\\frac{1}{N} \\sum_{i=1}^N (x_i-\\bar{x})^2 $$\n",
    "\n",
    "Der Unterschied von $\\hat{\\mu_x}$ und $\\mu_x$ besteht darin, dass $\\hat{\\mu_x}$ den geschätzen Wert und $\\mu_x$ den wahren bzw. theoretisch richtigen Wert bezeichnet.\n",
    "\n",
    "Wir wollen nun untersuchen, ob die Schätzung von Mittelwert und Varianz unsere Erwartungen erfüllt. Der Erwartungswert des Mittelwertes berechnet sich aus\n",
    "\n",
    "$$E[\\bar{x}]=E[\\frac{1}{N} \\sum_{i=1}^N x_i]=\\frac{1}{N}(N\\mu_x)=\\mu_x$$\n",
    "\n",
    "und erfüllt unsere Erwartungen (erwartungstreu). \n",
    "\n",
    "Der Erwartungswert der Varianz $s_b$ errechnet sich zu\n",
    "$$E[s_b^2]=E[\\frac{1}{N} \\sum_{i=1}^N (x_i-\\bar{x})^2]=\\frac{1}{N} E[\\sum_{i=1}^N (x_i-\\bar{x})^2]=...=\\frac{N-1}{N}\\sigma_x^2$$\n",
    "(siehe z.B. Bendat und Piersol (1986) für vollständigen Beweis)\n",
    "\n",
    "Die Varianz-Schätzung $s_b$ bzw. $\\hat{\\sigma_x}$  ist offensichtlich nicht erwartungstreu, da $\\hat{\\sigma_x}^2<\\sigma_x^2$. Die Schätzung nennt sich darum verzerrt oder biased. Eine erwartungstreue/unverzerrte Schätzung der Varianz ist gegeben durch\n",
    "\n",
    "$$s^2=\\hat{\\sigma_x}^2=\\frac{1}{N-1} \\sum_{i=1}^N (x_i-\\bar{x})^2 $$\n",
    "\n",
    "der sogennanten empirischen Varianz oder Stichprobenvarianz. Der Unterschied macht sich insbesondere für eine kleine Anzahl von Stichproben bemerkbar und kann für eine große Anzahl meist vernachlässigt werden. Vorsicht ist jedoch geboten bei Hypothesentests, die auf einem Vergleich der Varianz basieren.\n",
    "\n",
    "### Beispiel: verzerrte Schätzung der Varianz"
   ]
  },
  {
   "cell_type": "code",
   "execution_count": 3,
   "metadata": {
    "collapsed": false
   },
   "outputs": [
    {
     "name": "stdout",
     "output_type": "stream",
     "text": [
      "Populating the interactive namespace from numpy and matplotlib\n",
      "10000 Experimente mit jeweils 10 Stichproben\n",
      "Wir erwarten 1.0:\n",
      "Verzerrt (Vorfaktor 1/N): 0.89912303895\n",
      "Erwartungstreu (Vorfaktor 1/(N-1)) 0.999025598833\n",
      "---------------------------------------------\n",
      "Testvergleich Python-Funktion:\n",
      "var() 0.999025598833\n"
     ]
    }
   ],
   "source": [
    "%pylab inline\n",
    "M=10000\n",
    "\n",
    "V=zeros((3,M))\n",
    "\n",
    "for i in range(M): # Monte Carlo Simulation: M-Experimente\n",
    "    N=10\n",
    "    x=randn(N) # randn erzeugt Normalverteilung mit Mittelwert=0 und Varianz=1\n",
    "    mu=1.0/N*sum(x)\n",
    "    V[0,i]=1.0/N*sum((x-mu)**2)\n",
    "    V[1,i]=1.0/(N-1)*sum((x-mu)**2)\n",
    "    V[2,i]=var(x)*N/(N-1)\n",
    "    \n",
    "print str(M)+\" Experimente mit jeweils \"+str(N)+\" Stichproben\"\n",
    "print \"Wir erwarten 1.0:\"\n",
    "print \"Verzerrt (Vorfaktor 1/N):\", mean(V[0,:])\n",
    "print \"Erwartungstreu (Vorfaktor 1/(N-1))\",mean(V[1,:])\n",
    "print \"---------------------------------------------\"\n",
    "print \"Testvergleich Python-Funktion:\"\n",
    "print \"var()\",mean(V[2,:])"
   ]
  },
  {
   "cell_type": "markdown",
   "metadata": {},
   "source": [
    "## Normalverteilung (z-Verteilung)\n",
    "Die Gaußverteilung ist gegeben durch\n",
    "\n",
    "$$p(x)=\\frac{1}{\\sigma_x\\sqrt{2\\pi}}e^{-\\frac{(x-\\mu_x)^2}{2\\sigma_x^2}}$$\n",
    "\n",
    "Es gilt\n",
    "\n",
    "$$E[x]=\\mu_x$$ \n",
    "\n",
    "und\n",
    "\n",
    "$$E[(x-\\mu_x)^2]=\\sigma_x^2$$\n",
    "\n",
    "Substitution von $z=\\frac{x-\\mu_x}{\\sigma_x}$ liefert die standardisierte Normalverteilung\n",
    "\n",
    "$$p(z)=\\frac{1}{\\sqrt{2\\pi}}e^{-\\frac{z^2}{2}}$$\n",
    "\n",
    "für die gilt $E[x]=\\mu_z=0$ und  $E[(x-\\mu_z)^2]=\\sigma_z^2=1$\n",
    "\n",
    "Die Wahrscheinlichkeit $P$ berechnet sich aus dem Integral\n",
    "\n",
    "$$P(z_\\alpha)=\\int_{-\\infty}^{z_\\alpha} p(z)dz=Prob[z\\lt z_\\alpha]=1-\\alpha$$\n",
    "\n",
    "bzw. \n",
    "\n",
    "$$1-P(z_\\alpha)=\\int_{z_\\alpha}^{\\infty} p(z)dz=Prob[z \\gt z_\\alpha]=\\alpha$$\n",
    "\n",
    "# PDF und CDF \n",
    "\n",
    "Die Wahrscheinlichkeitsdichtefunktion $p(z)$ und die Verteilungsfunktion $P(z)$ werden im englischen als Probability Density Function (PDF) und Cumulative Probability Function (PDF) bezeichnet. Die Verteilungsfunktion $P(z)$ ist das Integral der Wahrscheinlichkeitsdichtefunktion $p(z)$. Aufgrund der Normierung ist die Fläche unter der Kurve $p(z)$ gleich eins. \n",
    "\n",
    "Im Python-Modul scipy.stats finden sich verschiedene PDFs und CDFs. Im folgenden Beispiel untersuchen wir die Normalverteilung. \n"
   ]
  },
  {
   "cell_type": "code",
   "execution_count": 8,
   "metadata": {
    "collapsed": false
   },
   "outputs": [
    {
     "name": "stdout",
     "output_type": "stream",
     "text": [
      "Populating the interactive namespace from numpy and matplotlib\n",
      "68.2689492137\n",
      "95.4499736104\n",
      "99.7300203937\n"
     ]
    },
    {
     "data": {
      "image/png": "[encoded data removed]",
      "text/plain": [
       "<matplotlib.figure.Figure at 0x7f936c1ac110>"
      ]
     },
     "metadata": {},
     "output_type": "display_data"
    },
    {
     "data": {
      "image/png": "[encoded data removed]",
      "text/plain": [
       "<matplotlib.figure.Figure at 0x7f93494aab90>"
      ]
     },
     "metadata": {},
     "output_type": "display_data"
    }
   ],
   "source": [
    "%pylab inline\n",
    "import scipy.stats as stats\n",
    "\n",
    "x=linspace(-6,6,121)\n",
    "figure()\n",
    "plot(x,stats.norm.pdf(x))\n",
    "figure()\n",
    "plot(x,stats.norm.cdf(x))\n",
    "\n",
    "#Wieviele Werte liegen innerhalb +-1, +-2 und +-3 Standardabweichungen?\n",
    "#beidseitig: *2\n",
    "\n",
    "z_cdf=stats.norm.cdf\n",
    "\n",
    "print (1-z_cdf(-1.0)*2)*100\n",
    "print (1-z_cdf(-2.0)*2)*100\n",
    "print (1-z_cdf(-3.0)*2)*100"
   ]
  },
  {
   "cell_type": "code",
   "execution_count": 8,
   "metadata": {
    "collapsed": true
   },
   "outputs": [],
   "source": [
    "!ipython nbconvert --to PDF Zufallsvariablen.ipynb &> /dev/null"
   ]
  },
  {
   "cell_type": "code",
   "execution_count": null,
   "metadata": {
    "collapsed": true
   },
   "outputs": [],
   "source": []
  }
 ],
 "metadata": {
  "kernelspec": {
   "display_name": "Python 3",
   "language": "python",
   "name": "python3"
  },
  "language_info": {
   "codemirror_mode": {
    "name": "ipython",
    "version": 3
   },
   "file_extension": ".py",
   "mimetype": "text/x-python",
   "name": "python",
   "nbconvert_exporter": "python",
   "pygments_lexer": "ipython3",
   "version": "3.4.3"
  }
 },
 "nbformat": 4,
 "nbformat_minor": 0
}
