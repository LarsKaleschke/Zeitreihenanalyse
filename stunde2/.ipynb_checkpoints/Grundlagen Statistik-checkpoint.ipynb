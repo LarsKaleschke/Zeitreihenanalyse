{
 "cells": [
  {
   "cell_type": "markdown",
   "metadata": {},
   "source": [
    "# Grundlagen der Wahrscheinlichkeitsrechnung und Statistik\n",
    "\n",
    "Dieser Abschnitt befasst sich mit den Grundlagen der Wahrscheinlichkeitstheorie in Hinblick auf die Zeitreihenanalyse. Zufallsvariablen sind darin Platzhalter für Messwerte eines Experiments.  Wahrscheinlichkeitsdichteverteilungen beschreibt die theoretische Verteilungsfunktion. Realisierungen eines Experimentes werden als Stichproben bezeichnet. Aus einer Anzahl von Realisierungen ergibt sich die empirische Häufigkeitsverteilung. \n",
    "\n",
    "## Zufallsvariable\n",
    "\n",
    "Sei $x(k)$ eine Menge von Zufallsvariablen. Die Zählvariable $k$ bezeichnet ein bestimmtes Ereignis. Die Zufallsvariable $x(k)$ beschreibt eine Messung mit einem zufälligen Ergebnis. Der Ausgang eines $N$-mal wiederholten Experiments ist eine Reihe von Punkten bzw. Messwerten. Die Messwerte werden Stichproben (Samples) bzw. Realisierungen genannt. Die Anzahl der Stichproben wird hier mit $N$ bezeichnet.\n",
    "\n"
   ]
  },
  {
   "cell_type": "markdown",
   "metadata": {},
   "source": [
    "## Wahrscheinlichkeitsverteilungs- und dichtefunktion\n",
    "\n",
    "Die Wahrscheinlichkeitsverteilungsfunktion $P(x)$ wird definiert als die Wahrscheinlichkeit dafür, dass ein Ereignis $x(k)$ den Wert $x(k)\\le x$ annimmt.\n",
    "\n",
    "$$P(x)=\\operatorname{Prob}(x(k)\\le x)$$\n",
    "\n",
    "Es gilt\n",
    "\n",
    "$$P(a)\\le P(b)$$\n",
    "\n",
    "wenn $a\\le b$.\n",
    "\n",
    "Der Wertebereich von $P$ ist $[0,1]$ weil gilt \n",
    "\n",
    "$$P(-\\infty)=0, P(+\\infty)=1$$\n",
    "\n",
    "Wenn der Wertebereich der Zufallsvariable $x(k)$ kontinuierlich ist, dann wird die  Wahrscheinlichkeitsdichtefunktion $p(x)$  wie folgt definiert\n",
    "\n",
    "$$p(x)=\\lim_{\\Delta x\\to 0}=\\left(\\frac{\\operatorname{Prob}(x<x(k)\\le x+\\Delta x)}{\\Delta x}\\right)$$\n",
    "\n",
    "Es gilt\n",
    "\n",
    "$$p(x)\\ge0$$\n",
    "\n",
    "$$\\int_{-\\infty}^{\\infty} p(x)dx=1$$\n",
    "\n",
    "$$P(x)=\\int_{-\\infty}^{x} p(\\zeta)d\\zeta$$ \n",
    "\n",
    "$$\\frac{dP(x)}{dx}=p(x)$$\n",
    "\n",
    "Die Wahrscheinlichkeitsdichtefunktionen diskreter Zufallsvariablen, wie z.B. der Würfelfunktion, müssen mit Hilfe von Delta-Funktionen $\\delta(x)$ oder als Summe beschrieben werden.\n",
    "\n",
    "$$\\operatorname{Prob}(x<x(k)\\le x+\\Delta x)=\\sum_x^{x+\\Delta x} p_k(x)$$\n",
    "\n",
    "mit $p_k=\\operatorname{Prob}(x(k)=x_k)$.\n",
    "\n",
    "Die Wahrscheinlichkeitsverteilungsfunktion $P(x)$ wird auch kumulative Verteilungsfunktion genannt. Sie ist definiert als das Integral über die Wahrscheinlichkeitsdichtefunktionen  $p(x)$. Oft genutzte Abkürzungen sind PDF und CDF für Probability Density Function $p(x)$ und Cumulative (Probability) Density Function $P(x)$.\n",
    "\n",
    "## Erwartungswert\n",
    "\n",
    "Der Erwartungswert einer Zufallsvariablen entspricht dem Mittelwert $\\mu_x$ bei unendlicher Wiederholung eines Experiments. Der Erwartungswert errechnet sich aus der Zufallsvariablen mittels Gewichtung mit der  Wahrscheinlichkeit \n",
    "\n",
    "$$\\operatorname{E}(x(k))=\\int_{-\\infty}^{\\infty} xp(x)dx=\\mu_x$$\n",
    "\n",
    "Für diskrete Zufallsvariablen ist das Integral durch eine Summe zu ersetzen. \n",
    "\n",
    "$$\\operatorname{E}(x)=\\sum_{k} x p_k(x) $$\n",
    "\n",
    "Die Varianz ist definiert als\n",
    "\n",
    "$$\\operatorname{E}(x(k)-\\operatorname{E}(x(k))^2)=\\sigma_x^2$$\n",
    "\n",
    "### Regeln\n",
    "\n",
    "Der Erwartungswert ist ein linearer Operator\n",
    "\n",
    "$$\\operatorname{E}(aX_1+bX_2 )=a\\operatorname{E}(X_1)+b\\operatorname{E}(X_2)$$\n",
    "\n",
    "\n",
    "\n",
    "### Beispiel Zufallsvariable Würfel\n",
    "\n",
    "Sei die Zufallsvariable $x(k)$ der Ausgang eines Würfelexperimentes. \n",
    "\n",
    "Beim idealen Würfel sind alle sechs Seiten gleichwahrscheinlich.\n",
    "\n",
    "$$P(x=1)=P(x=2)=P(x=3)=P(x=4)=P(x=5)=P(x=6)=\\frac{1}{6}$$\n",
    "\n",
    "Damit ergibt sich für den Erwartungswert \n",
    "\n",
    "$$\\operatorname{E}(x)=\\sum_{k=1}^{6} x_k p_k(x_k) $$\n",
    "\n",
    "mit $p_k(x)=\\frac{1}{6}$ für alle $x=1,2,..,6$\n",
    "\n",
    "$$\\operatorname{E}(x)=\\frac{1}{6}(1+2+3+4+5+6)=3.5$$\n",
    "\n",
    "### Übung\n",
    "\n",
    "Berechnen Sie Mittelwert und Varianz der Zufallsvariable $x(k)$ \"Würfel\" theoretisch und experimentell mit einem Zufallsgenerator. Skizzieren Sie die kumulative Wahrscheinlichkeitsverteilungsfunktion und $P(x_k)$ Wahrscheinlichkeitsdichtefunktionen $p(x_k)$.\n",
    "\n",
    "\n"
   ]
  },
  {
   "cell_type": "markdown",
   "metadata": {},
   "source": [
    "# Kovarianz und Korrelation\n",
    "\n",
    "Der Korrelationskoeffizient $r$ beschreibt, wie eng zwei Zufallsvariablen in Raum oder Zeit zusammenhängen. Für zwei Zufallsvariablen $x=(x_1,x_2,...,x_n)$ und $y=(y_1,y_2,...,y_n)$ berechnet sich der Korrelationskoeffizient als\n",
    "\n",
    "$$r=\\frac{1}{N-1}\\sum_{i=1}^{N}\\frac{(x_i-\\bar{x})(y_i-\\bar{y})}{s_x s_y}$$\n",
    "\n",
    "oder ausgedrückt durch die Kovarianz $C_{xy}$\n",
    "\n",
    "$$r=\\frac{C_{xy}}{s_x s_y}$$\n",
    "\n",
    "dabei gilt\n",
    "\n",
    "$$C_{xy}=\\operatorname{cov}(x,y)=\\sigma_{x,y}^2\\frac{1}{N-1}\\sum_{i=1}^{N} (x_i-\\bar{x})(y_i-\\bar{y})$$\n",
    "\n",
    "Der Korrelationskoeffizient errechnet sich aus der Kovarianz durch Normierung mit den Standardabweichungen $s_x$ und $s_y$ definiert durch\n",
    "\n",
    "$$\\sigma_x^2=s_x^2=\\frac{1}{N-1}\\sum_{i=1}^{N} (x_i-\\bar{x})^2$$\n",
    "\n",
    "Äquivalent ist die Definition der Kovarianz durch den Erwartungswert\n",
    "$$\\operatorname{cov}(x,y) := \\operatorname E\\bigl[(x - \\operatorname E(x)) \\cdot (y - \\operatorname E(y))\\bigr]$$\n"
   ]
  },
  {
   "cell_type": "markdown",
   "metadata": {},
   "source": [
    "# Normalverteilung (z-Verteilung)\n",
    "\n",
    "<img src='Normalverteilung_plot.png'>\n",
    "\n",
    "\n",
    "Die Gaußverteilung ist gegeben durch\n",
    "\n",
    "$$p(x)=\\frac{1}{\\sigma_x\\sqrt{2\\pi}}e^{-\\frac{(x-\\mu_x)^2}{2\\sigma_x^2}}$$\n",
    "\n",
    "Es gilt\n",
    "\n",
    "$$E[x]=\\mu_x$$ \n",
    "\n",
    "und\n",
    "\n",
    "$$E[(x-\\mu_x)^2]=\\sigma_x^2$$\n",
    "\n",
    "Substitution von $z=\\frac{x-\\mu_x}{\\sigma_x}$ liefert die standardisierte Normalverteilung\n",
    "\n",
    "$$p(z)=\\frac{1}{\\sqrt{2\\pi}}e^{-\\frac{z^2}{2}}$$\n",
    "\n",
    "für die gilt $E[x]=\\mu_z=0$ und  $E[(x-\\mu_z)^2]=\\sigma_z^2=1$\n",
    "\n",
    "Die Wahrscheinlichkeit $P$ berechnet sich aus dem Integral\n",
    "\n",
    "$$P(z_\\alpha)=\\int_{-\\infty}^{z_\\alpha} p(z)dz=Prob[z\\lt z_\\alpha]=1-\\alpha$$\n",
    "\n",
    "bzw. \n",
    "\n",
    "$$1-P(z_\\alpha)=\\int_{z_\\alpha}^{\\infty} p(z)dz=Prob[z \\gt z_\\alpha]=\\alpha$$\n",
    "\n"
   ]
  },
  {
   "cell_type": "markdown",
   "metadata": {},
   "source": [
    "## Gaußsche Fehlerfunktion\n",
    "\n",
    "Als Fehlerfunktion oder [gaußsche Fehlerfunktion](http://de.wikipedia.org/wiki/Fehlerfunktion) bezeichnet man in der Theorie der Speziellen Funktionen das Integral\n",
    "\n",
    "$$\\operatorname{erf}(x) = \\frac 2{\\sqrt\\pi} \\int_0^x e^{-\\tau^2}\\,\\mathrm d\\tau$$\n",
    "\n",
    "Aus der Fehlerfunktion errechnet sich, wieviele Werte bei einer gegebenen Normalverteilung innerhalb eines Wertebereichs, z.B. $\\pm 1\\sigma$ zu erwarten sind.\n"
   ]
  },
  {
   "cell_type": "code",
   "execution_count": 9,
   "metadata": {
    "collapsed": false
   },
   "outputs": [
    {
     "data": {
      "text/plain": [
       "0.68268949213708585"
      ]
     },
     "execution_count": 9,
     "metadata": {},
     "output_type": "execute_result"
    }
   ],
   "source": [
    "erf(1/sqrt(2)) # Octave/Matlab"
   ]
  },
  {
   "cell_type": "code",
   "execution_count": 10,
   "metadata": {
    "collapsed": false
   },
   "outputs": [
    {
     "name": "stdout",
     "output_type": "stream",
     "text": [
      "Using matplotlib backend: Qt4Agg\n",
      "Populating the interactive namespace from numpy and matplotlib\n"
     ]
    },
    {
     "data": {
      "text/plain": [
       "0.68268949213708585"
      ]
     },
     "execution_count": 10,
     "metadata": {},
     "output_type": "execute_result"
    }
   ],
   "source": [
    "%pylab\n",
    "from scipy.special import erf\n",
    "erf(1/sqrt(2))"
   ]
  }
 ],
 "metadata": {
  "kernelspec": {
   "display_name": "Python 3",
   "language": "python",
   "name": "python3"
  },
  "language_info": {
   "codemirror_mode": {
    "name": "ipython",
    "version": 3
   },
   "file_extension": ".py",
   "mimetype": "text/x-python",
   "name": "python",
   "nbconvert_exporter": "python",
   "pygments_lexer": "ipython3",
   "version": "3.4.3"
  }
 },
 "nbformat": 4,
 "nbformat_minor": 0
}
