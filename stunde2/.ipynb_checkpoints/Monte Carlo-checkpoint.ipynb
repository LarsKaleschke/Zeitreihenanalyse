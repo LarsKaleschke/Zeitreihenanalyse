{
 "cells": [
  {
   "cell_type": "markdown",
   "metadata": {},
   "source": [
    "\n",
    "# Wie überprüft man die Signifikanz von Trends?\n",
    "\n",
    "Zur Überprüfung der Signifikanz von Trends und Korrelationen wird üblicherweise versucht, die [Nullhypothese](http://de.wikipedia.org/wiki/Hypothese_%28Statistik%29)  zu widerlegen. Die Nullhypothese besagt, dass sich der Trend bzw. die Korrelation mit einer gewissen Wahrscheinlichkeit $1-p$ aus einer zufälligen Zeitreihe ergibt. Nur wenn es unwahrscheinlich ist, dass die Nullhypothese zutrifft, ist die Beziehung als signifikant zu betrachten.\n",
    "\n",
    "Als Monte-Carlo Methode bezeichnet man die Erzeugung von zufälligen Eingangs-Daten zur numerischen Datenanalyse. Mittels  Monte-Carlo Methode können statistische Hypothesen-Tests durchgeführt werden. Indem ein numerisches Experiment wiederholt durchgeführt wird, kann die Anzahl von Ereignissen (z.B. die Korrelation liegt über einem bestimmten Wert) gezählt werden. Diese Vorgehensweise erlaubt einen intuitiven Zugang zur Statistik ohne den Gebrauch \n",
    "\n",
    "## Monte-Carlo  Methode\n"
   ]
  },
  {
   "cell_type": "code",
   "execution_count": 20,
   "metadata": {
    "collapsed": false
   },
   "outputs": [
    {
     "name": "stdout",
     "output_type": "stream",
     "text": [
      "Populating the interactive namespace from numpy and matplotlib\n"
     ]
    }
   ],
   "source": [
    "%pylab inline\n",
    "d=loadtxt('data.txt')[0,:] # 1. Reihe enthält Satellitendaten"
   ]
  },
  {
   "cell_type": "code",
   "execution_count": 12,
   "metadata": {
    "collapsed": false
   },
   "outputs": [
    {
     "data": {
      "text/plain": [
       "21"
      ]
     },
     "execution_count": 12,
     "metadata": {},
     "output_type": "execute_result"
    }
   ],
   "source": [
    "size(d) # 21 Jahre von 1972-1992"
   ]
  },
  {
   "cell_type": "code",
   "execution_count": 21,
   "metadata": {
    "collapsed": false
   },
   "outputs": [
    {
     "data": {
      "text/plain": [
       "<matplotlib.text.Text at 0x7f3dd3355d90>"
      ]
     },
     "execution_count": 21,
     "metadata": {},
     "output_type": "execute_result"
    },
    {
     "data": {
      "image/png": "[encoded data removed]",
      "text/plain": [
       "<matplotlib.figure.Figure at 0x7f3dd3544d90>"
      ]
     },
     "metadata": {},
     "output_type": "display_data"
    }
   ],
   "source": [
    "x=linspace(1972,1992,size(d))\n",
    "plot(x,d)\n",
    "xlabel('Jahr')\n",
    "ylabel('September-Ausdehnung [Mio km$^2$]')\n",
    "title('Meereis in der Arktis')"
   ]
  },
  {
   "cell_type": "code",
   "execution_count": 22,
   "metadata": {
    "collapsed": false
   },
   "outputs": [
    {
     "name": "stdout",
     "output_type": "stream",
     "text": [
      "[ 7.3  7.7  7.5  7.3  7.3  7.2  7.9  7.2  7.9  7.3  7.5  7.5  7.2  6.9  7.5\n",
      "  7.5  7.5  7.   6.2  6.6  7.6]\n",
      "7.31428571429 0.151700680272\n"
     ]
    }
   ],
   "source": [
    "print d\n",
    "print mean(d),var(d)"
   ]
  },
  {
   "cell_type": "code",
   "execution_count": 9,
   "metadata": {
    "collapsed": false
   },
   "outputs": [
    {
     "name": "stdout",
     "output_type": "stream",
     "text": [
      "[ 6.9  6.2  7.5  7.3  6.6  7.5  7.2  7.3  7.3  7.5  7.7  7.5  7.5  7.6  7.3\n",
      "  7.2  7.2  7.   7.5  7.9  7.9]\n",
      "7.31428571429 0.151700680272\n"
     ]
    }
   ],
   "source": [
    "shuffle(d) # Zufällige Umsortierung, Mittelwert und Varianz bleiben erhalten\n",
    "print d\n",
    "print mean(d),var(d)"
   ]
  },
  {
   "cell_type": "code",
   "execution_count": 23,
   "metadata": {
    "collapsed": false
   },
   "outputs": [
    {
     "name": "stdout",
     "output_type": "stream",
     "text": [
      "Ursprüngliche Daten:\n",
      "[ 7.3  7.7  7.5  7.3  7.3  7.2  7.9  7.2  7.9  7.3  7.5  7.5  7.2  6.9  7.5\n",
      "  7.5  7.5  7.   6.2  6.6  7.6]\n",
      "7.31428571429 0.151700680272\n",
      "---------------------------------------------------\n",
      "Zufällige Daten mit gleichen Mittelwert und Varianz\n",
      "[ 6.83425353  7.65762756  7.98784789  7.29579104  7.67775282  7.29482689\n",
      "  7.06558525  7.11139627  7.19067645  6.85082473  7.49567943  7.40183325\n",
      "  8.18283926  7.1007159   6.9247751   6.79388845  6.74773642  7.49600081\n",
      "  7.42026211  7.22486352  7.84482331]\n",
      "7.31428571429 0.151700680272\n",
      "---------------------------------------------------\n",
      "Zufällige Daten (gerundet) mit ähnlichen Mittelwert und Varianz\n",
      "[ 6.8  7.6  7.9  7.2  7.6  7.2  7.   7.1  7.1  6.8  7.4  7.4  8.1  7.1  6.9\n",
      "  6.7  6.7  7.4  7.4  7.2  7.8]\n",
      "7.25714285714 0.145306122449\n",
      "---------------------------------------------------\n"
     ]
    }
   ],
   "source": [
    "d2=randn(21)\n",
    "d2=d2*std(d)/std(d2) # Normiere mit Standardabweichung\n",
    "d2=d2+mean(d-d2) # Anpassen von Mittelwert\n",
    "print 'Ursprüngliche Daten:'\n",
    "print d\n",
    "print mean(d),var(d)\n",
    "print '---------------------------------------------------'\n",
    "print 'Zufällige Daten mit gleichen Mittelwert und Varianz'\n",
    "print d2\n",
    "print mean(d2),var(d2)\n",
    "d2=(d2*10.0).astype(int)/10.0 \n",
    "print '---------------------------------------------------'\n",
    "print 'Zufällige Daten (gerundet) mit ähnlichen Mittelwert und Varianz'\n",
    "print d2\n",
    "print mean(d2),var(d2)\n",
    "print '---------------------------------------------------'"
   ]
  },
  {
   "cell_type": "markdown",
   "metadata": {
    "collapsed": false
   },
   "source": [
    "## Sind zwei Mittelwerte verschieden?\n",
    "\n",
    "Um zu überprüfen, ob möglicherweise ein Trend vorliegt, vergleichen wir zunächst zwei Mittelwerte. Sind die beiden Zeitabschnitte signifikant verschieden, könnte ein Trend vorliegen:\n",
    "\n",
    " *  1972-1982\n",
    " *  1982-1992\n",
    " "
   ]
  },
  {
   "cell_type": "code",
   "execution_count": 18,
   "metadata": {
    "collapsed": false
   },
   "outputs": [
    {
     "name": "stdout",
     "output_type": "stream",
     "text": [
      "7.46\n",
      "7.14\n"
     ]
    }
   ],
   "source": [
    "print mean(d[0:10])\n",
    "print mean(d[10:20])"
   ]
  },
  {
   "cell_type": "markdown",
   "metadata": {},
   "source": [
    "### Aufgabe\n",
    "\n",
    "Die zwei Mittelwerte sind verschieden. Doch ist das Ergebnis auch signifikant? Könnte es rein zufällig sein?\n",
    "Testen Sie die Signifikanz des Unterschieds. Formulieren Sie eine Nullhypothese. Setzen sie die Monte-Carlo Methode ein und beschreiben Sie den Unterschied quantitativ."
   ]
  },
  {
   "cell_type": "code",
   "execution_count": 24,
   "metadata": {
    "collapsed": true
   },
   "outputs": [],
   "source": [
    "!ipython nbconvert --to html Monte\\ Carlo.ipynb &> /dev/null"
   ]
  },
  {
   "cell_type": "code",
   "execution_count": null,
   "metadata": {
    "collapsed": true
   },
   "outputs": [],
   "source": []
  }
 ],
 "metadata": {
  "kernelspec": {
   "display_name": "Python 3",
   "language": "python",
   "name": "python3"
  },
  "language_info": {
   "codemirror_mode": {
    "name": "ipython",
    "version": 3
   },
   "file_extension": ".py",
   "mimetype": "text/x-python",
   "name": "python",
   "nbconvert_exporter": "python",
   "pygments_lexer": "ipython3",
   "version": "3.4.3"
  }
 },
 "nbformat": 4,
 "nbformat_minor": 0
}
